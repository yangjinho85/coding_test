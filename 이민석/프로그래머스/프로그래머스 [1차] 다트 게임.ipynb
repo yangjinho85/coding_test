{
 "cells": [
  {
   "cell_type": "code",
   "execution_count": 1,
   "id": "d6e3fdd6",
   "metadata": {},
   "outputs": [],
   "source": [
    "def solution(dartResult):\n",
    "    \n",
    "    stack=[]\n",
    "    option = {'S':1,'D':2,'T':3}\n",
    "    dartResult = dartResult.replace('10', 'Z')\n",
    "    \n",
    "    for i in dartResult:\n",
    "        if i.isdigit():\n",
    "            stack.append(int(i))\n",
    "        elif i=='Z':\n",
    "            stack.append(10)\n",
    "        elif i in ('S', 'D', 'T'):\n",
    "            ans = stack.pop()\n",
    "            stack.append(ans ** option[i])\n",
    "        elif i == '*':\n",
    "            ans = stack.pop()\n",
    "            if len(stack)>0:\n",
    "                stack[-1] *= 2\n",
    "            stack.append(2 * ans)\n",
    "        elif i == '#':\n",
    "            stack[-1] *= -1\n",
    "\n",
    "    return sum(stack)"
   ]
  },
  {
   "cell_type": "code",
   "execution_count": 7,
   "id": "9731615f",
   "metadata": {},
   "outputs": [
    {
     "data": {
      "text/plain": [
       "37"
      ]
     },
     "execution_count": 7,
     "metadata": {},
     "output_type": "execute_result"
    }
   ],
   "source": [
    "solution('1S2D*3T')"
   ]
  },
  {
   "cell_type": "code",
   "execution_count": 8,
   "id": "1d2c2d1f",
   "metadata": {},
   "outputs": [
    {
     "data": {
      "text/plain": [
       "9"
      ]
     },
     "execution_count": 8,
     "metadata": {},
     "output_type": "execute_result"
    }
   ],
   "source": [
    "solution('1D2S#10S')"
   ]
  },
  {
   "cell_type": "code",
   "execution_count": 9,
   "id": "2247c03c",
   "metadata": {},
   "outputs": [
    {
     "data": {
      "text/plain": [
       "3"
      ]
     },
     "execution_count": 9,
     "metadata": {},
     "output_type": "execute_result"
    }
   ],
   "source": [
    "solution('1D2S0T')"
   ]
  },
  {
   "cell_type": "code",
   "execution_count": 10,
   "id": "985cc2e9",
   "metadata": {},
   "outputs": [
    {
     "data": {
      "text/plain": [
       "23"
      ]
     },
     "execution_count": 10,
     "metadata": {},
     "output_type": "execute_result"
    }
   ],
   "source": [
    "solution('1S*2T*3S\t')"
   ]
  },
  {
   "cell_type": "code",
   "execution_count": 11,
   "id": "8b0e8625",
   "metadata": {},
   "outputs": [
    {
     "data": {
      "text/plain": [
       "5"
      ]
     },
     "execution_count": 11,
     "metadata": {},
     "output_type": "execute_result"
    }
   ],
   "source": [
    "solution('1D#2S*3S')"
   ]
  }
 ],
 "metadata": {
  "kernelspec": {
   "display_name": "Python 3 (ipykernel)",
   "language": "python",
   "name": "python3"
  },
  "language_info": {
   "codemirror_mode": {
    "name": "ipython",
    "version": 3
   },
   "file_extension": ".py",
   "mimetype": "text/x-python",
   "name": "python",
   "nbconvert_exporter": "python",
   "pygments_lexer": "ipython3",
   "version": "3.10.4"
  }
 },
 "nbformat": 4,
 "nbformat_minor": 5
}
