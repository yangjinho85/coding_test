{
 "cells": [
  {
   "cell_type": "code",
   "execution_count": 1,
   "id": "870878d5",
   "metadata": {},
   "outputs": [],
   "source": [
    "class Solution:\n",
    "    def strongPasswordCheckerII(self, password: str) -> bool:\n",
    "        low=0\n",
    "        upp=0\n",
    "        dig=0\n",
    "        spe=0\n",
    "        s=\" \"\n",
    "        spe_c=\"!@#$%^&*()-+\"\n",
    "        for i in password:\n",
    "            if s != i:\n",
    "                if i.islower():\n",
    "                    low += 1\n",
    "                    s=i\n",
    "                if i.isupper():\n",
    "                    upp += 1\n",
    "                    s=i\n",
    "                if i.isdigit():\n",
    "                    dig += 1\n",
    "                    s=i\n",
    "                if i in spe_c:\n",
    "                    spe += 1\n",
    "                    s=i\n",
    "            else:\n",
    "                return False\n",
    "        if low and upp and dig and spe > 0:\n",
    "            return True\n",
    "        "
   ]
  },
  {
   "cell_type": "code",
   "execution_count": 2,
   "id": "e9d5073a",
   "metadata": {},
   "outputs": [
    {
     "name": "stdout",
     "output_type": "stream",
     "text": [
      "True\n"
     ]
    }
   ],
   "source": [
    "password = \"IloveLe3tcode!\"\n",
    "# password = \"Me+You--IsMyDream\"\n",
    "# password = \"1aB!\"\n",
    "\n",
    "answer = Solution().strongPasswordCheckerII(password)\n",
    "print(answer)"
   ]
  },
  {
   "cell_type": "markdown",
   "id": "395f81cc",
   "metadata": {},
   "source": [
    "Runtime: 51 ms, faster than 51.86%  \n",
    "Memory Usage: 13.8 MB, less than 74.94%"
   ]
  }
 ],
 "metadata": {
  "kernelspec": {
   "display_name": "yeardream",
   "language": "python",
   "name": "yeradream"
  },
  "language_info": {
   "codemirror_mode": {
    "name": "ipython",
    "version": 3
   },
   "file_extension": ".py",
   "mimetype": "text/x-python",
   "name": "python",
   "nbconvert_exporter": "python",
   "pygments_lexer": "ipython3",
   "version": "3.8.8"
  }
 },
 "nbformat": 4,
 "nbformat_minor": 5
}
