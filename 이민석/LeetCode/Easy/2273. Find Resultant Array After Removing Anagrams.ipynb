{
 "cells": [
  {
   "cell_type": "code",
   "execution_count": 2,
   "id": "79270da2",
   "metadata": {},
   "outputs": [],
   "source": [
    "from collections import Counter\n",
    "from typing import List\n",
    "class Solution:\n",
    "    def removeAnagrams(self, words: List[str]) -> List[str]:\n",
    "        ans = [words[0]]\n",
    "        n = len(words)\n",
    "        for i in range(1,n):\n",
    "            if Counter(words[i - 1]) == Counter(words[i]):\n",
    "                continue\n",
    "            else:\n",
    "                ans.append(words[i])\n",
    "                \n",
    "        return ans"
   ]
  },
  {
   "cell_type": "code",
   "execution_count": 3,
   "id": "6b81cd28",
   "metadata": {},
   "outputs": [
    {
     "name": "stdout",
     "output_type": "stream",
     "text": [
      "['abba', 'cd']\n"
     ]
    }
   ],
   "source": [
    "words  = [\"abba\",\"baba\",\"bbaa\",\"cd\",\"cd\"]\n",
    "\n",
    "\n",
    "answer = Solution().removeAnagrams(words)\n",
    "print(answer)\n"
   ]
  },
  {
   "cell_type": "markdown",
   "id": "596fde72",
   "metadata": {},
   "source": [
    "Runtime: 145 ms  \n",
    "Memory Usage: 14.1 MB"
   ]
  }
 ],
 "metadata": {
  "kernelspec": {
   "display_name": "Python 3 (ipykernel)",
   "language": "python",
   "name": "python3"
  },
  "language_info": {
   "codemirror_mode": {
    "name": "ipython",
    "version": 3
   },
   "file_extension": ".py",
   "mimetype": "text/x-python",
   "name": "python",
   "nbconvert_exporter": "python",
   "pygments_lexer": "ipython3",
   "version": "3.10.4"
  }
 },
 "nbformat": 4,
 "nbformat_minor": 5
}
