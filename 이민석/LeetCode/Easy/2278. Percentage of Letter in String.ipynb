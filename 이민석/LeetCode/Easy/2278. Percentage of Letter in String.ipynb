{
 "cells": [
  {
   "cell_type": "code",
   "execution_count": 5,
   "id": "b16c999a",
   "metadata": {},
   "outputs": [],
   "source": [
    "class Solution:\n",
    "    def percentageLetter(self, s: str, letter: str) -> int:\n",
    "         \n",
    "        cnt = 0\n",
    "        for i in s:\n",
    "            if i == letter:\n",
    "                cnt += 1\n",
    "                \n",
    "        return int(cnt/len(s)*100)"
   ]
  },
  {
   "cell_type": "code",
   "execution_count": 8,
   "id": "ebc9b56c",
   "metadata": {},
   "outputs": [
    {
     "name": "stdout",
     "output_type": "stream",
     "text": [
      "33\n"
     ]
    }
   ],
   "source": [
    "s = \"foobar\"\n",
    "letter = \"o\"\n",
    "\n",
    "answer = Solution().percentageLetter(s,letter)\n",
    "print(answer)\n"
   ]
  },
  {
   "cell_type": "markdown",
   "id": "46a6159a",
   "metadata": {},
   "source": [
    "Runtime: 44 ms  \n",
    "Memory Usage: 14 MB"
   ]
  }
 ],
 "metadata": {
  "kernelspec": {
   "display_name": "Python 3 (ipykernel)",
   "language": "python",
   "name": "python3"
  },
  "language_info": {
   "codemirror_mode": {
    "name": "ipython",
    "version": 3
   },
   "file_extension": ".py",
   "mimetype": "text/x-python",
   "name": "python",
   "nbconvert_exporter": "python",
   "pygments_lexer": "ipython3",
   "version": "3.10.4"
  }
 },
 "nbformat": 4,
 "nbformat_minor": 5
}
