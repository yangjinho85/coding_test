{
 "cells": [
  {
   "cell_type": "code",
   "execution_count": 24,
   "id": "d9a3c557",
   "metadata": {},
   "outputs": [],
   "source": [
    "from typing import List\n",
    "class Solution:\n",
    "    def minMaxGame(self, nums: List[int]) -> int:\n",
    "        while len(nums) != 1:\n",
    "            lst = [] \n",
    "            for i in range(0,len(nums),2):\n",
    "                if (i//2)%2 == 0:\n",
    "                    lst.append(min(nums[i],nums[i+1]))\n",
    "                else:\n",
    "                    lst.append(max(nums[i],nums[i+1]))\n",
    "            nums = lst\n",
    "\n",
    "        return nums[0]"
   ]
  },
  {
   "cell_type": "code",
   "execution_count": 25,
   "id": "7d80e678",
   "metadata": {},
   "outputs": [
    {
     "name": "stdout",
     "output_type": "stream",
     "text": [
      "1\n"
     ]
    }
   ],
   "source": [
    "nums = [1,3,5,2,4,8,2,2]\n",
    "\n",
    "answer = Solution().minMaxGame(nums)\n",
    "print(answer)\n"
   ]
  },
  {
   "cell_type": "code",
   "execution_count": null,
   "id": "c0ffb999",
   "metadata": {},
   "outputs": [],
   "source": []
  }
 ],
 "metadata": {
  "kernelspec": {
   "display_name": "Python 3 (ipykernel)",
   "language": "python",
   "name": "python3"
  },
  "language_info": {
   "codemirror_mode": {
    "name": "ipython",
    "version": 3
   },
   "file_extension": ".py",
   "mimetype": "text/x-python",
   "name": "python",
   "nbconvert_exporter": "python",
   "pygments_lexer": "ipython3",
   "version": "3.10.4"
  }
 },
 "nbformat": 4,
 "nbformat_minor": 5
}
