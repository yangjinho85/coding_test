{
 "cells": [
  {
   "cell_type": "code",
   "execution_count": 1,
   "id": "8d8891d7",
   "metadata": {},
   "outputs": [],
   "source": [
    "class Solution:\n",
    "    def greatestLetter(self, s: str) -> str:\n",
    "        alp=\"ABCDEFGHIJKLMNOPQRSTUVWXYZ\"\n",
    "        l=[]\n",
    "        for i in alp:\n",
    "            if i in s and i.lower() in s:\n",
    "                l.append(i.upper())\n",
    "            else:\n",
    "                l.append(\"\")\n",
    "        l.sort()\n",
    "        return l[-1]\n",
    "        "
   ]
  },
  {
   "cell_type": "code",
   "execution_count": 2,
   "id": "1060d48d",
   "metadata": {},
   "outputs": [
    {
     "name": "stdout",
     "output_type": "stream",
     "text": [
      "E\n",
      "R\n"
     ]
    }
   ],
   "source": [
    "s = \"lEeTcOdE\"\n",
    "\n",
    "answer = Solution().greatestLetter(s)\n",
    "print(answer)\n",
    "\n",
    "\n",
    "s = \"arRAzFif\"\n",
    "answer = Solution().greatestLetter(s)\n",
    "print(answer)"
   ]
  },
  {
   "cell_type": "markdown",
   "id": "7423e101",
   "metadata": {},
   "source": [
    "### Runtime: 43 ms  \n",
    "### Memory Usage: 13.9 MB"
   ]
  }
 ],
 "metadata": {
  "kernelspec": {
   "display_name": "Python 3 (ipykernel)",
   "language": "python",
   "name": "python3"
  },
  "language_info": {
   "codemirror_mode": {
    "name": "ipython",
    "version": 3
   },
   "file_extension": ".py",
   "mimetype": "text/x-python",
   "name": "python",
   "nbconvert_exporter": "python",
   "pygments_lexer": "ipython3",
   "version": "3.10.4"
  }
 },
 "nbformat": 4,
 "nbformat_minor": 5
}
