{
 "cells": [
  {
   "cell_type": "code",
   "execution_count": 1,
   "id": "74c7e782",
   "metadata": {},
   "outputs": [],
   "source": [
    "#첫번째 코드\n",
    "class Solution:\n",
    "    def countAsterisks(self, s: str) -> int:\n",
    "        n = len(s)\n",
    "        star = 0\n",
    "        bar = 0\n",
    "        for i in range(n):\n",
    "            if s[i] == \"|\":\n",
    "                bar += 1\n",
    "                \n",
    "            if s[i] == \"*\" and bar % 2 == 0:\n",
    "                star += 1\n",
    "                \n",
    "        return star"
   ]
  },
  {
   "cell_type": "markdown",
   "id": "2883d029",
   "metadata": {},
   "source": [
    "### Runtime: 88 ms  \n",
    "### Memory Usage: 13.9 MB"
   ]
  },
  {
   "cell_type": "code",
   "execution_count": 4,
   "id": "0dfc87c8",
   "metadata": {},
   "outputs": [],
   "source": [
    "#수정 코드\n",
    "class Solution:\n",
    "    def countAsterisks(self, s: str) -> int:\n",
    "        bar=0\n",
    "        star = 0\n",
    "        for i in s:\n",
    "            if i == \"|\":\n",
    "                if bar == 0:\n",
    "                    bar +=1\n",
    "                    continue\n",
    "                elif bar == 1:\n",
    "                    bar = 0\n",
    "                    continue\n",
    "            elif i == '*':\n",
    "                if bar == 0:    \n",
    "                    star+=1\n",
    "        return star\n",
    "                "
   ]
  },
  {
   "cell_type": "markdown",
   "id": "4d1ebc04",
   "metadata": {},
   "source": [
    "### Runtime: 47 ms  \n",
    "### Memory Usage: 13.9 MB"
   ]
  },
  {
   "cell_type": "code",
   "execution_count": 3,
   "id": "81637c56",
   "metadata": {},
   "outputs": [
    {
     "name": "stdout",
     "output_type": "stream",
     "text": [
      "2\n",
      "0\n"
     ]
    }
   ],
   "source": [
    "s = \"l|*e*et|c**o|*de|\"\n",
    "\n",
    "answer = Solution().countAsterisks(s)\n",
    "print(answer)\n",
    "\n",
    "\n",
    "s = \"iamprogrammer\"\n",
    "answer = Solution().countAsterisks(s)\n",
    "print(answer)"
   ]
  }
 ],
 "metadata": {
  "kernelspec": {
   "display_name": "Python 3 (ipykernel)",
   "language": "python",
   "name": "python3"
  },
  "language_info": {
   "codemirror_mode": {
    "name": "ipython",
    "version": 3
   },
   "file_extension": ".py",
   "mimetype": "text/x-python",
   "name": "python",
   "nbconvert_exporter": "python",
   "pygments_lexer": "ipython3",
   "version": "3.10.4"
  }
 },
 "nbformat": 4,
 "nbformat_minor": 5
}
