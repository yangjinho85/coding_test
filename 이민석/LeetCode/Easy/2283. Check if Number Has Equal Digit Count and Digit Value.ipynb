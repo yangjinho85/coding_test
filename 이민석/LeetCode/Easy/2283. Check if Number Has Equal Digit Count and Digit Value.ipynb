{
 "cells": [
  {
   "cell_type": "code",
   "execution_count": 1,
   "id": "dd6442df",
   "metadata": {},
   "outputs": [],
   "source": [
    "class Solution:\n",
    "    def digitCount(self, num: str) -> bool:\n",
    "        n = len(num)\n",
    "        \n",
    "        for i in range(n):\n",
    "            if int(num[i]) != num.count(str(i)):\n",
    "                return False\n",
    "        return True"
   ]
  },
  {
   "cell_type": "code",
   "execution_count": 2,
   "id": "45632df3",
   "metadata": {},
   "outputs": [
    {
     "name": "stdout",
     "output_type": "stream",
     "text": [
      "True\n"
     ]
    }
   ],
   "source": [
    "num = \"1210\"\n",
    "# num = \"030\"\n",
    "answer = Solution().digitCount(num)\n",
    "print(answer)\n"
   ]
  },
  {
   "cell_type": "markdown",
   "id": "b38cbffa",
   "metadata": {},
   "source": [
    "Runtime: 53 ms  \n",
    "Memory Usage: 13.8 MB"
   ]
  }
 ],
 "metadata": {
  "kernelspec": {
   "display_name": "Python 3 (ipykernel)",
   "language": "python",
   "name": "python3"
  },
  "language_info": {
   "codemirror_mode": {
    "name": "ipython",
    "version": 3
   },
   "file_extension": ".py",
   "mimetype": "text/x-python",
   "name": "python",
   "nbconvert_exporter": "python",
   "pygments_lexer": "ipython3",
   "version": "3.10.4"
  }
 },
 "nbformat": 4,
 "nbformat_minor": 5
}
