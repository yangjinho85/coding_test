{
 "cells": [
  {
   "cell_type": "code",
   "execution_count": 1,
   "id": "ce39b25e",
   "metadata": {},
   "outputs": [],
   "source": [
    "class Solution:\n",
    "    def removeDigit(self, number: str, digit: str) -> str:\n",
    "        temp=[]\n",
    "        for i in range(len(number)):\n",
    "            if number[i]==digit:\n",
    "                temp.append(int(number[:i]+number[i+1:]))\n",
    "        return str(max(temp))"
   ]
  },
  {
   "cell_type": "code",
   "execution_count": 2,
   "id": "09c27d6d",
   "metadata": {},
   "outputs": [
    {
     "name": "stdout",
     "output_type": "stream",
     "text": [
      "231\n"
     ]
    }
   ],
   "source": [
    "number = \"1231\"\n",
    "digit = \"1\"\n",
    "\n",
    "answer = Solution().removeDigit(number, digit)\n",
    "print(answer)\n"
   ]
  },
  {
   "cell_type": "markdown",
   "id": "a526d8d3",
   "metadata": {},
   "source": [
    "Runtime: 43 ms  \n",
    "Memory Usage: 13.9 MB"
   ]
  }
 ],
 "metadata": {
  "kernelspec": {
   "display_name": "Python 3 (ipykernel)",
   "language": "python",
   "name": "python3"
  },
  "language_info": {
   "codemirror_mode": {
    "name": "ipython",
    "version": 3
   },
   "file_extension": ".py",
   "mimetype": "text/x-python",
   "name": "python",
   "nbconvert_exporter": "python",
   "pygments_lexer": "ipython3",
   "version": "3.10.4"
  }
 },
 "nbformat": 4,
 "nbformat_minor": 5
}
