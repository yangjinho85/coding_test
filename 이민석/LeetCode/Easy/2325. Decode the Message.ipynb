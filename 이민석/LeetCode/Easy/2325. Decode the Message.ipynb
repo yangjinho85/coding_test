{
 "cells": [
  {
   "cell_type": "code",
   "execution_count": 1,
   "id": "5aecd83e",
   "metadata": {},
   "outputs": [],
   "source": [
    "class Solution(object):\n",
    "    def decodeMessage(self, key, message):\n",
    "        abc=\"abcdefghijklmnopqrstuvwxyz\"\n",
    "        key = key.replace(\" \",\"\")\n",
    "        dict={}\n",
    "        n=0\n",
    "        ans=\"\"\n",
    " \n",
    "        for i in key:\n",
    "            if i not in dict:\n",
    "                dict[i]=abc[n]\n",
    "                n+=1\n",
    "        \n",
    "        for j in message:\n",
    "            if j==\" \":\n",
    "                ans+=\" \"\n",
    "            else:\n",
    "                ans+=dict[j]\n",
    "        return ans"
   ]
  },
  {
   "cell_type": "code",
   "execution_count": 2,
   "id": "13b62b76",
   "metadata": {},
   "outputs": [],
   "source": [
    "Solution1 = Solution()"
   ]
  },
  {
   "cell_type": "code",
   "execution_count": 3,
   "id": "7823360f",
   "metadata": {},
   "outputs": [],
   "source": [
    "key = \"the quick brown fox jumps over the lazy dog\"\n",
    "message = \"vkbs bs t suepuv\""
   ]
  },
  {
   "cell_type": "code",
   "execution_count": 4,
   "id": "4f36ad8c",
   "metadata": {},
   "outputs": [
    {
     "data": {
      "text/plain": [
       "'this is a secret'"
      ]
     },
     "execution_count": 4,
     "metadata": {},
     "output_type": "execute_result"
    }
   ],
   "source": [
    "Solution1.decodeMessage(key,message)"
   ]
  }
 ],
 "metadata": {
  "kernelspec": {
   "display_name": "Python 3 (ipykernel)",
   "language": "python",
   "name": "python3"
  },
  "language_info": {
   "codemirror_mode": {
    "name": "ipython",
    "version": 3
   },
   "file_extension": ".py",
   "mimetype": "text/x-python",
   "name": "python",
   "nbconvert_exporter": "python",
   "pygments_lexer": "ipython3",
   "version": "3.10.4"
  }
 },
 "nbformat": 4,
 "nbformat_minor": 5
}
