{
 "cells": [
  {
   "cell_type": "code",
   "execution_count": 1,
   "id": "0ba3cbbc",
   "metadata": {},
   "outputs": [],
   "source": [
    "class Solution:\n",
    "    def mySqrt(self, x: int) -> int:\n",
    "        l, r = 0, x\n",
    "        \n",
    "        while l <= r:\n",
    "            \n",
    "            mid = (l + r)//2\n",
    "            \n",
    "            if mid**2 == x:\n",
    "                return mid\n",
    "            \n",
    "            if mid**2 > x:\n",
    "                r = mid-1\n",
    "            else:\n",
    "                l = mid+1\n",
    "        return l-1"
   ]
  },
  {
   "cell_type": "code",
   "execution_count": 3,
   "id": "2f2634df",
   "metadata": {},
   "outputs": [
    {
     "name": "stdout",
     "output_type": "stream",
     "text": [
      "2\n"
     ]
    }
   ],
   "source": [
    "x = 4\n",
    "\n",
    "answer = Solution().mySqrt(x)\n",
    "print(answer)"
   ]
  },
  {
   "cell_type": "code",
   "execution_count": 4,
   "id": "14dd58bf",
   "metadata": {},
   "outputs": [
    {
     "name": "stdout",
     "output_type": "stream",
     "text": [
      "2\n"
     ]
    }
   ],
   "source": [
    "x = 8\n",
    "\n",
    "answer = Solution().mySqrt(x)\n",
    "print(answer)"
   ]
  }
 ],
 "metadata": {
  "kernelspec": {
   "display_name": "Python 3 (ipykernel)",
   "language": "python",
   "name": "python3"
  },
  "language_info": {
   "codemirror_mode": {
    "name": "ipython",
    "version": 3
   },
   "file_extension": ".py",
   "mimetype": "text/x-python",
   "name": "python",
   "nbconvert_exporter": "python",
   "pygments_lexer": "ipython3",
   "version": "3.10.4"
  }
 },
 "nbformat": 4,
 "nbformat_minor": 5
}
