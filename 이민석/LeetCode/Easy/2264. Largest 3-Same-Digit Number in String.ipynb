{
 "cells": [
  {
   "cell_type": "code",
   "execution_count": 18,
   "id": "2eda2256",
   "metadata": {},
   "outputs": [],
   "source": [
    "class Solution:\n",
    "    def largestGoodInteger(self, num: str) -> str:\n",
    "        \n",
    "        temp = [] \n",
    "        cnt = 1\n",
    "        for i in range(1, len(num)):\n",
    "            if num[i] == num[i-1]:\n",
    "                cnt+=1\n",
    "            else:\n",
    "                cnt = 1\n",
    "            if cnt == 3:\n",
    "                temp.append(num[i] * 3)\n",
    "                \n",
    "        return max(temp)"
   ]
  },
  {
   "cell_type": "code",
   "execution_count": 19,
   "id": "fd4bd6ed",
   "metadata": {},
   "outputs": [
    {
     "name": "stdout",
     "output_type": "stream",
     "text": [
      "777\n"
     ]
    }
   ],
   "source": [
    "num = \"6777133339\"\n",
    "\n",
    "answer = Solution().largestGoodInteger(num)\n",
    "print(answer)"
   ]
  },
  {
   "cell_type": "markdown",
   "id": "ccb0a424",
   "metadata": {},
   "source": [
    "Runtime: 65 ms  \n",
    "Memory Usage: 14 MB"
   ]
  },
  {
   "cell_type": "code",
   "execution_count": null,
   "id": "6208fd65",
   "metadata": {},
   "outputs": [],
   "source": []
  }
 ],
 "metadata": {
  "kernelspec": {
   "display_name": "yeardream",
   "language": "python",
   "name": "yeradream"
  },
  "language_info": {
   "codemirror_mode": {
    "name": "ipython",
    "version": 3
   },
   "file_extension": ".py",
   "mimetype": "text/x-python",
   "name": "python",
   "nbconvert_exporter": "python",
   "pygments_lexer": "ipython3",
   "version": "3.8.8"
  }
 },
 "nbformat": 4,
 "nbformat_minor": 5
}
