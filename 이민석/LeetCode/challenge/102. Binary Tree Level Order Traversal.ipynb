{
 "cells": [
  {
   "cell_type": "code",
   "execution_count": 1,
   "id": "d65d37e6",
   "metadata": {},
   "outputs": [],
   "source": [
    "from typing import List\n",
    "from collections import deque\n",
    "# Definition for a binary tree node.\n",
    "class TreeNode:\n",
    "    def __init__(self, val=0, left=None, right=None):\n",
    "        self.val = val\n",
    "        self.left = left\n",
    "        self.right = right\n",
    "class Solution:\n",
    "    def levelOrder(self, root: Optional[TreeNode]) -> List[List[int]]:\n",
    "        \n",
    "        ans = []\n",
    "        q = deque()\n",
    "        q.append(root)\n",
    "        while q:\n",
    "            temp = []\n",
    "            qSize = len(q)\n",
    "            for i in range(qSize):\n",
    "                cur = q.popleft()\n",
    "                if cur:\n",
    "                    q.append(cur.left)\n",
    "                    q.append(cur.right)\n",
    "                    temp.append(cur.val)\n",
    "            if temp:\n",
    "                ans.append(temp)\n",
    "            \n",
    "        return ans\n",
    "    \n",
    "\n",
    "    "
   ]
  },
  {
   "cell_type": "code",
   "execution_count": 2,
   "id": "72537ab0",
   "metadata": {},
   "outputs": [
    {
     "name": "stdout",
     "output_type": "stream",
     "text": [
      "[[3], [9, 20], [15, 7]]\n"
     ]
    }
   ],
   "source": [
    "root = TreeNode(3)\n",
    "root.left = TreeNode(9)\n",
    "root.right = TreeNode(20)\n",
    "root.right.left = TreeNode(15)\n",
    "root.right.right = TreeNode(7)\n",
    "\n",
    "answer= Solution().levelOrder(root)\n",
    "print(answer)"
   ]
  },
  {
   "cell_type": "markdown",
   "id": "1a06aa7f",
   "metadata": {},
   "source": [
    "Runtime: 36 ms  \n",
    "Memory Usage: 14.3 MB"
   ]
  }
 ],
 "metadata": {
  "kernelspec": {
   "display_name": "Python 3 (ipykernel)",
   "language": "python",
   "name": "python3"
  },
  "language_info": {
   "codemirror_mode": {
    "name": "ipython",
    "version": 3
   },
   "file_extension": ".py",
   "mimetype": "text/x-python",
   "name": "python",
   "nbconvert_exporter": "python",
   "pygments_lexer": "ipython3",
   "version": "3.10.4"
  }
 },
 "nbformat": 4,
 "nbformat_minor": 5
}
