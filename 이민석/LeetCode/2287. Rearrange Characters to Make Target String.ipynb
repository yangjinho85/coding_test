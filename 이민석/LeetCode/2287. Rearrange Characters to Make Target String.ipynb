{
 "cells": [
  {
   "cell_type": "code",
   "execution_count": 4,
   "id": "cae8d059",
   "metadata": {},
   "outputs": [],
   "source": [
    "from collections import Counter\n",
    "class Solution:\n",
    "    def rearrangeCharacters(self, s: str, target: str) -> int:\n",
    "        c1=Counter(s)\n",
    "        c2=Counter(target)\n",
    "        ans=0\n",
    "        while (c1&c2)==c2:\n",
    "            \n",
    "            ans+=1\n",
    "            c1=c1-c2\n",
    "        return (ans)"
   ]
  },
  {
   "cell_type": "code",
   "execution_count": 5,
   "id": "eee61e19",
   "metadata": {},
   "outputs": [
    {
     "name": "stdout",
     "output_type": "stream",
     "text": [
      "2\n"
     ]
    }
   ],
   "source": [
    "s = \"ilovecodingonleetcode\"\n",
    "target = \"code\"\n",
    "answer = Solution().rearrangeCharacters(s,target)\n",
    "print(answer)\n"
   ]
  },
  {
   "cell_type": "markdown",
   "id": "34b03547",
   "metadata": {},
   "source": [
    "Runtime: 70 ms  \n",
    "Memory Usage: 13.9 MB"
   ]
  }
 ],
 "metadata": {
  "kernelspec": {
   "display_name": "Python 3 (ipykernel)",
   "language": "python",
   "name": "python3"
  },
  "language_info": {
   "codemirror_mode": {
    "name": "ipython",
    "version": 3
   },
   "file_extension": ".py",
   "mimetype": "text/x-python",
   "name": "python",
   "nbconvert_exporter": "python",
   "pygments_lexer": "ipython3",
   "version": "3.10.4"
  }
 },
 "nbformat": 4,
 "nbformat_minor": 5
}
