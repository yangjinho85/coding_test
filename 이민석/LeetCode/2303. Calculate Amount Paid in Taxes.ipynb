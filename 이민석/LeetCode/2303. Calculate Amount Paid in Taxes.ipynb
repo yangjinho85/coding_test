{
 "cells": [
  {
   "cell_type": "code",
   "execution_count": 1,
   "id": "5617330a",
   "metadata": {},
   "outputs": [],
   "source": [
    "class Solution:\n",
    "    def calculateTax(self, brackets: List[List[int]], income: int) -> float:\n",
    "        ans = 0\n",
    "        x = 0\n",
    "        y=len(brackets)\n",
    "        \n",
    "        for i in range(y):\n",
    "            if brackets[i][0]-x < income:\n",
    "                income -= (brackets[i][0] - x)\n",
    "                ans += (brackets[i][0] - x) * (brackets[i][1]/100)\n",
    "                x = brackets[i][0]\n",
    "            else:\n",
    "                ans += income * (brackets[i][1]/100)\n",
    "                break\n",
    "        return ans\n",
    "                \n",
    "            "
   ]
  },
  {
   "cell_type": "markdown",
   "id": "beebbf73",
   "metadata": {},
   "source": []
  }
 ],
 "metadata": {
  "kernelspec": {
   "display_name": "Python 3 (ipykernel)",
   "language": "python",
   "name": "python3"
  },
  "language_info": {
   "codemirror_mode": {
    "name": "ipython",
    "version": 3
   },
   "file_extension": ".py",
   "mimetype": "text/x-python",
   "name": "python",
   "nbconvert_exporter": "python",
   "pygments_lexer": "ipython3",
   "version": "3.10.4"
  }
 },
 "nbformat": 4,
 "nbformat_minor": 5
}
