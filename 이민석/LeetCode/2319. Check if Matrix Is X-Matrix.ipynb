{
 "cells": [
  {
   "cell_type": "code",
   "execution_count": 3,
   "id": "4e98e2d1",
   "metadata": {},
   "outputs": [],
   "source": [
    "from typing import List"
   ]
  },
  {
   "cell_type": "code",
   "execution_count": 4,
   "id": "7d32b507",
   "metadata": {},
   "outputs": [],
   "source": [
    "class Solution:\n",
    "    def checkXMatrix(self, grid: List[List[int]]) -> bool:\n",
    "        n=len(grid)\n",
    "        \n",
    "        for row in range(n):\n",
    "            for col in range(n):\n",
    "                if row == col or row+col == n-1:\n",
    "                    if grid[row][col] == 0:\n",
    "                        return False\n",
    "                else:\n",
    "                    if grid[row][col] != 0:\n",
    "                        return False\n",
    "                \n",
    "        return True\n",
    "                "
   ]
  },
  {
   "cell_type": "code",
   "execution_count": 5,
   "id": "3760a714",
   "metadata": {},
   "outputs": [
    {
     "name": "stdout",
     "output_type": "stream",
     "text": [
      "True\n",
      "True\n"
     ]
    }
   ],
   "source": [
    "grid = [[2,0,0,1],[0,3,1,0],[0,5,2,0],[4,0,0,2]]\n",
    "\n",
    "answer = Solution().checkXMatrix(grid)\n",
    "print(answer)\n",
    "grid = [[2,0,0,1],[0,3,1,0],[0,5,2,0],[4,0,0,2]]\n",
    "\n",
    "answer = Solution().checkXMatrix(grid)\n",
    "print(answer)"
   ]
  },
  {
   "cell_type": "markdown",
   "id": "9a1e752c",
   "metadata": {},
   "source": [
    "### Runtime: 311 ms  \n",
    "### Memory Usage: 15 MB"
   ]
  }
 ],
 "metadata": {
  "kernelspec": {
   "display_name": "Python 3 (ipykernel)",
   "language": "python",
   "name": "python3"
  },
  "language_info": {
   "codemirror_mode": {
    "name": "ipython",
    "version": 3
   },
   "file_extension": ".py",
   "mimetype": "text/x-python",
   "name": "python",
   "nbconvert_exporter": "python",
   "pygments_lexer": "ipython3",
   "version": "3.10.4"
  }
 },
 "nbformat": 4,
 "nbformat_minor": 5
}
