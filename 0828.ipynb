{
  "nbformat": 4,
  "nbformat_minor": 0,
  "metadata": {
    "colab": {
      "name": "0828.ipynb",
      "provenance": [],
      "authorship_tag": "ABX9TyOjhiaQu+pon99TYosCa9Ya"
    },
    "kernelspec": {
      "name": "python3",
      "display_name": "Python 3"
    },
    "language_info": {
      "name": "python"
    }
  },
  "cells": [
    {
      "cell_type": "markdown",
      "source": [
        "#<a href=\"https://www.acmicpc.net/problem/4153\">직각삼각형</a>"
      ],
      "metadata": {
        "id": "qcSA9nYvHMlq"
      }
    },
    {
      "cell_type": "code",
      "execution_count": 13,
      "metadata": {
        "colab": {
          "base_uri": "https://localhost:8080/"
        },
        "id": "7W-g7v9vEh84",
        "outputId": "7adcddb1-91b0-4613-c7a3-a50491c5ec0c"
      },
      "outputs": [
        {
          "name": "stdout",
          "output_type": "stream",
          "text": [
            "6 8 10\n",
            "right\n",
            "25 52 60\n",
            "wrong\n",
            "5 12 13\n",
            "right\n",
            "0 0 0\n"
          ]
        }
      ],
      "source": [
        "while True:\n",
        "    t=list(map(int,input().split()))\n",
        "    if t==[0,0,0]:\n",
        "        break\n",
        "    t.sort()\n",
        "    check=(t[0]**2)+(t[1]**2)\n",
        "    if t[2]**2 == check:\n",
        "        print(\"right\")\n",
        "    else:\n",
        "        print(\"wrong\")\n",
        "    "
      ]
    },
    {
      "cell_type": "markdown",
      "source": [
        "#<a href=\"https://www.acmicpc.net/problem/1100\">하얀칸</a>"
      ],
      "metadata": {
        "id": "TYudifqUgmzn"
      }
    },
    {
      "cell_type": "code",
      "source": [
        "b=[]\n",
        "a=[]\n",
        "count=0\n",
        "for i in range(8):\n",
        "    c=input()\n",
        "    for j in range(8):\n",
        "        a.append(c[j])        \n",
        "        if i % 2 ==0:\n",
        "            if j % 2 ==0:\n",
        "                b.append('F')\n",
        "            else:\n",
        "                b.append('.')\n",
        "        else:\n",
        "            if j % 2 ==0:\n",
        "                b.append('.')\n",
        "            else:\n",
        "                b.append('F')\n",
        "\n",
        "\n",
        "for i in range(len(b)):\n",
        "    if b[i]==a[i] and b[i]=='F':\n",
        "        count+=1\n",
        "print(count)"
      ],
      "metadata": {
        "colab": {
          "base_uri": "https://localhost:8080/"
        },
        "id": "5LQYG6qUSwa4",
        "outputId": "2a7b8396-c6d8-4a1e-8218-650176db1907"
      },
      "execution_count": 63,
      "outputs": [
        {
          "output_type": "stream",
          "name": "stdout",
          "text": [
            ".F.F...F\n",
            "F...F.F.\n",
            "...F.F.F\n",
            "F.F...F.\n",
            ".F...F..\n",
            "F...F.F.\n",
            ".F.F.F.F\n",
            "..FF..F.\n",
            "1\n"
          ]
        }
      ]
    },
    {
      "cell_type": "markdown",
      "source": [
        "#<a href=\"https://www.acmicpc.net/problem/13458\">시험감독</a>"
      ],
      "metadata": {
        "id": "IKWP8awFu7eW"
      }
    },
    {
      "cell_type": "code",
      "source": [
        "import math\n",
        "n=int(input())\n",
        "a=list(map(int,input().split()))\n",
        "b,c=map(int,input().split())\n",
        "num=0\n",
        "count=0\n",
        "for i in a:\n",
        "    num=i-b\n",
        "    if num <= 0:\n",
        "        count+=1\n",
        "    else:\n",
        "        count+=1\n",
        "        count+=math.ceil(num/c)\n",
        "        \n",
        "print(count)"
      ],
      "metadata": {
        "colab": {
          "base_uri": "https://localhost:8080/"
        },
        "id": "dhGSCDAGkFbs",
        "outputId": "582fac16-84cc-44a0-9b34-6d24cb9b9c63"
      },
      "execution_count": 113,
      "outputs": [
        {
          "output_type": "stream",
          "name": "stdout",
          "text": [
            "8\n",
            "5 10 30 235 1 23 24 101\n",
            "10 3\n",
            "131\n"
          ]
        }
      ]
    },
    {
      "cell_type": "code",
      "source": [],
      "metadata": {
        "id": "4zBW2lu5tcrM"
      },
      "execution_count": null,
      "outputs": []
    }
  ]
}