{
 "cells": [
  {
   "cell_type": "code",
   "execution_count": null,
   "metadata": {},
   "outputs": [],
   "source": [
    "# 처음 짰던 코드\n",
    "for _ in range(int(input())):\n",
    "    N, M = list(map(int, input().split()))\n",
    "    importance_list = list(map(int, input().split()))\n",
    "\n",
    "    cnt = 0\n",
    "    for i in range(1<<20):\n",
    "        if importance_list[i % N] == max(importance_list):\n",
    "            importance_list[i % N] = 0 # 0이 되면 출력된 것\n",
    "            cnt += 1\n",
    "        if importance_list[M] == 0:\n",
    "            break\n",
    "\n",
    "    print(cnt)"
   ]
  },
  {
   "cell_type": "markdown",
   "metadata": {},
   "source": [
    "![](memory-sizes-to-yotta.png)"
   ]
  },
  {
   "cell_type": "code",
   "execution_count": 3,
   "metadata": {},
   "outputs": [
    {
     "name": "stdout",
     "output_type": "stream",
     "text": [
      "1024\n",
      "1048576\n",
      "1073741824\n",
      "1099511627776\n",
      "1125899906842624\n"
     ]
    }
   ],
   "source": [
    "# 2^10은 10^3과 대략 비슷합니다. 컴공과 꿀팁\n",
    "print(1<<10) # 1Kilo 1,000\n",
    "print(1<<20) # 1Mega 1,000,000\n",
    "print(1<<30) # 1Giga 1,000,000,000\n",
    "print(1<<40) # 1Tera ...\n",
    "print(1<<50) # 1Peta\n",
    "# 콤마가 3자리마다 찍히기 때문에 만 단위보다는, 천 단위가 많이 쓰입니다.\n",
    "# 만, 억, 조 -> 천, 100만, 10억"
   ]
  },
  {
   "cell_type": "code",
   "execution_count": null,
   "metadata": {},
   "outputs": [],
   "source": [
    "# 오래돼서 기억이 안 나서 다시 풀어봤습니다.\n",
    "# 그런데 처음 풀었던 게 나아보이네요.\n",
    "def solve():\n",
    "    n, m = map(int, input().split())\n",
    "    num_list = list(map(int, input().split()))\n",
    "\n",
    "    cnt = 0\n",
    "    last = 0 # 마지막 출력 문서 인덱스\n",
    "    new = 0\n",
    "    for p in reversed(range(1, 10)): # 우선순위 높은 것 부터\n",
    "        for i in range(n): # num_list한 바퀴 순회함\n",
    "            idx = (i + last) % n            \n",
    "            if num_list[idx] == p:\n",
    "                cnt += 1\n",
    "                new = idx\n",
    "\n",
    "                if idx == m:\n",
    "                    return cnt        \n",
    "        last = new\n",
    "\n",
    "\n",
    "for _ in range(int(input())):\n",
    "    result = solve()\n",
    "    print(result)       \n"
   ]
  },
  {
   "cell_type": "markdown",
   "metadata": {},
   "source": [
    "## 타인 코드"
   ]
  },
  {
   "cell_type": "code",
   "execution_count": null,
   "metadata": {},
   "outputs": [],
   "source": [
    "# 강사님 풀이\n",
    "for _ in range(int(input())):\n",
    "    n, m = list(map(int, input().split()))\n",
    "    q = list(map(int, input().split()))\n",
    "    q = [(i, idx) for idx, i in enumerate(q)]\n",
    "\n",
    "    count = 0\n",
    "    while True:\n",
    "        if q[0][0] == max(q, key=lambda x: x[0])[0]:\n",
    "            count += 1\n",
    "            if q[0][1] == m:\n",
    "                print(count)\n",
    "                break\n",
    "            else:\n",
    "                q.pop(0)\n",
    "        else:\n",
    "            q.append(q.pop(0)) # 가장 높은 중요도가 아니면, 맨 뒤로 옮김\n"
   ]
  }
 ],
 "metadata": {
  "interpreter": {
   "hash": "ad2bdc8ecc057115af97d19610ffacc2b4e99fae6737bb82f5d7fb13d2f2c186"
  },
  "kernelspec": {
   "display_name": "Python 3.9.7 ('base')",
   "language": "python",
   "name": "python3"
  },
  "language_info": {
   "codemirror_mode": {
    "name": "ipython",
    "version": 3
   },
   "file_extension": ".py",
   "mimetype": "text/x-python",
   "name": "python",
   "nbconvert_exporter": "python",
   "pygments_lexer": "ipython3",
   "version": "3.9.7"
  },
  "orig_nbformat": 4
 },
 "nbformat": 4,
 "nbformat_minor": 2
}
