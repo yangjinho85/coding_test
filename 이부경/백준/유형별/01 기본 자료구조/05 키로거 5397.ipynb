{
 "cells": [
  {
   "cell_type": "markdown",
   "metadata": {},
   "source": [
    "## 내 코드\n",
    "- deque를 써야만 통과 됩니다.    \n",
    "(list로는 시간 초과)"
   ]
  },
  {
   "cell_type": "code",
   "execution_count": 6,
   "metadata": {},
   "outputs": [
    {
     "name": "stdout",
     "output_type": "stream",
     "text": [
      "BPAC\n"
     ]
    }
   ],
   "source": [
    "# 3208ms 통과\n",
    "from collections import deque\n",
    "\n",
    "for _ in range(int(input())):\n",
    "    str = input()\n",
    "    answer = deque()\n",
    "    i = 0\n",
    "    for c in str:\n",
    "        if c == '<':\n",
    "            i = max(i - 1, 0)\n",
    "        elif c == '>':\n",
    "            i = min(i + 1, len(answer))\n",
    "        elif c == '-':\n",
    "            if i > 0:\n",
    "                del answer[i - 1]\n",
    "                i -= 1\n",
    "        else:\n",
    "            answer.insert(i, c)\n",
    "            i += 1\n",
    "    print(''.join(answer))"
   ]
  },
  {
   "cell_type": "markdown",
   "metadata": {},
   "source": [
    "## 타인 답"
   ]
  },
  {
   "cell_type": "code",
   "execution_count": null,
   "metadata": {},
   "outputs": [],
   "source": [
    "# 강사님 코드  1232ms 통과\n",
    "# 강사님처럼 stack을 양쪽으로 2개 써야 훨씬 빠르네요.\n",
    "\n",
    "for _ in range(int(input())):\n",
    "    left_stack = []\n",
    "    right_stack = []\n",
    "\n",
    "    for i in input():\n",
    "        if i == '-':\n",
    "            if left_stack:\n",
    "                left_stack.pop()\n",
    "        elif i == '<':\n",
    "            if left_stack:\n",
    "                right_stack.append(left_stack.pop())\n",
    "        elif i == '>':\n",
    "            if right_stack:\n",
    "                left_stack.append(right_stack.pop())\n",
    "        else:\n",
    "            left_stack.append(i)\n",
    "        \n",
    "    left_stack.extend(reversed(right_stack))\n",
    "    print(''.join(left_stack))"
   ]
  }
 ],
 "metadata": {
  "interpreter": {
   "hash": "ad2bdc8ecc057115af97d19610ffacc2b4e99fae6737bb82f5d7fb13d2f2c186"
  },
  "kernelspec": {
   "display_name": "Python 3.9.7 ('base')",
   "language": "python",
   "name": "python3"
  },
  "language_info": {
   "codemirror_mode": {
    "name": "ipython",
    "version": 3
   },
   "file_extension": ".py",
   "mimetype": "text/x-python",
   "name": "python",
   "nbconvert_exporter": "python",
   "pygments_lexer": "ipython3",
   "version": "3.9.7"
  },
  "orig_nbformat": 4
 },
 "nbformat": 4,
 "nbformat_minor": 2
}
