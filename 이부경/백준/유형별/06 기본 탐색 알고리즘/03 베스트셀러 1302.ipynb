{
 "cells": [
  {
   "cell_type": "markdown",
   "metadata": {},
   "source": [
    "## 나의 코드"
   ]
  },
  {
   "cell_type": "code",
   "execution_count": null,
   "metadata": {},
   "outputs": [],
   "source": [
    "books = {}\n",
    "\n",
    "for _ in range(int(input())):\n",
    "    b = input()\n",
    "\n",
    "    if b not in books:\n",
    "        books[b] = 1\n",
    "    else:\n",
    "        books[b] += 1\n",
    "\n",
    "best_b = min(books, key = lambda x: (-books[x], x))\n",
    "print(best_b)\n"
   ]
  },
  {
   "cell_type": "markdown",
   "metadata": {},
   "source": [
    "## 타인 코드"
   ]
  },
  {
   "cell_type": "code",
   "execution_count": null,
   "metadata": {},
   "outputs": [],
   "source": [
    "import sys\n",
    "l=[*map(str.strip,sys.stdin)][1:]\n",
    "s={*l}\n",
    "m=l.count(max(s,key=l.count))\n",
    "print(sorted(i for i in s if l.count(i)==m)[0])"
   ]
  },
  {
   "cell_type": "code",
   "execution_count": null,
   "metadata": {},
   "outputs": [],
   "source": [
    "# 강사님 코드\n",
    "n = int(input())\n",
    "books = {}\n",
    "\n",
    "for _ in range(n):\n",
    "    book = input()\n",
    "    if book not in books:\n",
    "        books[book] = 1\n",
    "    else:\n",
    "        books[book] += 1\n",
    "\n",
    "target = max(books.values())\n",
    "array = []\n",
    "for book, number in books.items():\n",
    "    if number == target:\n",
    "        array.append(book)\n",
    "\n",
    "print(sorted(array)[0])"
   ]
  }
 ],
 "metadata": {
  "language_info": {
   "name": "python"
  },
  "orig_nbformat": 4
 },
 "nbformat": 4,
 "nbformat_minor": 2
}
