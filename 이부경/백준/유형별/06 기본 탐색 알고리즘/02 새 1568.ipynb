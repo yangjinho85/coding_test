{
 "cells": [
  {
   "cell_type": "code",
   "execution_count": null,
   "metadata": {},
   "outputs": [],
   "source": [
    "n = int(input())\n",
    "cnt = 0\n",
    "k = 1\n",
    "while n > 0:\n",
    "    if k > n:\n",
    "        k = 1\n",
    "    \n",
    "    n -= k\n",
    "    k += 1\n",
    "    cnt += 1\n",
    "\n",
    "print(cnt)\n"
   ]
  },
  {
   "cell_type": "markdown",
   "metadata": {},
   "source": [
    "## 타인 코드"
   ]
  },
  {
   "cell_type": "code",
   "execution_count": null,
   "metadata": {},
   "outputs": [],
   "source": [
    "N = int(input())\n",
    "\n",
    "# (남은 새, 몇번이나 끊기지 않고 날라갔는지)\n",
    "def N_X(n):\n",
    "    X = int((-1+(1+8*n)**(1/2))/2)\n",
    "    return int((n-X*(X+1)/2)),X\n",
    "\n",
    "time = 0\n",
    "while(1):\n",
    "    if(N == 0):\n",
    "        print(time)\n",
    "        break\n",
    "    else:\n",
    "        time = time + N_X(N)[1]\n",
    "        N = N_X(N)[0]"
   ]
  },
  {
   "cell_type": "code",
   "execution_count": null,
   "metadata": {},
   "outputs": [],
   "source": [
    "N = int(input())\n",
    "\n",
    "def all_sum(n):\n",
    "    return int(n*(n+1)/2)\n",
    "\n",
    "def get_n(N):\n",
    "    return int((-1 + (1+8*N)**(0.5))/2)\n",
    "\n",
    "n_sum = 0\n",
    "\n",
    "while(N!=0):\n",
    "    n = get_n(N)\n",
    "    n_sum += n\n",
    "    N = N - all_sum(n)\n",
    "\n",
    "print(n_sum)"
   ]
  },
  {
   "cell_type": "code",
   "execution_count": null,
   "metadata": {},
   "outputs": [],
   "source": [
    "n=int(input())\n",
    "s=0\n",
    "while n > 0:\n",
    "    k=int(((1+8*n)**.5-1))//2\n",
    "    s+=k\n",
    "    n-=k*(k+1)//2\n",
    "print(s)"
   ]
  },
  {
   "cell_type": "code",
   "execution_count": null,
   "metadata": {},
   "outputs": [],
   "source": [
    "n=int(input())\n",
    "c=0\n",
    "while n>0:\n",
    "    i=1\n",
    "    while n>=i*(i+1)//2:\n",
    "        i+=1\n",
    "    n-=(i*(i-1))//2\n",
    "    c+=(i-1)\n",
    "print(c)"
   ]
  }
 ],
 "metadata": {
  "interpreter": {
   "hash": "ad2bdc8ecc057115af97d19610ffacc2b4e99fae6737bb82f5d7fb13d2f2c186"
  },
  "kernelspec": {
   "display_name": "Python 3.9.7 ('base')",
   "language": "python",
   "name": "python3"
  },
  "language_info": {
   "codemirror_mode": {
    "name": "ipython",
    "version": 3
   },
   "file_extension": ".py",
   "mimetype": "text/x-python",
   "name": "python",
   "nbconvert_exporter": "python",
   "pygments_lexer": "ipython3",
   "version": "3.9.7"
  },
  "orig_nbformat": 4
 },
 "nbformat": 4,
 "nbformat_minor": 2
}
