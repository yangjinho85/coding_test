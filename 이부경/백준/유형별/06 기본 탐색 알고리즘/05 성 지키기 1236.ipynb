{
 "cells": [
  {
   "cell_type": "code",
   "execution_count": null,
   "metadata": {},
   "outputs": [],
   "source": [
    "N, M = map(int, input().split())\n",
    "castle = []\n",
    "for i in range(N):    \n",
    "    castle.append([c for c in input()])\n",
    "\n",
    "# 1이면 경비 있음\n",
    "r = [0] * N\n",
    "c = [0] * M\n",
    "\n",
    "for i in range(N):\n",
    "    for j in range(M):\n",
    "        if castle[i][j] == 'X':\n",
    "            r[i] = 1\n",
    "            break\n",
    "\n",
    "for j in range(M):\n",
    "    for i in range(N):    \n",
    "        if castle[i][j] == 'X':\n",
    "            c[j] = 1\n",
    "            break\n",
    "\n",
    "print(max(r.count(0), c.count(0)))"
   ]
  },
  {
   "cell_type": "markdown",
   "metadata": {},
   "source": [
    "## 타인 코드"
   ]
  },
  {
   "cell_type": "code",
   "execution_count": null,
   "metadata": {},
   "outputs": [],
   "source": [
    "import sys\n",
    "input = sys.stdin.readline\n",
    "n, m = map(int, input().split())\n",
    "x = [[i == '.' for i in input().rstrip()] for _ in range(n)]\n",
    "s = sum(all(y) for y in zip(*x))\n",
    "t = sum(all(y) for y in x)\n",
    "print(max(s, t))"
   ]
  },
  {
   "cell_type": "code",
   "execution_count": null,
   "metadata": {},
   "outputs": [],
   "source": [
    "R,C=map(int,input().split(' '))\n",
    "A,B=R,C\n",
    "\n",
    "\n",
    "castle=[]\n",
    "\n",
    "for i in range(R):\n",
    "    temp=list(input())\n",
    "    castle.append(temp)\n",
    "\n",
    "for i in range(R):        ##가로검사\n",
    "    if 'X' in castle[i]:\n",
    "        A=A-1\n",
    "\n",
    "for i in range(C):          ##세로검사\n",
    "    for j in range(R):\n",
    "        if castle[j][i]=='X':\n",
    "            B=B-1\n",
    "            break\n",
    "\n",
    "print(max(A,B))"
   ]
  },
  {
   "cell_type": "code",
   "execution_count": null,
   "metadata": {},
   "outputs": [],
   "source": [
    "n,m = map(int,input().split())\n",
    "arr = [input() for i in range(n)]\n",
    "\n",
    "row = [0]*n\n",
    "col = [0]*m\n",
    "for i in range(n):\n",
    "    for j in range(m):\n",
    "        if arr[i][j] == 'X':\n",
    "            row[i] = 1\n",
    "            col[j] = 1\n",
    "rCount = 0\n",
    "for i in row:\n",
    "    if i == 0:\n",
    "        rCount += 1\n",
    "cCount = 0\n",
    "for j in col:\n",
    "    if j == 0:\n",
    "        cCount +=1\n",
    "print(max(rCount,cCount))\n"
   ]
  }
 ],
 "metadata": {
  "language_info": {
   "name": "python"
  },
  "orig_nbformat": 4
 },
 "nbformat": 4,
 "nbformat_minor": 2
}
