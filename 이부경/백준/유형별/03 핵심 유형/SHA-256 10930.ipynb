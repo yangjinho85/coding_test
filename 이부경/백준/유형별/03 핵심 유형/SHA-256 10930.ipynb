{
 "cells": [
  {
   "cell_type": "code",
   "execution_count": null,
   "metadata": {},
   "outputs": [],
   "source": [
    "import hashlib\n",
    "\n",
    "s = input()\n",
    "result = hashlib.sha256(s.encode())\n",
    "print(result.hexdigest())"
   ]
  }
 ],
 "metadata": {
  "language_info": {
   "name": "python"
  },
  "orig_nbformat": 4
 },
 "nbformat": 4,
 "nbformat_minor": 2
}
