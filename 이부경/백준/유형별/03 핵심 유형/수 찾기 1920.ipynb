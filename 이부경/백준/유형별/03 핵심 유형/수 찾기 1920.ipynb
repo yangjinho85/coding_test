{
 "cells": [
  {
   "cell_type": "code",
   "execution_count": null,
   "metadata": {},
   "outputs": [],
   "source": [
    "# 처음 푼 코드\n",
    "N = int(input())\n",
    "a_list = set(map(int, input().split()))\n",
    "M = int(input())\n",
    "b_list = list(map(int, input().split()))\n",
    "\n",
    "result = [str(int(b in a_list)) for b in b_list]\n",
    "print('\\n'.join(result))"
   ]
  },
  {
   "cell_type": "code",
   "execution_count": null,
   "metadata": {},
   "outputs": [],
   "source": [
    "# 오래돼 기억안나서 다시 풀음\n",
    "# list는 시간 초과됨\n",
    "int(input())\n",
    "num_set = set(map(int, input().split()))\n",
    "int(input())\n",
    "\n",
    "for x in map(int, input().split()):\n",
    "    print(int(x in num_set))"
   ]
  },
  {
   "cell_type": "markdown",
   "metadata": {},
   "source": [
    "## 타인 답"
   ]
  },
  {
   "cell_type": "code",
   "execution_count": null,
   "metadata": {},
   "outputs": [],
   "source": [
    "# 강사님 코드\n",
    "n = int(input())\n",
    "array = set(map(int, input().split()))\n",
    "m = int(input())\n",
    "x = list(map(int, input().split()))\n",
    " \n",
    "for i in x:\n",
    "    if i not in array:\n",
    "        print('0')\n",
    "    else:\n",
    "        print('1')"
   ]
  },
  {
   "cell_type": "markdown",
   "metadata": {},
   "source": []
  }
 ],
 "metadata": {
  "interpreter": {
   "hash": "ad2bdc8ecc057115af97d19610ffacc2b4e99fae6737bb82f5d7fb13d2f2c186"
  },
  "kernelspec": {
   "display_name": "Python 3.9.7 ('base')",
   "language": "python",
   "name": "python3"
  },
  "language_info": {
   "codemirror_mode": {
    "name": "ipython",
    "version": 3
   },
   "file_extension": ".py",
   "mimetype": "text/x-python",
   "name": "python",
   "nbconvert_exporter": "python",
   "pygments_lexer": "ipython3",
   "version": "3.9.7"
  },
  "orig_nbformat": 4
 },
 "nbformat": 4,
 "nbformat_minor": 2
}
