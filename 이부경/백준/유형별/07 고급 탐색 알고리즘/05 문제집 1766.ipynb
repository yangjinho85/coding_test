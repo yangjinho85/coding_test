{
 "cells": [
  {
   "cell_type": "code",
   "execution_count": null,
   "metadata": {},
   "outputs": [],
   "source": [
    "import heapq as hq\n",
    "\n",
    "class G:\n",
    "    def __init__(self, name):\n",
    "        self.name = name\n",
    "        self.in_degree = 0\n",
    "        self.out_list = []\n",
    "\n",
    "\n",
    "def add(n, out):\n",
    "    # 미리 만들지 않고 아래처럼 그때그때 만들면 틀림 판정됨\n",
    "    # if n not in graph:\n",
    "    #     graph[n] = G(n)\n",
    "    # if out not in graph:\n",
    "    #     graph[out] = G(out)\n",
    "    graph[n].out_list.append(out)\n",
    "    graph[out].in_degree += 1\n",
    "\n",
    "N, M = map(int, input().split())\n",
    "graph = {i: G(i) for i in range(1, N + 1)} \n",
    "\n",
    "for _ in range(M):\n",
    "    i, o = map(int, input().split())\n",
    "    add(i, o)\n",
    "\n",
    "result = []\n",
    "heap = []\n",
    "for i in graph:\n",
    "    if graph[i].in_degree == 0:\n",
    "        hq.heappush(heap, i)\n",
    "\n",
    "while len(heap) > 0:\n",
    "    i = hq.heappop(heap)\n",
    "    result.append(i)\n",
    "    for o in graph[i].out_list:\n",
    "        graph[o].in_degree -= 1\n",
    "        if graph[o].in_degree == 0:\n",
    "            hq.heappush(heap, o)\n",
    "    \n",
    "print(*result)"
   ]
  },
  {
   "cell_type": "markdown",
   "metadata": {},
   "source": [
    "## 타인 코드"
   ]
  },
  {
   "cell_type": "code",
   "execution_count": null,
   "metadata": {},
   "outputs": [],
   "source": [
    "# 강사님 코드\n",
    "import heapq\n",
    "\n",
    "n, m = map(int, input().split())\n",
    "array = [[] for i in range(n + 1)]\n",
    "indegree = [0] * (n + 1)\n",
    "heap = []\n",
    "result = []\n",
    "\n",
    "for _ in range(m):\n",
    "    x, y = map(int, input().split())\n",
    "    array[x].append(y)\n",
    "    indegree[y] += 1\n",
    "\n",
    "for i in range(1, n + 1):\n",
    "    if indegree[i] == 0:\n",
    "        heapq.heappush(heap, i)\n",
    "\n",
    "result = []\n",
    "while heap:\n",
    "    data = heapq.heappop(heap)\n",
    "    result.append(data)\n",
    "    for y in array[data]:\n",
    "        indegree[y] -= 1\n",
    "        if indegree[y] == 0:\n",
    "            heapq.heappush(heap, y)\n",
    "\n",
    "for i in result:\n",
    "    print(i, end=' ')"
   ]
  }
 ],
 "metadata": {
  "language_info": {
   "name": "python"
  },
  "orig_nbformat": 4
 },
 "nbformat": 4,
 "nbformat_minor": 2
}
