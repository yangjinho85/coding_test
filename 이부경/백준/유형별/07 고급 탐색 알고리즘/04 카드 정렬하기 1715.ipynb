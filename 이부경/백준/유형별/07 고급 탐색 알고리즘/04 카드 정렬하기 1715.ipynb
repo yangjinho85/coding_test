{
 "cells": [
  {
   "cell_type": "code",
   "execution_count": null,
   "metadata": {},
   "outputs": [],
   "source": [
    "import heapq as hq\n",
    "\n",
    "h = []\n",
    "N = int(input())\n",
    "for i in range(N):\n",
    "    n = int(input())    \n",
    "    hq.heappush(h, n)\n",
    "\n",
    "total = 0\n",
    "while len(h) > 1:\n",
    "    one = hq.heappop(h)\n",
    "    two = hq.heappop(h)\n",
    "    sum = one + two\n",
    "    total += sum\n",
    "    hq.heappush(h, sum)\n",
    "\n",
    "print(total)"
   ]
  }
 ],
 "metadata": {
  "language_info": {
   "name": "python"
  },
  "orig_nbformat": 4
 },
 "nbformat": 4,
 "nbformat_minor": 2
}
