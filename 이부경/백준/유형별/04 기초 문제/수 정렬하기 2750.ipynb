{
 "cells": [
  {
   "cell_type": "markdown",
   "metadata": {},
   "source": [
    "## 내 코드\n",
    "정렬 알고리즘 이해했는지 구현해보고 테스트 용으로 쓰면 좋을 문제네요."
   ]
  },
  {
   "cell_type": "code",
   "execution_count": null,
   "metadata": {},
   "outputs": [],
   "source": [
    "N = int(input())\n",
    "nums = [0] * N\n",
    "for i in range(N):\n",
    "    nums[i] = int(input())\n",
    "\n",
    "for i in range(N - 1):\n",
    "    for j in range(i + 1, N):\n",
    "        if nums[i] > nums[j]:\n",
    "            nums[i], nums[j] = nums[j], nums[i] # swap\n",
    "        \n",
    "for i in range(N):\n",
    "    print(nums[i])"
   ]
  }
 ],
 "metadata": {
  "language_info": {
   "name": "python"
  },
  "orig_nbformat": 4
 },
 "nbformat": 4,
 "nbformat_minor": 2
}
