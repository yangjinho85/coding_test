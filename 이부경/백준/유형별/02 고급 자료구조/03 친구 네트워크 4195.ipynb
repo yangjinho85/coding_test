{
 "cells": [
  {
   "cell_type": "markdown",
   "metadata": {},
   "source": [
    "## 내 코드\n",
    "실패: 시간 초과"
   ]
  },
  {
   "cell_type": "code",
   "execution_count": null,
   "metadata": {},
   "outputs": [],
   "source": [
    "from collections import deque\n",
    "\n",
    "for _ in range(int(input())):\n",
    "    f_net_list = deque()\n",
    "    for __ in range(int(input())):\n",
    "        f_net = set(input().split())\n",
    "        merged_net = set()\n",
    "\n",
    "        i = 0\n",
    "        cnt = 0\n",
    "        while i < len(f_net_list) and cnt < 2:\n",
    "            if not f_net_list[i].isdisjoint(f_net):\n",
    "                merged_net.update(f_net_list[i]) \n",
    "                del f_net_list[i]\n",
    "                cnt += 1\n",
    "            else:\n",
    "                i += 1\n",
    "        merged_net.update(f_net) \n",
    "        f_net_list.append(merged_net)\n",
    "        print(len(merged_net))"
   ]
  },
  {
   "cell_type": "markdown",
   "metadata": {},
   "source": [
    "## 타인 코드"
   ]
  },
  {
   "cell_type": "code",
   "execution_count": null,
   "metadata": {},
   "outputs": [],
   "source": [
    "# 강사님 코드\n",
    "\n",
    "def find(x):\n",
    "    if x == parent[x]:\n",
    "        return x\n",
    "    else:\n",
    "        p = find(parent[x])\n",
    "        parent[x] = p\n",
    "        return parent[x]\n",
    "\n",
    "def union(x, y):\n",
    "    x = find(x)\n",
    "    y = find(y)\n",
    "    if x != y:\n",
    "        parent[y] = x\n",
    "        number[x] += number[y]\n",
    "\n",
    "test_case = int(input())\n",
    "\n",
    "for _ in range(test_case):\n",
    "    f = int(input())\n",
    "    parent = dict()\n",
    "    number = dict()\n",
    "\n",
    "    for _ in range(f):\n",
    "        x, y = input().split(' ')\n",
    "        if x not in parent:\n",
    "            parent[x] = x\n",
    "            number[x] = 1\n",
    "        if y not in parent:\n",
    "            parent[y] = y\n",
    "            number[y] = 1\n",
    "\n",
    "        union(x, y)\n",
    "        print(number[find(x)])"
   ]
  }
 ],
 "metadata": {
  "language_info": {
   "name": "python"
  },
  "orig_nbformat": 4
 },
 "nbformat": 4,
 "nbformat_minor": 2
}
