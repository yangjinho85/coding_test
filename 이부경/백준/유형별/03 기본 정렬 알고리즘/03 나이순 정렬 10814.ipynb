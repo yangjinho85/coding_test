{
 "cells": [
  {
   "cell_type": "markdown",
   "metadata": {},
   "source": [
    "## 나의 코드"
   ]
  },
  {
   "cell_type": "code",
   "execution_count": null,
   "metadata": {},
   "outputs": [],
   "source": [
    "# 4076ms\n",
    "a = []\n",
    "for _ in range(int(input())):\n",
    "    age, name = input().split()\n",
    "    a.append([int(age), name])\n",
    "\n",
    "b = sorted(a, key = lambda x: x[0])\n",
    "print(''.join(b))"
   ]
  },
  {
   "cell_type": "markdown",
   "metadata": {},
   "source": [
    "## 타인 코드"
   ]
  },
  {
   "cell_type": "code",
   "execution_count": null,
   "metadata": {},
   "outputs": [],
   "source": [
    "# 128ms 엄청 빠름. 실제 통과되네요. 어떤 원리인지는 잘 모르겠음\n",
    "from sys import stdin, stdout\n",
    "\n",
    "users_by_age = [[] for _ in range(200+1)]\n",
    "\n",
    "for line in stdin.read().splitlines(True)[1:]:\n",
    "    users_by_age[int(line.split()[0])].append(line)\n",
    "\n",
    "stdout.write(''.join(\n",
    "    ''.join(u)\n",
    "    for u in\n",
    "    users_by_age\n",
    "))"
   ]
  },
  {
   "cell_type": "code",
   "execution_count": null,
   "metadata": {},
   "outputs": [],
   "source": [
    "# 128ms 이것도 위랑 같은 시간 안에 통과합니다.\n",
    "# 제 코드랑 크게 차이 없는 거 같은데 왜 빠른지는 모르겠네요.\n",
    "import sys\n",
    "\n",
    "li=sys.stdin.readlines()[1:]\n",
    "li.sort(key=lambda x:int(x.split()[0]))\n",
    "print(''.join(li))"
   ]
  },
  {
   "cell_type": "code",
   "execution_count": null,
   "metadata": {},
   "outputs": [],
   "source": [
    "# 강사님 코드\n",
    "n = int(input())\n",
    "\n",
    "array = []\n",
    "for _ in range(n):\n",
    "    data = input().split(' ')\n",
    "    array.append((int(data[0]), data[1]))\n",
    "array = sorted(array, key=lambda x: x[0])\n",
    "\n",
    "for i in array:\n",
    "    print(i[0], i[1])"
   ]
  }
 ],
 "metadata": {
  "language_info": {
   "name": "python"
  },
  "orig_nbformat": 4
 },
 "nbformat": 4,
 "nbformat_minor": 2
}
