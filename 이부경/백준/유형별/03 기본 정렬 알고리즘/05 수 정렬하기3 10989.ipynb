{
 "cells": [
  {
   "cell_type": "markdown",
   "metadata": {},
   "source": [
    "# 나의 코드"
   ]
  },
  {
   "cell_type": "code",
   "execution_count": null,
   "metadata": {},
   "outputs": [],
   "source": [
    "# 혼자 푸는데는 시간 초과로 실패 후 그냥 강의보고 풀었음\n",
    "import sys\n",
    "\n",
    "li = [0] * 10001\n",
    "N = int(input())\n",
    "for i in range(N):\n",
    "    n = int(sys.stdin.readline())\n",
    "    li[n] += 1\n",
    "\n",
    "for i in range(10001):\n",
    "    if li[i] > 0:\n",
    "        for j in range(li[i]):\n",
    "            print(i)"
   ]
  },
  {
   "cell_type": "markdown",
   "metadata": {},
   "source": [
    "## 타인 코드"
   ]
  },
  {
   "cell_type": "code",
   "execution_count": null,
   "metadata": {},
   "outputs": [],
   "source": [
    "import collections, itertools, sys\n",
    "\n",
    "next(sys.stdin)\n",
    "a = collections.Counter(map(int, sys.stdin))\n",
    "for i in range(10001): sys.stdout.writelines(itertools.repeat(f\"{i}\\n\", a[i]))\n"
   ]
  },
  {
   "cell_type": "code",
   "execution_count": null,
   "metadata": {},
   "outputs": [],
   "source": [
    "import sys\n",
    "\n",
    "input = sys.stdin.readline\n",
    "print = sys.stdout.write\n",
    "\n",
    "def main():\n",
    "    N = int(input())\n",
    "\n",
    "    arr = [0] * 10001  # idx 가 0 부터 10000 까지\n",
    "\n",
    "    for _ in range(N):\n",
    "        arr[int(input())] += 1\n",
    "\n",
    "    for i in range(len(arr)):\n",
    "        if arr[i]:\n",
    "            while arr[i] > 1000:\n",
    "                print((str(i) + '\\n') * 1000)\n",
    "                arr[i] -= 1000\n",
    "            print((str(i) + '\\n') * arr[i])\n",
    "\n",
    "if __name__==\"__main__\" :\n",
    "    main()"
   ]
  },
  {
   "cell_type": "code",
   "execution_count": null,
   "metadata": {},
   "outputs": [],
   "source": [
    "# 강사님 코드\n",
    "import sys\n",
    "\n",
    "n = int(sys.stdin.readline())\n",
    "array = [0] * 10001\n",
    "\n",
    "for i in range(n):\n",
    "    data = int(sys.stdin.readline())\n",
    "    array[data] += 1\n",
    "\n",
    "for i in range(10001):\n",
    "    if array[i] != 0:\n",
    "        for j in range(array[i]):\n",
    "            print(i)"
   ]
  }
 ],
 "metadata": {
  "interpreter": {
   "hash": "ad2bdc8ecc057115af97d19610ffacc2b4e99fae6737bb82f5d7fb13d2f2c186"
  },
  "kernelspec": {
   "display_name": "Python 3.9.7 ('base')",
   "language": "python",
   "name": "python3"
  },
  "language_info": {
   "codemirror_mode": {
    "name": "ipython",
    "version": 3
   },
   "file_extension": ".py",
   "mimetype": "text/x-python",
   "name": "python",
   "nbconvert_exporter": "python",
   "pygments_lexer": "ipython3",
   "version": "3.9.7"
  },
  "orig_nbformat": 4
 },
 "nbformat": 4,
 "nbformat_minor": 2
}
