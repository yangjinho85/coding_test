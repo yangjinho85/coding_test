{
 "cells": [
  {
   "cell_type": "markdown",
   "metadata": {},
   "source": [
    "## 나의 코드"
   ]
  },
  {
   "cell_type": "code",
   "execution_count": null,
   "metadata": {},
   "outputs": [],
   "source": [
    "li = []\n",
    "for _ in range(int(input())):\n",
    "    x, y = map(int, input().split())\n",
    "    li.append((x, y))\n",
    "\n",
    "li.sort(key = lambda x: (x[0], x[1]))\n",
    "\n",
    "for xy in li:\n",
    "    print(*xy)"
   ]
  },
  {
   "cell_type": "markdown",
   "metadata": {},
   "source": [
    "## 타인 코드"
   ]
  },
  {
   "cell_type": "code",
   "execution_count": null,
   "metadata": {},
   "outputs": [],
   "source": [
    "import sys\n",
    "def thres(e):\n",
    "    x, y = e.split()\n",
    "    return int(x) + int(y)/1000000\n",
    "input = sys.stdin.readline\n",
    "print = sys.stdout.write\n",
    "l = sys.stdin.readlines()[1:]\n",
    "l = sorted(l, key=lambda x: thres(x))\n",
    "print(''.join(l))"
   ]
  },
  {
   "cell_type": "code",
   "execution_count": null,
   "metadata": {},
   "outputs": [],
   "source": [
    "import sys\n",
    "\n",
    "lst = sys.stdin.readlines()[1:]\n",
    "lst.sort(key=lambda x: int(x.split()[1]))\n",
    "lst.sort(key=lambda x: int(x.split()[0]))\n",
    "print(''.join(lst))"
   ]
  },
  {
   "cell_type": "code",
   "execution_count": null,
   "metadata": {},
   "outputs": [],
   "source": [
    "# 강사님 코드\n",
    "n = int(input())\n",
    "\n",
    "array = []\n",
    "for _ in range(n):\n",
    "    x, y = map(int, input().split(' '))\n",
    "    array.append((x, y))\n",
    "array = sorted(array)\n",
    "\n",
    "for i in array:\n",
    "    print(i[0], i[1])"
   ]
  }
 ],
 "metadata": {
  "language_info": {
   "name": "python"
  },
  "orig_nbformat": 4
 },
 "nbformat": 4,
 "nbformat_minor": 2
}
