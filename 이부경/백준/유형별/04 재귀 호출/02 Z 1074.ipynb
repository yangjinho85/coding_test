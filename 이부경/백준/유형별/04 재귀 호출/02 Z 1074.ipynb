{
 "cells": [
  {
   "cell_type": "code",
   "execution_count": 16,
   "metadata": {},
   "outputs": [],
   "source": [
    "# b == base\n",
    "def f(n, r, c, b = 0):\n",
    "    size = 2 ** n\n",
    "    if n == 1:\n",
    "        return size * r + c + b\n",
    "    \n",
    "    # 0 1 배열을 2행2열로 쪼개서 어디에 위치하는지 찾기\n",
    "    # 2 3\n",
    "    half_size = size // 2\n",
    "    a0 = 1 if r >= half_size else 0\n",
    "    a1 = 1 if c >= half_size else 0    \n",
    "    quadrant = 2 * a0 + a1\n",
    "    \n",
    "    new_r = r - a0 * half_size\n",
    "    new_c = c - a1 * half_size\n",
    "    new_b = quadrant * (half_size ** 2) + b\n",
    "    return f(n - 1, new_r, new_c, new_b)\n",
    "\n",
    "n, r, c = map(int, input().split())\n",
    "answer = f(n, r, c)\n",
    "print(answer)"
   ]
  },
  {
   "cell_type": "code",
   "execution_count": null,
   "metadata": {},
   "outputs": [],
   "source": [
    "# test\n",
    "n = 1\n",
    "for i in range(2**n):\n",
    "    for j in range(2**n):\n",
    "        #print(n, i, j)\n",
    "        answer = f(n, i, j)\n",
    "        #answer = solve(n, i, j)\n",
    "        print(answer)\n",
    "        "
   ]
  },
  {
   "cell_type": "markdown",
   "metadata": {},
   "source": [
    "# 타인 코드"
   ]
  },
  {
   "cell_type": "code",
   "execution_count": null,
   "metadata": {},
   "outputs": [],
   "source": [
    "n,r,c=map(int,input().split());print(int(f'{c:b}',4)+2*int(f'{r:b}',4))"
   ]
  },
  {
   "cell_type": "code",
   "execution_count": null,
   "metadata": {},
   "outputs": [],
   "source": [
    "N,r,c=map(int,input().split());print(int(bin(c)[2:],4)+2*int(bin(r)[2:],4))"
   ]
  },
  {
   "cell_type": "code",
   "execution_count": null,
   "metadata": {},
   "outputs": [],
   "source": [
    "n, r, c = map(int, input().split())\n",
    "s = 0\n",
    "while n:\n",
    "    n -= 1\n",
    "    s += (r>>n<<1|c>>n)<<n+n\n",
    "    r &= (1<<n)-1\n",
    "    c &= (1<<n)-1\n",
    "print(s)"
   ]
  },
  {
   "cell_type": "code",
   "execution_count": null,
   "metadata": {},
   "outputs": [],
   "source": [
    "def f(n,x,y):\n",
    "    if n==0:return 0\n",
    "    d=pow(2,n-1)\n",
    "    s= d*d*((x//d)*2+y//d)\n",
    "    return s+f(n-1,x%d,y%d)\n",
    "n,x,y=map(int,input().split())\n",
    "print(f(n,x,y))"
   ]
  },
  {
   "cell_type": "code",
   "execution_count": null,
   "metadata": {},
   "outputs": [],
   "source": [
    "# 강사님 코드\n",
    "def solve(n, x, y):\n",
    "    global result\n",
    "    if n == 2:\n",
    "        if x == X and y == Y:\n",
    "            print(result)\n",
    "            return\n",
    "        result += 1\n",
    "        if x == X and y + 1 == Y:\n",
    "            print(result)\n",
    "            return\n",
    "        result += 1\n",
    "        if x + 1 == X and y == Y:\n",
    "            print(result)\n",
    "            return\n",
    "        result += 1\n",
    "        if x + 1 == X and y + 1 == Y:\n",
    "            print(result)\n",
    "            return\n",
    "        result += 1\n",
    "        return\n",
    "    solve(n / 2, x, y)\n",
    "    solve(n / 2, x, y + n / 2)\n",
    "    solve(n / 2, x + n / 2, y)\n",
    "    solve(n / 2, x + n / 2, y + n / 2)\n",
    "\n",
    "result = 0\n",
    "N, X, Y = map(int, input().split(' '))\n",
    "solve(2 ** N, 0, 0)"
   ]
  },
  {
   "cell_type": "code",
   "execution_count": null,
   "metadata": {},
   "outputs": [],
   "source": []
  }
 ],
 "metadata": {
  "interpreter": {
   "hash": "ad2bdc8ecc057115af97d19610ffacc2b4e99fae6737bb82f5d7fb13d2f2c186"
  },
  "kernelspec": {
   "display_name": "Python 3 (ipykernel)",
   "language": "python",
   "name": "python3"
  },
  "language_info": {
   "codemirror_mode": {
    "name": "ipython",
    "version": 3
   },
   "file_extension": ".py",
   "mimetype": "text/x-python",
   "name": "python",
   "nbconvert_exporter": "python",
   "pygments_lexer": "ipython3",
   "version": "3.9.7"
  }
 },
 "nbformat": 4,
 "nbformat_minor": 4
}
