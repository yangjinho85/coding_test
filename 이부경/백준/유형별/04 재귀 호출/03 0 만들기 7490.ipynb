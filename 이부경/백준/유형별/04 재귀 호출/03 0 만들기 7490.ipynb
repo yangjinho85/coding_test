{
 "cells": [
  {
   "cell_type": "code",
   "execution_count": null,
   "metadata": {},
   "outputs": [],
   "source": [
    "import itertools\n",
    "\n",
    "def f(N):\n",
    "    op_list = list(itertools.product([' ', '+', '-'], repeat = N - 1))\n",
    "    nums = [str(i) for i in range(1, N + 1)]\n",
    "\n",
    "    for op in op_list:\n",
    "        s = ''\n",
    "        for i in range(N - 1):\n",
    "            s += nums[i] + op[i]\n",
    "        s += nums[N - 1]\n",
    "        \n",
    "        val = eval(s.replace(' ', ''))\n",
    "        if val == 0:\n",
    "            print(s)\n",
    "\n",
    "test_case = int(input())\n",
    "for _ in range(test_case):\n",
    "    N = int(input())\n",
    "    f(N)\n",
    "    print()"
   ]
  },
  {
   "cell_type": "code",
   "execution_count": null,
   "metadata": {},
   "outputs": [],
   "source": [
    "# test\n",
    "for o in list(itertools.permutations([' ', '-', '+'], 3)):\n",
    "    print(*o)\n",
    "    f(7, o)\n",
    "    print()"
   ]
  },
  {
   "cell_type": "code",
   "execution_count": null,
   "metadata": {},
   "outputs": [],
   "source": []
  }
 ],
 "metadata": {
  "interpreter": {
   "hash": "ad2bdc8ecc057115af97d19610ffacc2b4e99fae6737bb82f5d7fb13d2f2c186"
  },
  "kernelspec": {
   "display_name": "Python 3.9.7 ('base')",
   "language": "python",
   "name": "python3"
  },
  "language_info": {
   "codemirror_mode": {
    "name": "ipython",
    "version": 3
   },
   "file_extension": ".py",
   "mimetype": "text/x-python",
   "name": "python",
   "nbconvert_exporter": "python",
   "pygments_lexer": "ipython3",
   "version": "3.9.7"
  },
  "orig_nbformat": 4
 },
 "nbformat": 4,
 "nbformat_minor": 2
}
