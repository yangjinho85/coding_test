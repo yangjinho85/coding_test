{
 "cells": [
  {
   "cell_type": "code",
   "execution_count": 2,
   "metadata": {},
   "outputs": [],
   "source": [
    "# PyPy3로 통과 / Python3로 시간 초과\n",
    "N = int(input())\n",
    "nums = []\n",
    "for _ in range(N):\n",
    "    nums.append(int(input()))\n",
    "\n",
    "nums.sort()\n",
    "for n in nums:\n",
    "    print(n)\n"
   ]
  },
  {
   "cell_type": "code",
   "execution_count": null,
   "metadata": {},
   "outputs": [],
   "source": [
    "# Count Sort 방식인데도 `시간 초과` 하네요.\n",
    "neg_num = [0] * 1000001\n",
    "pos_num = [0] * 1000001\n",
    "\n",
    "N = int(input())\n",
    "for _ in range(N):\n",
    "    n = int(input())\n",
    "    if n >= 0:\n",
    "        pos_num[n] += 1\n",
    "    else:\n",
    "        neg_num[n] += 1\n",
    "\n",
    "# 음수 출력\n",
    "for n in reversed(range(1, 1000001)):\n",
    "    if neg_num[n] > 0:\n",
    "        for i in range(neg_num[n]):\n",
    "            print(-n)\n",
    "# 양수 출력\n",
    "for n in range(1000001):\n",
    "    if pos_num[n] > 0:\n",
    "        for i in range(pos_num[n]):\n",
    "            print(n)\n"
   ]
  },
  {
   "cell_type": "code",
   "execution_count": null,
   "metadata": {},
   "outputs": [],
   "source": [
    "\n"
   ]
  }
 ],
 "metadata": {
  "interpreter": {
   "hash": "ad2bdc8ecc057115af97d19610ffacc2b4e99fae6737bb82f5d7fb13d2f2c186"
  },
  "kernelspec": {
   "display_name": "Python 3.9.7 ('base')",
   "language": "python",
   "name": "python3"
  },
  "language_info": {
   "codemirror_mode": {
    "name": "ipython",
    "version": 3
   },
   "file_extension": ".py",
   "mimetype": "text/x-python",
   "name": "python",
   "nbconvert_exporter": "python",
   "pygments_lexer": "ipython3",
   "version": "3.9.7"
  },
  "orig_nbformat": 4
 },
 "nbformat": 4,
 "nbformat_minor": 2
}
