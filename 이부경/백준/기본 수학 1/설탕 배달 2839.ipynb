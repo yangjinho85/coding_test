{
 "cells": [
  {
   "cell_type": "code",
   "execution_count": null,
   "metadata": {},
   "outputs": [],
   "source": [
    "def f(n, cnt = 0):\n",
    "    if n == 0:\n",
    "        return cnt\n",
    "\n",
    "    if n < 3 or n == 4 or n == 7:\n",
    "        return -1\n",
    "        \n",
    "    a = f(n - 5, cnt + 1)\n",
    "    b = f(n - 3, cnt + 1)\n",
    "    if a > 0 and b > 0:        \n",
    "        return min(a, b)\n",
    "    else:\n",
    "         return max(a, b)\n",
    "\n",
    "N = int(input())\n",
    "# 시간 초과 되길래 90으로 나눈 나머지로 돌렸더니 통과됐습니다.\n",
    "# 다른 숫자로 나누면 결과가 달라져서 틀려버리는데\n",
    "# 90은 문제가 없습니다. 이유는 모르겠습니다.\n",
    "q = N // 90\n",
    "r = N % 90\n",
    "\n",
    "print(f(r) + (q * 18))"
   ]
  },
  {
   "cell_type": "code",
   "execution_count": null,
   "metadata": {},
   "outputs": [],
   "source": [
    "# 타인 답\n",
    "N = int(input())\n",
    "cnt = 0\n",
    "while True:\n",
    "    if (N % 5) == 0:\n",
    "        cnt = cnt + (N // 5)\n",
    "        print(cnt)\n",
    "        break\n",
    "    N -= 3\n",
    "    cnt += 1\n",
    "    if N < 0:\n",
    "        print(-1)\n",
    "        break"
   ]
  },
  {
   "cell_type": "code",
   "execution_count": null,
   "metadata": {},
   "outputs": [],
   "source": [
    "# 타인 답\n",
    "\n",
    "data = int(input())\n",
    "box = 0\n",
    "while True:\n",
    "    if data % 5 == 0:\n",
    "        box += data  // 5\n",
    "        print(box)\n",
    "        break\n",
    "    \n",
    "    data -= 3\n",
    "    box += 1\n",
    "    \n",
    "    if data < 0:\n",
    "        print(-1)\n",
    "        break"
   ]
  },
  {
   "cell_type": "code",
   "execution_count": null,
   "metadata": {},
   "outputs": [],
   "source": []
  }
 ],
 "metadata": {
  "interpreter": {
   "hash": "b3ba2566441a7c06988d0923437866b63cedc61552a5af99d1f4fb67d367b25f"
  },
  "kernelspec": {
   "display_name": "Python 3.9.7 ('base')",
   "language": "python",
   "name": "python3"
  },
  "language_info": {
   "codemirror_mode": {
    "name": "ipython",
    "version": 3
   },
   "file_extension": ".py",
   "mimetype": "text/x-python",
   "name": "python",
   "nbconvert_exporter": "python",
   "pygments_lexer": "ipython3",
   "version": "3.9.7"
  },
  "orig_nbformat": 4
 },
 "nbformat": 4,
 "nbformat_minor": 2
}
