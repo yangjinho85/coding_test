{
 "cells": [
  {
   "cell_type": "markdown",
   "metadata": {},
   "source": [
    "- 변수명이나 주석 작성에 어려움을 가지고 있습니다. 조언 주시면 감사합니다."
   ]
  },
  {
   "cell_type": "code",
   "execution_count": null,
   "metadata": {},
   "outputs": [],
   "source": [
    "# memoization 방식으로 풀었는데 타인 답 보면 간단하게 풀 수 있는 문제였더군요.\n",
    "largest_num_of_line = [1, 3, 6, 10, 15, ]\n",
    "\n",
    "# 문제의 분수가 적힌 사각형을 시계방향으로 45도 돌렸다고 생각하고 접근했습니다.\n",
    "def get_line_of_x(x):\n",
    "    i = 0\n",
    "    for i in range(len(largest_num_of_line)):\n",
    "        # 미리 만들어 놓은 배열 안에서 x가 몇 번째 줄에 있는지 찾기\n",
    "        if x <= largest_num_of_line[i]:\n",
    "            return i\n",
    "    \n",
    "    i += 1 # x가 largest_x_of_lines에 저장된 범위 밖이면 새로 구할 것이라서 인덱스 증가\n",
    "    while True:\n",
    "        largest_num_of_line.append(largest_num_of_line[i-1] - largest_num_of_line[i-2] + 1 + largest_num_of_line[i-1])\n",
    "        if x <= largest_num_of_line[i]: # x가 새로 추가된 줄에 있는지 찾기\n",
    "            return i\n",
    "        i += 1\n",
    "        \n",
    "x = int(input())\n",
    "line_of_x = get_line_of_x(x)\n",
    "max_num_of_line = largest_num_of_line[line_of_x]\n",
    "offset = max_num_of_line - x\n",
    "\n",
    "i = 0\n",
    "j = 0\n",
    "if line_of_x % 2 == 0: # 짝수 라인\n",
    "    i = 1 + offset\n",
    "    j = 1 + line_of_x - offset\n",
    "else: # 홀수 라인\n",
    "    i = 1 + line_of_x - offset\n",
    "    j = 1 + offset\n",
    "\n",
    "print('{}/{}'.format(i, j))"
   ]
  },
  {
   "cell_type": "code",
   "execution_count": null,
   "metadata": {},
   "outputs": [],
   "source": [
    "# 타인 답\n",
    "k = int(input())\n",
    "n = 1\n",
    "while k > n:\n",
    "    k, n = k-n, n+1\n",
    "a, b = k, n-k+1\n",
    "if n % 2 == 1:\n",
    "    a, b = b, a\n",
    "print(str(a)+\"/\"+str(b))"
   ]
  }
 ],
 "metadata": {
  "language_info": {
   "name": "python"
  },
  "orig_nbformat": 4
 },
 "nbformat": 4,
 "nbformat_minor": 2
}
