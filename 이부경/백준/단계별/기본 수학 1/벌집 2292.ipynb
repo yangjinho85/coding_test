{
 "cells": [
  {
   "cell_type": "code",
   "execution_count": 13,
   "metadata": {},
   "outputs": [
    {
     "name": "stdout",
     "output_type": "stream",
     "text": [
      "18258\n"
     ]
    }
   ],
   "source": [
    "N = int(input())\n",
    "\n",
    "i = 1\n",
    "end = 1\n",
    "while end < N:\n",
    "    end += 6 * i\n",
    "    i += 1\n",
    "\n",
    "print(i)\n"
   ]
  },
  {
   "cell_type": "markdown",
   "metadata": {},
   "source": [
    "# 타인 답"
   ]
  },
  {
   "cell_type": "code",
   "execution_count": null,
   "metadata": {},
   "outputs": [],
   "source": [
    "n = int(input())\n",
    "k = (n-1)/6\n",
    "\n",
    "i=0\n",
    "while i*(i+1)/2<k:\n",
    "    i+=1\n",
    "\n",
    "print(i+1)"
   ]
  },
  {
   "cell_type": "code",
   "execution_count": null,
   "metadata": {},
   "outputs": [],
   "source": [
    "N=int(input())\n",
    "if N==1: J=1\n",
    "else:\n",
    "   K=(N-2)//6\n",
    "   J=int((((8*K+1)**(1/2))-1)/2)+2\n",
    "print(J)"
   ]
  },
  {
   "cell_type": "code",
   "execution_count": null,
   "metadata": {},
   "outputs": [],
   "source": [
    "N = int(input())\n",
    "k = (N-2)//6\n",
    "num = 0\n",
    "res = 0\n",
    "for i in range(N//2+1):\n",
    "    num += i\n",
    "    if k < num:\n",
    "        res = i+1\n",
    "        break\n",
    "\n",
    "print(res)"
   ]
  },
  {
   "cell_type": "code",
   "execution_count": null,
   "metadata": {},
   "outputs": [],
   "source": [
    "n,k=int(input()),0\n",
    "while n>1:\n",
    "    k+=1\n",
    "    n-=6*k\n",
    "print(k+1)"
   ]
  }
 ],
 "metadata": {
  "interpreter": {
   "hash": "b3ba2566441a7c06988d0923437866b63cedc61552a5af99d1f4fb67d367b25f"
  },
  "kernelspec": {
   "display_name": "Python 3.9.7 ('base')",
   "language": "python",
   "name": "python3"
  },
  "language_info": {
   "codemirror_mode": {
    "name": "ipython",
    "version": 3
   },
   "file_extension": ".py",
   "mimetype": "text/x-python",
   "name": "python",
   "nbconvert_exporter": "python",
   "pygments_lexer": "ipython3",
   "version": "3.9.7"
  },
  "orig_nbformat": 4
 },
 "nbformat": 4,
 "nbformat_minor": 2
}
