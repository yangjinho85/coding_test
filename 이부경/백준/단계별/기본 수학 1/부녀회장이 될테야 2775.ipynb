{
 "cells": [
  {
   "cell_type": "markdown",
   "metadata": {},
   "source": [
    "1 ≤ k, n ≤ 14 의 의미가\n",
    "\n",
    "k가 1 이상이고, n은 14이하다가 아니고,\n",
    "\n",
    "k와 n은 1이상이고, 14이하다라는 뜻이라네요. "
   ]
  },
  {
   "cell_type": "code",
   "execution_count": null,
   "metadata": {},
   "outputs": [],
   "source": [
    "# 위 의미를 잘못 해석해서 시간 낭비를 꽤 했고, \n",
    "# i루프에 넣어야 할 구문을 j 루프에 넣는 실수를 못 찾아서 헤멨네요."
   ]
  },
  {
   "cell_type": "code",
   "execution_count": null,
   "metadata": {},
   "outputs": [],
   "source": [
    "tenant_count = [list(range(15)),]\n",
    "# 0호는 편의상 공간은 낭비되지만 무시합니다.\n",
    "for i in range(1, 15):\n",
    "    tenant_count.append([])\n",
    "    for j in range(15):        \n",
    "        tenant_count[i].append(sum(tenant_count[i - 1][:j + 1]))\n",
    "\n",
    "for _ in range(int(input())):\n",
    "    k = int(input())\n",
    "    n = int(input())\n",
    "    print(tenant_count[k][n])\n",
    "    "
   ]
  },
  {
   "cell_type": "markdown",
   "metadata": {},
   "source": [
    "# 타인 답"
   ]
  },
  {
   "cell_type": "code",
   "execution_count": 1,
   "metadata": {},
   "outputs": [],
   "source": [
    "import sys\n",
    "input = sys.stdin.readline\n",
    "\n",
    "for _ in range(int(input())):\n",
    "    k = int(input())\n",
    "    n = int(input())\n",
    "\n",
    "    people = [i for i in range(n + 1)]\n",
    "\n",
    "    for i in range(k):\n",
    "        for j in range(1, n + 1):\n",
    "            people[j] = people[j] + people[j - 1]\n",
    "\n",
    "    print(people[-1])"
   ]
  },
  {
   "cell_type": "code",
   "execution_count": 1,
   "metadata": {},
   "outputs": [],
   "source": [
    "import sys\n",
    "I = sys.stdin.readline\n",
    "O = sys.stdout.write\n",
    "\n",
    "def N(k, n):\n",
    "    num = den = 1\n",
    "    for x in range(n-1):\n",
    "        num *= x+k+2\n",
    "        den *= x+1\n",
    "    return num // den\n",
    "\n",
    "T = int(I())\n",
    "for _ in range(T):\n",
    "    k = int(I()); n = int(I())\n",
    "    O(str(N(k, n)) +'\\n')"
   ]
  },
  {
   "cell_type": "code",
   "execution_count": null,
   "metadata": {},
   "outputs": [],
   "source": []
  }
 ],
 "metadata": {
  "interpreter": {
   "hash": "ad2bdc8ecc057115af97d19610ffacc2b4e99fae6737bb82f5d7fb13d2f2c186"
  },
  "kernelspec": {
   "display_name": "Python 3.9.7 ('base')",
   "language": "python",
   "name": "python3"
  },
  "language_info": {
   "codemirror_mode": {
    "name": "ipython",
    "version": 3
   },
   "file_extension": ".py",
   "mimetype": "text/x-python",
   "name": "python",
   "nbconvert_exporter": "python",
   "pygments_lexer": "ipython3",
   "version": "3.9.7"
  },
  "orig_nbformat": 4
 },
 "nbformat": 4,
 "nbformat_minor": 2
}
