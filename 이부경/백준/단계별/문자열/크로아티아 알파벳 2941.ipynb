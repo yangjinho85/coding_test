{
 "cells": [
  {
   "cell_type": "code",
   "execution_count": 7,
   "metadata": {},
   "outputs": [
    {
     "name": "stdout",
     "output_type": "stream",
     "text": [
      "3\n"
     ]
    }
   ],
   "source": [
    "def count_1croatia_alphabet(s):\n",
    "    alphabet = ['c=', 'c-', 'dz=', 'd-', 'lj', 'nj', 's=', 'z=']\n",
    "    for i in range(len(alphabet)):        \n",
    "        if s.find(alphabet[i]) == 0:\n",
    "            return len(alphabet[i])\n",
    "    return 1\n",
    "\n",
    "s = input()\n",
    "count = 0\n",
    "i = 0\n",
    "while i < len(s):\n",
    "   i += count_1croatia_alphabet(s[i:])\n",
    "   count += 1\n",
    "\n",
    "print(count)\n"
   ]
  },
  {
   "cell_type": "code",
   "execution_count": 8,
   "metadata": {},
   "outputs": [
    {
     "name": "stdout",
     "output_type": "stream",
     "text": [
      "1\n"
     ]
    }
   ],
   "source": [
    "# 타인 답 \n",
    "s=input()\n",
    "print(len(s)-sum(map(s.count,['c=','c-','dz=','d-','lj','nj','s=','z='])))"
   ]
  },
  {
   "cell_type": "code",
   "execution_count": null,
   "metadata": {},
   "outputs": [],
   "source": [
    "# 타인 답 \n",
    "a=input()\n",
    "print(len(a)-a.count(\"=\")-a.count(\"dz=\")-a.count(\"-\")-a.count(\"lj\")-a.count(\"nj\"))"
   ]
  },
  {
   "cell_type": "code",
   "execution_count": null,
   "metadata": {},
   "outputs": [],
   "source": [
    "# 타인 답 어려움\n",
    "c=input().count;print(c('')-1-sum(map(c,['-','=','nj','lj','dz='])))"
   ]
  },
  {
   "cell_type": "code",
   "execution_count": null,
   "metadata": {},
   "outputs": [],
   "source": []
  }
 ],
 "metadata": {
  "interpreter": {
   "hash": "b3ba2566441a7c06988d0923437866b63cedc61552a5af99d1f4fb67d367b25f"
  },
  "kernelspec": {
   "display_name": "Python 3.9.7 ('base')",
   "language": "python",
   "name": "python3"
  },
  "language_info": {
   "name": "python",
   "version": "3.9.7"
  },
  "orig_nbformat": 4
 },
 "nbformat": 4,
 "nbformat_minor": 2
}
