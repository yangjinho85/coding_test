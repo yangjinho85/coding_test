{
 "cells": [
  {
   "cell_type": "code",
   "execution_count": null,
   "metadata": {},
   "outputs": [],
   "source": [
    "def is_group_word(word):\n",
    "    s = set()\n",
    "    prev_c = ''\n",
    "    for c in word:\n",
    "        if c not in s:\n",
    "            s.add(c)\n",
    "        elif prev_c == c: # 연속하는 문자\n",
    "            continue\n",
    "        else: # 연속하지 않는 이미 존재하는 문자\n",
    "            return False\n",
    "        prev_c = c \n",
    "    return True\n",
    "        \n",
    "cnt = 0\n",
    "for i in range(int(input())):\n",
    "    word = input()\n",
    "    if is_group_word(word):\n",
    "        cnt += 1\n",
    "    \n",
    "print(cnt)"
   ]
  },
  {
   "cell_type": "code",
   "execution_count": null,
   "metadata": {},
   "outputs": [],
   "source": [
    "# 타인 답\n",
    "result = 0\n",
    "for i in range(int(input())):\n",
    "    word = input()\n",
    "    if list(word) == sorted(word, key=word.find):\n",
    "        result += 1\n",
    "print(result)"
   ]
  }
 ],
 "metadata": {
  "language_info": {
   "name": "python"
  },
  "orig_nbformat": 4
 },
 "nbformat": 4,
 "nbformat_minor": 2
}
