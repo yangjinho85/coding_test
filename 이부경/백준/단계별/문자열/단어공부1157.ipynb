{
 "cells": [
  {
   "cell_type": "code",
   "execution_count": 13,
   "metadata": {},
   "outputs": [
    {
     "name": "stdout",
     "output_type": "stream",
     "text": [
      "A\n"
     ]
    }
   ],
   "source": [
    "s = input()\n",
    "\n",
    "# 문자 카운트 할 dict 만들기\n",
    "# cnt_dict = {}\n",
    "# for c in range(ord('A'), ord('Z') + 1):\n",
    "#     cnt_dict[chr(c)] = 0\n",
    "cnt_dict = {chr(c): 0 for c in range(ord('A'), ord('Z') + 1)}\n",
    "\n",
    "for c in s.upper():\n",
    "    cnt_dict[c] += 1\n",
    "\n",
    "sorted_dict = sorted(cnt_dict.items(), key=lambda x: x[1], reverse=True)\n",
    "\n",
    "if sorted_dict[0][1] == sorted_dict[1][1]: # 가장 많이 사용된 알파벳이 여러 개 존재하는 경우에는 ?를 출력한다.\n",
    "    print('?')\n",
    "else:\n",
    "    print(sorted_dict[0][0])"
   ]
  },
  {
   "cell_type": "code",
   "execution_count": null,
   "metadata": {},
   "outputs": [],
   "source": [
    "# 타인 답\n",
    "n = input()\n",
    "n = n.upper()\n",
    "alpa='ABCDEFGHIJKLMNOPQRSTUVWXYZ'\n",
    "result = []\n",
    "for i in alpa:\n",
    "  result.append(n.count(i))\n",
    "if result.count(max(result)) > 1:\n",
    "  print(\"?\")\n",
    "else:\n",
    "  print(alpa[result.index(max(result))])"
   ]
  }
 ],
 "metadata": {
  "interpreter": {
   "hash": "b3ba2566441a7c06988d0923437866b63cedc61552a5af99d1f4fb67d367b25f"
  },
  "kernelspec": {
   "display_name": "Python 3.9.7 ('base')",
   "language": "python",
   "name": "python3"
  },
  "language_info": {
   "codemirror_mode": {
    "name": "ipython",
    "version": 3
   },
   "file_extension": ".py",
   "mimetype": "text/x-python",
   "name": "python",
   "nbconvert_exporter": "python",
   "pygments_lexer": "ipython3",
   "version": "3.9.7"
  },
  "orig_nbformat": 4
 },
 "nbformat": 4,
 "nbformat_minor": 2
}
