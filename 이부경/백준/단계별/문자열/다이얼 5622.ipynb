{
 "cells": [
  {
   "cell_type": "code",
   "execution_count": 13,
   "metadata": {},
   "outputs": [
    {
     "name": "stdout",
     "output_type": "stream",
     "text": [
      "13\n"
     ]
    }
   ],
   "source": [
    "def get_dial_num(c):\n",
    "    dial = ['ABC', 'DEF', 'GHI', 'JKL', 'MNO', 'PQRS', 'TUV', 'WXYZ']\n",
    "    for i in range(len(dial)):\n",
    "        if c in dial[i]:\n",
    "            return i + 3\n",
    "\n",
    "print(sum(get_dial_num(c) for c in input()))\n"
   ]
  },
  {
   "cell_type": "code",
   "execution_count": null,
   "metadata": {},
   "outputs": [],
   "source": [
    "# 타인 답 어려움\n",
    "a = {c: i for i, cs in enumerate((\"ABC\", \"DEF\", \"GHI\", \"JKL\", \"MNO\", \"PQRS\", \"TUV\", \"WXYZ\"), 3) for c in cs}\n",
    "print(sum(a[c] for c in input()))"
   ]
  },
  {
   "cell_type": "code",
   "execution_count": null,
   "metadata": {},
   "outputs": [],
   "source": [
    "# 타인 답\n",
    "print(sum((ord(i)-62-(i in 'SVYZ')-(i=='Z'))//3+2 for i in input()))"
   ]
  },
  {
   "cell_type": "code",
   "execution_count": null,
   "metadata": {},
   "outputs": [],
   "source": [
    "# 타인 답\n",
    "a = input()\n",
    "result = 0\n",
    "for i in range(0, len(a)):\n",
    "    if 'A' == a[i] or 'B' == a[i] or 'C' == a[i]:\n",
    "        result += 3\n",
    "    elif 'D' == a[i] or 'E' == a[i] or 'F' == a[i]:\n",
    "        result += 4\n",
    "    elif 'G' == a[i] or 'H' == a[i] or 'I' == a[i]:\n",
    "        result += 5\n",
    "    elif 'J' == a[i] or 'K' == a[i] or 'L' == a[i]:\n",
    "        result += 6\n",
    "    elif 'M' == a[i] or 'N' == a[i] or 'O' == a[i]:\n",
    "        result += 7\n",
    "    elif 'P' == a[i] or 'Q' == a[i] or 'R' == a[i] or 'S' == a[i]:\n",
    "        result += 8\n",
    "    elif 'T' == a[i] or 'U' == a[i] or 'V' == a[i]:\n",
    "        result += 9\n",
    "    else:\n",
    "        result += 10\n",
    "print(result)"
   ]
  },
  {
   "cell_type": "code",
   "execution_count": 4,
   "metadata": {},
   "outputs": [
    {
     "name": "stdout",
     "output_type": "stream",
     "text": [
      "A 2\n",
      "B 2\n",
      "C 2\n",
      "D 3\n",
      "E 3\n",
      "F 3\n",
      "G 4\n",
      "H 4\n",
      "I 4\n",
      "J 5\n",
      "K 5\n",
      "L 5\n",
      "M 6\n",
      "N 6\n",
      "O 6\n",
      "P 7\n",
      "Q 7\n",
      "R 7\n",
      "S 8\n",
      "T 8\n",
      "U 8\n",
      "V 9\n",
      "W 9\n",
      "X 9\n",
      "Y 10\n",
      "Z 10\n"
     ]
    }
   ],
   "source": [
    "for _ in range(ord('A'), ord('Z') + 1):\n",
    "    print(chr(_), (_ - ord('A')) // 3 + 2)"
   ]
  },
  {
   "cell_type": "code",
   "execution_count": null,
   "metadata": {},
   "outputs": [],
   "source": []
  }
 ],
 "metadata": {
  "interpreter": {
   "hash": "b3ba2566441a7c06988d0923437866b63cedc61552a5af99d1f4fb67d367b25f"
  },
  "kernelspec": {
   "display_name": "Python 3.9.7 ('base')",
   "language": "python",
   "name": "python3"
  },
  "language_info": {
   "codemirror_mode": {
    "name": "ipython",
    "version": 3
   },
   "file_extension": ".py",
   "mimetype": "text/x-python",
   "name": "python",
   "nbconvert_exporter": "python",
   "pygments_lexer": "ipython3",
   "version": "3.9.7"
  },
  "orig_nbformat": 4
 },
 "nbformat": 4,
 "nbformat_minor": 2
}
