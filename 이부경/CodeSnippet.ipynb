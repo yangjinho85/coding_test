{
 "cells": [
  {
   "cell_type": "markdown",
   "metadata": {},
   "source": [
    "# 자주 쓰는 코드 조각\n",
    "## import"
   ]
  },
  {
   "cell_type": "code",
   "execution_count": null,
   "metadata": {},
   "outputs": [],
   "source": [
    "# https://www.daleseo.com/python-cache/\n",
    "from functools import cache, lru_cache\n",
    "\n",
    "\n",
    "@cache\n",
    "def f1(i):\n",
    "    return 1\n",
    "\n",
    "@lru_cache(maxsize=256)\n",
    "def f2(i):\n",
    "    return 1\n",
    "\n",
    "def f3(i):\n",
    "    f2(1)\n",
    "    print(f2.cache_info())"
   ]
  },
  {
   "cell_type": "code",
   "execution_count": null,
   "metadata": {},
   "outputs": [],
   "source": [
    "# https://www.daleseo.com/python-typing/\n",
    "from typing import List\n",
    "\n",
    "class Solution:\n",
    "    def f(self, s):\n",
    "        pass\n",
    "        \n",
    "input_list = [\"l|*e*et|c**o|*de|\",\n",
    "     \"iamprogrammer\",\n",
    "     \"yo|uar|e**|b|e***au|tifu|l\"\n",
    "    ]\n",
    "\n",
    "for s in input_list:\n",
    "    answer = Solution().f(s)\n",
    "    print(answer)"
   ]
  },
  {
   "cell_type": "markdown",
   "metadata": {},
   "source": [
    "# 자주 쓰는 코드 조각\n",
    "## 입력"
   ]
  },
  {
   "cell_type": "code",
   "execution_count": null,
   "metadata": {},
   "outputs": [],
   "source": [
    "# 파일로부터 입력받기\n",
    "import sys\n",
    "sys.stdin=open(\"input.txt\", \"rt\")"
   ]
  },
  {
   "cell_type": "code",
   "execution_count": null,
   "metadata": {},
   "outputs": [],
   "source": [
    "import sys\n",
    "input = sys.stdin.readline"
   ]
  },
  {
   "cell_type": "code",
   "execution_count": null,
   "metadata": {},
   "outputs": [],
   "source": [
    "import sys\n",
    "N = int(sys.stdin.readline())"
   ]
  },
  {
   "cell_type": "code",
   "execution_count": null,
   "metadata": {},
   "outputs": [],
   "source": [
    "# 전체 케이스\n",
    "for _ in range(int(input())):\n",
    "    N, M = map(int, input().split())\n",
    "\n",
    "N = int(input())\n",
    "for _ in range(N):\n",
    "    pass"
   ]
  },
  {
   "cell_type": "code",
   "execution_count": null,
   "metadata": {},
   "outputs": [],
   "source": [
    "N = int(input())\n",
    "for _ in range(N):\n",
    "    pass"
   ]
  },
  {
   "cell_type": "code",
   "execution_count": null,
   "metadata": {},
   "outputs": [],
   "source": [
    "# int list\n",
    "num_list = list(map(int, input().split()))"
   ]
  },
  {
   "cell_type": "markdown",
   "metadata": {},
   "source": [
    "## 출력 포맷"
   ]
  },
  {
   "cell_type": "code",
   "execution_count": null,
   "metadata": {},
   "outputs": [],
   "source": [
    "a = 10\n",
    "b = 20\n",
    "print(\"a값:{}  b값:{}\".format(a,b))\n",
    "print(f\"a값:{a}  b값:{b}\")"
   ]
  },
  {
   "cell_type": "markdown",
   "metadata": {},
   "source": [
    "## 반복문"
   ]
  },
  {
   "cell_type": "code",
   "execution_count": null,
   "metadata": {},
   "outputs": [],
   "source": [
    "# 역순\n",
    "for _ in reversed(range(10)):\n",
    "    pass"
   ]
  },
  {
   "cell_type": "code",
   "execution_count": null,
   "metadata": {},
   "outputs": [],
   "source": [
    "# 중첩 for문\n",
    "for i in range(10):\n",
    "    for j in range(10):\n",
    "        pass"
   ]
  },
  {
   "cell_type": "markdown",
   "metadata": {},
   "source": [
    "## 정렬"
   ]
  },
  {
   "cell_type": "code",
   "execution_count": null,
   "metadata": {},
   "outputs": [],
   "source": [
    "a = [1, 10, 5, 7, 6]\n",
    "a.sort(reverse=True)\n",
    "\n",
    "m = '나는 파이썬을 잘하고 싶다'\n",
    "m = m.split()\n",
    "m.sort(key=len)\n",
    "\n",
    "y = sorted(a)\n",
    "reversed(y)"
   ]
  },
  {
   "cell_type": "code",
   "execution_count": null,
   "metadata": {},
   "outputs": [],
   "source": [
    "# 다중 조건 정렬\n",
    "e = [(1, 3), (0, 3), (1, 4), (1, 5), (0, 1), (2, 4)]\n",
    "f = sorted(e, key = lambda x : (x[0], -x[1]))\n",
    "# f = [(0, 3), (0, 1), (1, 5), (1, 4), (1, 3), (2, 4)]"
   ]
  },
  {
   "cell_type": "code",
   "execution_count": null,
   "metadata": {},
   "outputs": [],
   "source": [
    "import sys\n",
    "\n",
    "lst = sys.stdin.readlines()[1:]\n",
    "lst.sort(key=lambda x: int(x.split()[1]))\n",
    "lst.sort(key=lambda x: int(x.split()[0]))\n",
    "print(''.join(lst))"
   ]
  },
  {
   "cell_type": "code",
   "execution_count": null,
   "metadata": {},
   "outputs": [],
   "source": [
    "books = {}\n",
    "best_b = max(books, key = lambda x: books[x])\n",
    "best_b = min(books, key = lambda x: (-books[x], x))"
   ]
  },
  {
   "cell_type": "code",
   "execution_count": null,
   "metadata": {},
   "outputs": [],
   "source": [
    "square = {2: 4, -3: 9, -1: 1, -2: 4}\n",
    "\n",
    "# the largest key\n",
    "key1 = max(square)\n",
    "print(\"The largest key:\", key1)    # 2\n",
    "\n",
    "# the key whose value is the largest\n",
    "key2 = max(square, key = lambda k: square[k])\n",
    "\n",
    "print(\"The key with the largest value:\", key2)    # -3\n",
    "\n",
    "# getting the largest value\n",
    "print(\"The largest value:\", square[key2])    # 9"
   ]
  },
  {
   "cell_type": "code",
   "execution_count": null,
   "metadata": {},
   "outputs": [],
   "source": [
    "tree = {}\n",
    "class Tree:    \n",
    "    def __init__(self, name, left, right):\n",
    "        self.name = name\n",
    "        self.left = left\n",
    "        self.right = right\n",
    "        self.level = 0\n",
    "        self.col = 0\n",
    "name_list = list(filter(lambda x: tree[x].level == i, tree)) # key값 나옴\n",
    "leftmost_name = min(name_list, key = lambda x: tree[x].col) # key값 나옴\n",
    "rightmost_name = max(name_list, key = lambda x: tree[x].col)\n"
   ]
  },
  {
   "cell_type": "markdown",
   "metadata": {},
   "source": [
    "## 다익스트라"
   ]
  },
  {
   "cell_type": "code",
   "execution_count": null,
   "metadata": {},
   "outputs": [],
   "source": [
    "from collections import deque\n",
    "\n",
    "def dijkstra(n, edge):\n",
    "    # 초기화\n",
    "    distances = {} # 거리\n",
    "    connections = {} # 연결 정보\n",
    "    for a, b in edge:\n",
    "        if a not in distances:\n",
    "            distances[a] = 1e9\n",
    "        if b not in distances:\n",
    "            distances[b] = 1e9\n",
    "        \n",
    "        if a not in connections:\n",
    "            connections[a] = set()\n",
    "        if b not in connections:\n",
    "            connections[b] = set()\n",
    "        \n",
    "        connections[a].add(b)\n",
    "        connections[b].add(a)\n",
    "    distances[1] = 0\n",
    "    \n",
    "    \n",
    "    # 방문 한 적 없는 곳만 DFS 방식으로 순회\n",
    "    visited = set()\n",
    "    dq = deque()\n",
    "    visited.add(1)\n",
    "    dq.append(1)\n",
    "    distance = 1\n",
    "    while dq:\n",
    "        u = dq.popleft()\n",
    "        for v in connections[u]:\n",
    "            distances[v] = min(distances[u] + distance, distances[v])\n",
    "            if v not in visited:\n",
    "                visited.add(v)\n",
    "                dq.append(v)\n",
    "\n",
    "\n",
    "    max_distance = 0\n",
    "    for d in distances.values():\n",
    "        max_distance = max(max_distance, d)\n",
    "\n",
    "    # 가장 거리가 먼 노드의 개수 세기\n",
    "    answer = len([x for x in distances if distances[x] == max_distance])\n",
    "    return answer"
   ]
  },
  {
   "cell_type": "markdown",
   "metadata": {},
   "source": [
    "## 문자열"
   ]
  },
  {
   "cell_type": "code",
   "execution_count": null,
   "metadata": {},
   "outputs": [],
   "source": [
    "answer = ['A', 'B', 'C', ]\n",
    "print('\\n'.join(answer))"
   ]
  },
  {
   "cell_type": "markdown",
   "metadata": {},
   "source": [
    "## 자료구조"
   ]
  },
  {
   "cell_type": "code",
   "execution_count": null,
   "metadata": {},
   "outputs": [],
   "source": [
    "from collections import deque\n",
    "\n",
    "dq = deque()\n",
    "dq.insert(0, 'A')\n",
    "del dq[0]"
   ]
  },
  {
   "cell_type": "markdown",
   "metadata": {},
   "source": [
    "## 자료형"
   ]
  },
  {
   "cell_type": "code",
   "execution_count": null,
   "metadata": {},
   "outputs": [],
   "source": [
    "# https://docs.python.org/dev/library/array.html\n",
    "from array import array\n",
    "a = array(\"h\") # h = signed short, H = unsigned short"
   ]
  },
  {
   "cell_type": "markdown",
   "metadata": {},
   "source": [
    "## 순열, 조합\n",
    "- 참고  \n",
    "  https://stackoverflow.com/questions/104420/how-to-generate-all-permutations-of-a-list   \n",
    "  \n",
    "  https://kingofbackend.tistory.com/95?category=929072"
   ]
  },
  {
   "cell_type": "code",
   "execution_count": 2,
   "metadata": {},
   "outputs": [],
   "source": [
    "import itertools"
   ]
  },
  {
   "cell_type": "code",
   "execution_count": 3,
   "metadata": {},
   "outputs": [
    {
     "data": {
      "text/plain": [
       "[(1, 2), (1, 3), (2, 1), (2, 3), (3, 1), (3, 2)]"
      ]
     },
     "execution_count": 3,
     "metadata": {},
     "output_type": "execute_result"
    }
   ],
   "source": [
    "# 순열\n",
    "list(itertools.permutations([1, 2, 3], 2))"
   ]
  },
  {
   "cell_type": "code",
   "execution_count": 4,
   "metadata": {},
   "outputs": [
    {
     "data": {
      "text/plain": [
       "[(1, 2), (1, 3), (2, 3)]"
      ]
     },
     "execution_count": 4,
     "metadata": {},
     "output_type": "execute_result"
    }
   ],
   "source": [
    "# 조합\n",
    "list(itertools.combinations([1, 2, 3], 2))"
   ]
  },
  {
   "cell_type": "code",
   "execution_count": 5,
   "metadata": {},
   "outputs": [
    {
     "data": {
      "text/plain": [
       "[(1, 1), (1, 2), (1, 3), (2, 1), (2, 2), (2, 3), (3, 1), (3, 2), (3, 3)]"
      ]
     },
     "execution_count": 5,
     "metadata": {},
     "output_type": "execute_result"
    }
   ],
   "source": [
    "# 카테젼 곱(자기 자신과)\n",
    "list(itertools.product([1, 2, 3], repeat=2))"
   ]
  },
  {
   "cell_type": "code",
   "execution_count": 6,
   "metadata": {},
   "outputs": [
    {
     "data": {
      "text/plain": [
       "[(1, 4), (1, 5), (1, 6), (2, 4), (2, 5), (2, 6), (3, 4), (3, 5), (3, 6)]"
      ]
     },
     "execution_count": 6,
     "metadata": {},
     "output_type": "execute_result"
    }
   ],
   "source": [
    "# 카테젼 곱\n",
    "list(itertools.product([1, 2, 3], [4, 5, 6]))"
   ]
  },
  {
   "cell_type": "code",
   "execution_count": null,
   "metadata": {},
   "outputs": [],
   "source": [
    "# 테스트\n",
    "list(itertools.product([1, 2, 3], repeat=2))\n",
    "list(itertools.product([1, 2, 3], [4, 5, 6]))\n",
    "list(itertools.permutations([1, 2, 3], 2))\n",
    "list(itertools.combinations([1, 2, 3], 2))"
   ]
  },
  {
   "cell_type": "markdown",
   "metadata": {},
   "source": [
    "### 수학 조합\n",
    "- 참고  \n",
    "*https://www.w3schools.com/python/ref_math_comb.asp*"
   ]
  },
  {
   "cell_type": "code",
   "execution_count": null,
   "metadata": {},
   "outputs": [],
   "source": [
    "import math\n",
    "# Initialize the number of items to choose from\n",
    "n = 7\n",
    "# Initialize the number of possibilities to choose\n",
    "k = 5\n",
    "# Print total number of possible combinations\n",
    "print (math.comb(n, k))"
   ]
  },
  {
   "cell_type": "markdown",
   "metadata": {},
   "source": [
    "### 바이트 코드   \n",
    "https://docs.python.org/ko/dev/library/dis.html"
   ]
  },
  {
   "cell_type": "code",
   "execution_count": 1,
   "metadata": {},
   "outputs": [
    {
     "name": "stdout",
     "output_type": "stream",
     "text": [
      "  4           0 LOAD_CONST               1 (1)\n",
      "              2 RETURN_VALUE\n"
     ]
    }
   ],
   "source": [
    "import dis\n",
    "\n",
    "def f():\n",
    "    return 1\n",
    "\n",
    "dis.dis(f)"
   ]
  },
  {
   "cell_type": "code",
   "execution_count": null,
   "metadata": {},
   "outputs": [],
   "source": []
  }
 ],
 "metadata": {
  "kernelspec": {
   "display_name": "Python 3.9.12 ('base')",
   "language": "python",
   "name": "python3"
  },
  "language_info": {
   "codemirror_mode": {
    "name": "ipython",
    "version": 3
   },
   "file_extension": ".py",
   "mimetype": "text/x-python",
   "name": "python",
   "nbconvert_exporter": "python",
   "pygments_lexer": "ipython3",
   "version": "3.9.12"
  },
  "orig_nbformat": 4,
  "vscode": {
   "interpreter": {
    "hash": "734ab24b5d337aa3083f37141e45635523032b38e37867a0b0460a6855b4b5f7"
   }
  }
 },
 "nbformat": 4,
 "nbformat_minor": 2
}
