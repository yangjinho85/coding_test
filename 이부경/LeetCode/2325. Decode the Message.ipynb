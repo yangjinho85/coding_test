{
 "cells": [
  {
   "cell_type": "code",
   "execution_count": 1,
   "id": "5aecd83e",
   "metadata": {},
   "outputs": [],
   "source": [
    "class Solution(object):\n",
    "    # 39 ms\n",
    "    def decodeMessage(self, key: str, message: str) -> str:\n",
    "        substitution_table = 'abcdefghijklmnopqrstuvwxyz '\n",
    "        \n",
    "        # build cipher key\n",
    "        cipher_key = ''        \n",
    "        for k in key.replace(' ', ''):\n",
    "            if k not in cipher_key:\n",
    "                cipher_key += k        \n",
    "        cipher_key += ' ' \n",
    "\n",
    "        cipher_dict = {k: v for k, v in  zip(cipher_key, substitution_table)}\n",
    "        answer = ''\n",
    "        for c in message:\n",
    "            answer += cipher_dict[c]\n",
    "        \n",
    "        return answer\n",
    "    \n",
    "    # 20ms, 타인 코드\n",
    "    def decodeMessage2(self, key: str, msg: str) -> str:\n",
    "        val = 'abcdefghijklmnopqrstuvwxyz'\n",
    "        mp = {}\n",
    "        ans = ''\n",
    "        c = 0\n",
    "        for i in key:\n",
    "            if i!=\" \" and i not in mp  :\n",
    "                mp[i] = val[c]\n",
    "                c += 1\n",
    "        for i in msg:\n",
    "            if i != \" \":\n",
    "                ans += mp[i]\n",
    "            else:\n",
    "                ans += i\n",
    "        return ans    "
   ]
  },
  {
   "cell_type": "code",
   "execution_count": 2,
   "id": "13b62b76",
   "metadata": {},
   "outputs": [],
   "source": [
    "key = \"the quick brown fox jumps over the lazy dog\"\n",
    "message = \"vkbs bs t suepuv\"\n",
    "\n",
    "key = \"eljuxhpwnyrdgtqkviszcfmabo\"\n",
    "message = \"zwx hnfx lqantp mnoeius ycgk vcnjrdb\"\n",
    "\n",
    "solution = Solution()\n",
    "answer = solution.decodeMessage(key, message)\n",
    "print(answer)"
   ]
  }
 ],
 "metadata": {
  "kernelspec": {
   "display_name": "Python 3 (ipykernel)",
   "language": "python",
   "name": "python3"
  },
  "language_info": {
   "codemirror_mode": {
    "name": "ipython",
    "version": 3
   },
   "file_extension": ".py",
   "mimetype": "text/x-python",
   "name": "python",
   "nbconvert_exporter": "python",
   "pygments_lexer": "ipython3",
   "version": "3.10.4"
  }
 },
 "nbformat": 4,
 "nbformat_minor": 5
}
