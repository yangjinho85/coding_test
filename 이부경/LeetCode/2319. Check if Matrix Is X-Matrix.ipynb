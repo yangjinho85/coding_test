{
 "cells": [
  {
   "cell_type": "code",
   "execution_count": 11,
   "metadata": {},
   "outputs": [],
   "source": [
    "# 538 ms\n",
    "class Solution:\n",
    "    def checkXMatrix(self, grid: list[list[int]]) -> bool:\n",
    "        n = len(grid)\n",
    "        for i in range(n):\n",
    "            for j in range(n):\n",
    "                if i == j or (n -1 - i) == j:\n",
    "                    if grid[i][j] == 0:\n",
    "                        return False\n",
    "                else:\n",
    "                    if grid[i][j] != 0:\n",
    "                        return False\n",
    "                # 위 3줄을 아래 2줄처럼 0과 비교 없앨 시 286ms으로 빨라짐\n",
    "                # elif grid[i][j]:\n",
    "                #     return False\n",
    "        return True"
   ]
  },
  {
   "cell_type": "code",
   "execution_count": 12,
   "metadata": {},
   "outputs": [
    {
     "name": "stdout",
     "output_type": "stream",
     "text": [
      "True\n"
     ]
    }
   ],
   "source": [
    "grid = [[2,0,0,1],[0,3,1,0],[0,5,2,0],[4,0,0,2]]\n",
    "#grid = [[5,7,0],[0,3,1],[0,5,0]]\n",
    "\n",
    "answer = Solution().checkXMatrix(grid)\n",
    "print(answer)"
   ]
  },
  {
   "cell_type": "code",
   "execution_count": null,
   "metadata": {},
   "outputs": [],
   "source": [
    "# 타인 코드 250ms\n",
    "class Solution:\n",
    "    def checkXMatrix(self, grid: List[List[int]]) -> bool:\n",
    "        n = len(grid)\n",
    "        for row in range(n):\n",
    "            for col in range(n):\n",
    "                if row == col or row+col == n-1:\n",
    "                    if not grid[row][col]:\n",
    "                        return False\n",
    "                elif grid[row][col]:\n",
    "                    return False\n",
    "        return True"
   ]
  }
 ],
 "metadata": {
  "kernelspec": {
   "display_name": "Python 3.9.12 ('base')",
   "language": "python",
   "name": "python3"
  },
  "language_info": {
   "codemirror_mode": {
    "name": "ipython",
    "version": 3
   },
   "file_extension": ".py",
   "mimetype": "text/x-python",
   "name": "python",
   "nbconvert_exporter": "python",
   "pygments_lexer": "ipython3",
   "version": "3.9.12"
  },
  "orig_nbformat": 4,
  "vscode": {
   "interpreter": {
    "hash": "734ab24b5d337aa3083f37141e45635523032b38e37867a0b0460a6855b4b5f7"
   }
  }
 },
 "nbformat": 4,
 "nbformat_minor": 2
}
