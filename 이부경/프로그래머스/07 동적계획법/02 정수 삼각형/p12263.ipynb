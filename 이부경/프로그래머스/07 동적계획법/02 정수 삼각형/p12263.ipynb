{
 "cells": [
  {
   "cell_type": "markdown",
   "metadata": {},
   "source": [
    "### 나의 코드"
   ]
  },
  {
   "cell_type": "code",
   "execution_count": null,
   "metadata": {},
   "outputs": [],
   "source": [
    "max_dict = {}\n",
    "def test(triangle, i, j):\n",
    "    global max_dict\n",
    "    if (i , j) in max_dict:\n",
    "        return max_dict[(i , j)]\n",
    "\n",
    "    if i == (len(triangle) - 1): # 마지막 줄\n",
    "        return triangle[i][j]\n",
    "   \n",
    "    left = test(triangle, i + 1, j)\n",
    "    right = test(triangle, i + 1, j + 1)\n",
    "    max_dict[(i , j)] = triangle[i][j] + max(left, right) \n",
    "    return max_dict[(i , j)]\n",
    "\n",
    "def solution(triangle):\n",
    "    return test(triangle, 0, 0)\n",
    "\n",
    "\n",
    "triangle = [[7], [3, 8], [8, 1, 0], [2, 7, 4, 4], [4, 5, 2, 6, 5]]\n",
    "result = 30\n",
    "print(solution(triangle))"
   ]
  },
  {
   "cell_type": "markdown",
   "metadata": {},
   "source": [
    "### 타인 코드"
   ]
  },
  {
   "cell_type": "code",
   "execution_count": null,
   "metadata": {},
   "outputs": [],
   "source": [
    "def solution(triangle):\n",
    "    dp = []\n",
    "    for t in range(1, len(triangle)):\n",
    "        for i in range(t+1):\n",
    "            if i == 0:\n",
    "                triangle[t][0] += triangle[t-1][0]\n",
    "            elif i == t:\n",
    "                triangle[t][-1] += triangle[t-1][-1]\n",
    "            else:\n",
    "                triangle[t][i] += max(triangle[t-1][i-1], triangle[t-1][i])\n",
    "    return max(triangle[-1])"
   ]
  },
  {
   "cell_type": "code",
   "execution_count": null,
   "metadata": {},
   "outputs": [],
   "source": [
    "def solution(triangle):\n",
    "\n",
    "    height = len(triangle)\n",
    "\n",
    "    while height > 1:\n",
    "        for i in range(height - 1):\n",
    "            triangle[height-2][i] += max([triangle[height-1][i], triangle[height-1][i+1]])\n",
    "        height -= 1\n",
    "\n",
    "    answer = triangle[0][0]\n",
    "    return answer"
   ]
  },
  {
   "cell_type": "code",
   "execution_count": null,
   "metadata": {},
   "outputs": [],
   "source": [
    "def solution(triangle):\n",
    "    memo = {}\n",
    "    answer = f(triangle, 0, 0, memo)\n",
    "    return answer\n",
    "\n",
    "def f(triangle, i, j, memo):\n",
    "    if i == len(triangle)-1:\n",
    "        return triangle[i][j]\n",
    "\n",
    "    if (i,j) in memo:\n",
    "        return memo[(i,j)]\n",
    "\n",
    "    a = f(triangle, i+1, j, memo)\n",
    "    b = f(triangle, i+1, j+1, memo)\n",
    "    x = triangle[i][j] + max(a, b)\n",
    "\n",
    "    memo[(i,j)] = x\n",
    "\n",
    "    return x"
   ]
  }
 ],
 "metadata": {
  "language_info": {
   "name": "python"
  },
  "orig_nbformat": 4
 },
 "nbformat": 4,
 "nbformat_minor": 2
}
