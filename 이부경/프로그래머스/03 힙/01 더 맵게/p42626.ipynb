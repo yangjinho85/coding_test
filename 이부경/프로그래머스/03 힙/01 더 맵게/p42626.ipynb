{
 "cells": [
  {
   "cell_type": "code",
   "execution_count": null,
   "metadata": {},
   "outputs": [],
   "source": [
    "import heapq as hq\n",
    "\n",
    "def solution(scoville, K):        \n",
    "    heap = []\n",
    "    for s in scoville:\n",
    "        hq.heappush(heap, s)\n",
    "    \n",
    "    count = 0\n",
    "    while len(heap) > 1:\n",
    "        v1 = hq.heappop(heap)\n",
    "        v2 = hq.heappop(heap)        \n",
    "\n",
    "        v = hq.heappushpop(heap, v1 + (2 * v2))\n",
    "        count += 1\n",
    "        \n",
    "        if v >= K:\n",
    "            return count\n",
    "        \n",
    "        hq.heappush(heap, v)\n",
    "\n",
    "    return -1\n",
    "\n",
    "\n",
    "solution([1, 2, 3, 9, 10, 12], 7)\n",
    "#solution([0, 1], 4)"
   ]
  },
  {
   "cell_type": "markdown",
   "metadata": {},
   "source": [
    "### 타인 코드"
   ]
  },
  {
   "cell_type": "code",
   "execution_count": null,
   "metadata": {},
   "outputs": [],
   "source": [
    "import heapq as hq\n",
    "\n",
    "def solution(scoville, K):\n",
    "\n",
    "    hq.heapify(scoville)\n",
    "    answer = 0\n",
    "    while True:\n",
    "        first = hq.heappop(scoville)\n",
    "        if first >= K:\n",
    "            break\n",
    "        if len(scoville) == 0:\n",
    "            return -1\n",
    "        second = hq.heappop(scoville)\n",
    "        hq.heappush(scoville, first + second*2)\n",
    "        answer += 1  \n",
    "\n",
    "    return answer"
   ]
  },
  {
   "cell_type": "code",
   "execution_count": null,
   "metadata": {},
   "outputs": [],
   "source": []
  }
 ],
 "metadata": {
  "kernelspec": {
   "display_name": "Python 3.9.12 ('base')",
   "language": "python",
   "name": "python3"
  },
  "language_info": {
   "codemirror_mode": {
    "name": "ipython",
    "version": 3
   },
   "file_extension": ".py",
   "mimetype": "text/x-python",
   "name": "python",
   "nbconvert_exporter": "python",
   "pygments_lexer": "ipython3",
   "version": "3.9.12"
  },
  "orig_nbformat": 4,
  "vscode": {
   "interpreter": {
    "hash": "734ab24b5d337aa3083f37141e45635523032b38e37867a0b0460a6855b4b5f7"
   }
  }
 },
 "nbformat": 4,
 "nbformat_minor": 2
}
