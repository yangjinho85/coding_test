{
 "cells": [
  {
   "cell_type": "code",
   "execution_count": null,
   "metadata": {},
   "outputs": [],
   "source": [
    "def solution(n, lost, reserve):\n",
    "    reserve = set(reserve)\n",
    "    lost = set(lost)\n",
    "    \n",
    "    # 여벌 체육복을 가져온 학생이 체육복을 도난당했을 수 있습니다.\n",
    "    intersect = lost.intersection(reserve)\n",
    "    reserve = reserve - intersect\n",
    "    lost = lost  - intersect\n",
    "\n",
    "    cnt = 0\n",
    "    for i in lost:\n",
    "        for j in [-1, 0, 1]:\n",
    "            k = i + j\n",
    "            if k in reserve:\n",
    "                reserve.remove(k)\n",
    "                cnt += 1\n",
    "                break\n",
    "                \n",
    "    answer = n + cnt - len(lost)\n",
    "    return answer\n",
    "\n",
    "\n",
    "solution(5, [2, 4], [1, 3, 5])\n",
    "#solution(5, [2, 4], [3])\n",
    "#solution(3, [3], [1])"
   ]
  }
 ],
 "metadata": {
  "kernelspec": {
   "display_name": "Python 3.9.12 ('base')",
   "language": "python",
   "name": "python3"
  },
  "language_info": {
   "codemirror_mode": {
    "name": "ipython",
    "version": 3
   },
   "file_extension": ".py",
   "mimetype": "text/x-python",
   "name": "python",
   "nbconvert_exporter": "python",
   "pygments_lexer": "ipython3",
   "version": "3.9.12"
  },
  "orig_nbformat": 4,
  "vscode": {
   "interpreter": {
    "hash": "734ab24b5d337aa3083f37141e45635523032b38e37867a0b0460a6855b4b5f7"
   }
  }
 },
 "nbformat": 4,
 "nbformat_minor": 2
}
