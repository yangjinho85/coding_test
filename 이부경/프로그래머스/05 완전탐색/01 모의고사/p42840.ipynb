{
 "cells": [
  {
   "cell_type": "code",
   "execution_count": null,
   "metadata": {},
   "outputs": [],
   "source": [
    "def solution(answers):\n",
    "    answer = []\n",
    "    \n",
    "    s1 = [1, 2, 3, 4, 5]\n",
    "    s2 = [2, 1, 2, 3, 2, 4, 2, 5]\n",
    "    s3 = [3, 3, 1, 1, 2, 2, 4, 4, 5, 5]\n",
    "    \n",
    "    cnt1 = 0\n",
    "    cnt2 = 0\n",
    "    cnt3 = 0\n",
    "    for i, ans in enumerate(answers):\n",
    "        if s1[i % len(s1)] == ans:\n",
    "            cnt1 += 1\n",
    "        if s2[i % len(s2)] == ans:\n",
    "            cnt2 += 1\n",
    "        if s3[i % len(s3)] == ans:\n",
    "            cnt3 += 1\n",
    "    max_cnt = max([cnt1, cnt2, cnt3])\n",
    "\n",
    "    if cnt1 == max_cnt:\n",
    "        answer.append(1)\n",
    "    if cnt2 == max_cnt:\n",
    "        answer.append(2)\n",
    "    if cnt3 == max_cnt:\n",
    "        answer.append(3)        \n",
    "    return answer\n",
    "\n",
    "# [1,2,3,4,5] [1]\n",
    "# [1,3,2,4,2] [1,2,3]\n",
    "\n",
    "solution([1,2,3,4,5])\n",
    "#solution([1,3,2,4,2])"
   ]
  },
  {
   "cell_type": "code",
   "execution_count": null,
   "metadata": {},
   "outputs": [],
   "source": []
  }
 ],
 "metadata": {
  "kernelspec": {
   "display_name": "Python 3.9.12 ('base')",
   "language": "python",
   "name": "python3"
  },
  "language_info": {
   "codemirror_mode": {
    "name": "ipython",
    "version": 3
   },
   "file_extension": ".py",
   "mimetype": "text/x-python",
   "name": "python",
   "nbconvert_exporter": "python",
   "pygments_lexer": "ipython3",
   "version": "3.9.12"
  },
  "orig_nbformat": 4,
  "vscode": {
   "interpreter": {
    "hash": "734ab24b5d337aa3083f37141e45635523032b38e37867a0b0460a6855b4b5f7"
   }
  }
 },
 "nbformat": 4,
 "nbformat_minor": 2
}
