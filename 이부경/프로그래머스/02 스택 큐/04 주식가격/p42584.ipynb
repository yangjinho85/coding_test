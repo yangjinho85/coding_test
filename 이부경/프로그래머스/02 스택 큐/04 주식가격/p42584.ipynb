{
 "cells": [
  {
   "cell_type": "code",
   "execution_count": null,
   "metadata": {},
   "outputs": [],
   "source": [
    "def solution(prices):\n",
    "    answer = []\n",
    "\n",
    "    for i in range(len(prices)):\n",
    "        price = prices[i]\n",
    "        count = 0\n",
    "        for j in range(i + 1, len(prices)):\n",
    "            if price > prices[j]:\n",
    "                count = j - i\n",
    "                break\n",
    "        else:\n",
    "            count = len(prices) - i - 1\n",
    "\n",
    "        answer.append(count)\n",
    "    return answer\n",
    "\n",
    "# prices = [1, 2, 3, 2, 3]\n",
    "# solution(prices)\n",
    "prices = [4,2,4,1,24,34,5,22,345,345,0,111,3,4,6,7,23,3,2,1,4]\n",
    "solution(prices)\n"
   ]
  },
  {
   "cell_type": "code",
   "execution_count": null,
   "metadata": {},
   "outputs": [],
   "source": []
  }
 ],
 "metadata": {
  "interpreter": {
   "hash": "7f96219f7a5c7fa1c7786bde76fabd414f3f4db02ae29b2ce90101ac6036ba6e"
  },
  "kernelspec": {
   "display_name": "Python 3.8.13 ('fastcampus')",
   "language": "python",
   "name": "python3"
  },
  "language_info": {
   "codemirror_mode": {
    "name": "ipython",
    "version": 3
   },
   "file_extension": ".py",
   "mimetype": "text/x-python",
   "name": "python",
   "nbconvert_exporter": "python",
   "pygments_lexer": "ipython3",
   "version": "3.8.13"
  },
  "orig_nbformat": 4
 },
 "nbformat": 4,
 "nbformat_minor": 2
}
