{
 "cells": [
  {
   "cell_type": "code",
   "execution_count": null,
   "metadata": {},
   "outputs": [],
   "source": [
    "def solution(genres, plays):\n",
    "    answer = []\n",
    "\n",
    "    # 속한 장르별로 play 수 누적 더함\n",
    "    accumulated_play = {}\n",
    "    for i in range(len(genres)):\n",
    "        if genres[i] not in accumulated_play:\n",
    "            accumulated_play[genres[i]] = plays[i]    \n",
    "        else:\n",
    "            accumulated_play[genres[i]] += plays[i]\n",
    "    # 1. 속한 노래가 많이 재생된 장르를 먼저 수록합니다\n",
    "    sorted_accumulated_play = sorted(accumulated_play.items(), key=lambda x: x[1], reverse=True)\n",
    "\n",
    "    for genre, count in sorted_accumulated_play: # 장르별로 고유번호(index)와 재생 수를 group_by_genres 리스트로 모음\n",
    "        group_by_genres = []\n",
    "        for i in range(len(genres)):\n",
    "            if genres[i] == genre:\n",
    "                group_by_genres.append([i, plays[i]])\n",
    "        # 2. 장르 내에서 많이 재생된 노래를 먼저 수록합니다.\n",
    "        # 3. 장르 내에서 재생 횟수가 같은 노래 중에서는 고유 번호가 낮은 노래를 먼저 수록합니다\n",
    "        # x[1] play 수, x[2] 고유번호\n",
    "        group_by_genres.sort(key=lambda x: (x[1], -x[0]), reverse=True) \n",
    "\n",
    "        # 4. 장르에 속한 곡이 하나인 경우 하나만 수록합니다.\n",
    "        answer += [x[0] for x in group_by_genres[:min(2, len(group_by_genres))]]\n",
    "    return answer"
   ]
  },
  {
   "cell_type": "markdown",
   "metadata": {},
   "source": [
    "### 타인 코드"
   ]
  },
  {
   "cell_type": "code",
   "execution_count": null,
   "metadata": {},
   "outputs": [],
   "source": [
    "# 1등 답\n",
    "def solution(genres, plays):\n",
    "    answer = []\n",
    "    d = {e:[] for e in set(genres)}\n",
    "    for e in zip(genres, plays, range(len(plays))):\n",
    "        d[e[0]].append([e[1] , e[2]])\n",
    "    genreSort =sorted(list(d.keys()), key= lambda x: sum( map(lambda y: y[0],d[x])), reverse = True)\n",
    "    for g in genreSort:\n",
    "        temp = [e[1] for e in sorted(d[g],key= lambda x: (x[0], -x[1]), reverse = True)]\n",
    "        answer += temp[:min(len(temp),2)]\n",
    "    return answer"
   ]
  }
 ],
 "metadata": {
  "language_info": {
   "name": "python"
  },
  "orig_nbformat": 4
 },
 "nbformat": 4,
 "nbformat_minor": 2
}
