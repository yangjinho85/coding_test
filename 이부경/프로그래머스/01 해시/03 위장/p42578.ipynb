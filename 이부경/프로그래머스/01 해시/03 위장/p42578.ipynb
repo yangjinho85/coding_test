{
 "cells": [
  {
   "cell_type": "markdown",
   "metadata": {},
   "source": [
    "### 나의 코드   \n",
    "경우의 수 참고:   \n",
    "https://www.youtube.com/watch?v=y5eezO4sP3I\n"
   ]
  },
  {
   "cell_type": "code",
   "execution_count": null,
   "metadata": {},
   "outputs": [],
   "source": [
    "def solution(clothes):\n",
    "    count = dict()\n",
    "    for cloth in clothes:\n",
    "        if cloth[1] in count:\n",
    "            count[cloth[1]] += 1\n",
    "        else:\n",
    "            count[cloth[1]] = 1\n",
    "    \n",
    "    answer = 1\n",
    "    for k in count:\n",
    "        answer *= count[k] + 1 # +1은 해당 의상을 착용하지 않은 경우\n",
    "    \n",
    "    answer -= 1 # 아무것도 착용하지 않은 경우의 수를 빼야함\n",
    "    return answer\n",
    "\n",
    "clothes = [[\"yellowhat\", \"headgear\"], [\"bluesunglasses\", \"eyewear\"], [\"green_turban\", \"headgear\"]]\n",
    "clothes = [[\"crowmask\", \"face\"], [\"bluesunglasses\", \"face\"], [\"smoky_makeup\", \"face\"]]\n",
    "solution(clothes)"
   ]
  },
  {
   "cell_type": "markdown",
   "metadata": {},
   "source": [
    "### 타인 코드"
   ]
  },
  {
   "cell_type": "code",
   "execution_count": null,
   "metadata": {},
   "outputs": [],
   "source": [
    "def solution(clothes):\n",
    "    from collections import Counter\n",
    "    from functools import reduce\n",
    "    cnt = Counter([kind for name, kind in clothes])\n",
    "    answer = reduce(lambda x, y: x*(y+1), cnt.values(), 1) - 1\n",
    "    return answer"
   ]
  },
  {
   "cell_type": "code",
   "execution_count": null,
   "metadata": {},
   "outputs": [],
   "source": [
    "import collections\n",
    "from functools import reduce\n",
    "\n",
    "def solution(c):\n",
    "    return reduce(lambda x,y:x*y,[a+1 for a in collections.Counter([x[1] for x in c]).values()])-1"
   ]
  },
  {
   "cell_type": "code",
   "execution_count": null,
   "metadata": {},
   "outputs": [],
   "source": [
    "def solution(clothes):\n",
    "    answer = 1\n",
    "    types = [y for x, y in clothes]\n",
    "    counts = [types.count(type) for type in set(types)]\n",
    "    for c in counts:\n",
    "        answer *= c + 1\n",
    "    \n",
    "    return answer - 1"
   ]
  }
 ],
 "metadata": {
  "kernelspec": {
   "display_name": "Python 3.9.12 ('base')",
   "language": "python",
   "name": "python3"
  },
  "language_info": {
   "codemirror_mode": {
    "name": "ipython",
    "version": 3
   },
   "file_extension": ".py",
   "mimetype": "text/x-python",
   "name": "python",
   "nbconvert_exporter": "python",
   "pygments_lexer": "ipython3",
   "version": "3.9.12"
  },
  "orig_nbformat": 4,
  "vscode": {
   "interpreter": {
    "hash": "734ab24b5d337aa3083f37141e45635523032b38e37867a0b0460a6855b4b5f7"
   }
  }
 },
 "nbformat": 4,
 "nbformat_minor": 2
}
