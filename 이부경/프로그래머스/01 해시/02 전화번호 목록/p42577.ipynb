{
 "cells": [
  {
   "cell_type": "code",
   "execution_count": null,
   "metadata": {},
   "outputs": [],
   "source": [
    "import pprint\n",
    "\n",
    "def solution(phone_book):\n",
    "    book = sorted(phone_book)\n",
    "    # pprint.pprint(book)\n",
    "\n",
    "    # 1등 답 보고 수정    \n",
    "    for i in range(len(book) - 1):\n",
    "        if book[i + 1].startswith(book[i]):\n",
    "            return False\n",
    "    return True\n",
    "\n",
    "print(solution([\"119\", \"97674223\", \"1195524421\"]))\n",
    "print(solution([\"123\",\"456\",\"789\"]))\n",
    "print(solution([\"12\",\"123\",\"1235\",\"567\",\"88\"]))"
   ]
  },
  {
   "cell_type": "code",
   "execution_count": null,
   "metadata": {},
   "outputs": [],
   "source": []
  }
 ],
 "metadata": {
  "kernelspec": {
   "display_name": "Python 3.9.12 ('base')",
   "language": "python",
   "name": "python3"
  },
  "language_info": {
   "codemirror_mode": {
    "name": "ipython",
    "version": 3
   },
   "file_extension": ".py",
   "mimetype": "text/x-python",
   "name": "python",
   "nbconvert_exporter": "python",
   "pygments_lexer": "ipython3",
   "version": "3.9.12"
  },
  "orig_nbformat": 4,
  "vscode": {
   "interpreter": {
    "hash": "734ab24b5d337aa3083f37141e45635523032b38e37867a0b0460a6855b4b5f7"
   }
  }
 },
 "nbformat": 4,
 "nbformat_minor": 2
}
