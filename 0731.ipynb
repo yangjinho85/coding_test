{
  "nbformat": 4,
  "nbformat_minor": 0,
  "metadata": {
    "colab": {
      "name": "0731.ipynb",
      "provenance": [],
      "collapsed_sections": [],
      "authorship_tag": "ABX9TyM6jDEydsKi1kat8qgxD5cr"
    },
    "kernelspec": {
      "name": "python3",
      "display_name": "Python 3"
    },
    "language_info": {
      "name": "python"
    }
  },
  "cells": [
    {
      "cell_type": "markdown",
      "source": [
        "#다이얼\n",
        "https://www.acmicpc.net/problem/5622"
      ],
      "metadata": {
        "id": "8lq5K3QFjZoQ"
      }
    },
    {
      "cell_type": "code",
      "execution_count": null,
      "metadata": {
        "id": "2agH8FpojWhc"
      },
      "outputs": [],
      "source": [
        "tel={2:\"ABC\",3:\"DEF\",4:\"GHI\",5:\"JKL\",6:\"MNO\",7:\"PQRS\",8:\"TUV\",9:\"WXYZ\"}\n",
        "word = input().upper()\n",
        "result=[]\n",
        "for i in range(len(word)):\n",
        "    for j in range(2,len(tel)+2):\n",
        "        if word[i] in tel[j]:\n",
        "            result.append(j+1)\n",
        "print(sum(result))"
      ]
    },
    {
      "cell_type": "markdown",
      "source": [
        "#음계\n",
        "https://www.acmicpc.net/problem/2920"
      ],
      "metadata": {
        "id": "00-azyIRjwVl"
      }
    },
    {
      "cell_type": "code",
      "source": [
        "num=list(map(int,input().split()))\n",
        "ascending=[1,2,3,4,5,6,7,8]\n",
        "descending = sorted(ascending,reverse=True)\n",
        "if num == ascending:\n",
        "    print(\"ascending\")\n",
        "elif num == descending:\n",
        "    print(\"descending\")\n",
        "else:\n",
        "    print(\"mixed\")"
      ],
      "metadata": {
        "id": "saSOBouJj1Wo"
      },
      "execution_count": null,
      "outputs": []
    },
    {
      "cell_type": "markdown",
      "source": [
        "# 열 개씩 끊어 출력하기\n",
        "https://www.acmicpc.net/problem/11721"
      ],
      "metadata": {
        "id": "jCg4hIgEj5Nc"
      }
    },
    {
      "cell_type": "code",
      "source": [
        "import math\n",
        "a=input()\n",
        "for i in range(math.ceil(len(a)/10)):\n",
        "    \n",
        "    if i == math.ceil(len(a)/10)-1:\n",
        "        print(a[i*10:])\n",
        "    else :\n",
        "        print(a[i*10:(i+1)*10])"
      ],
      "metadata": {
        "id": "1SVHtE2jj9AJ"
      },
      "execution_count": null,
      "outputs": []
    }
  ]
}