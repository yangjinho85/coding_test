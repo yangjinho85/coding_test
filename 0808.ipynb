{
  "nbformat": 4,
  "nbformat_minor": 0,
  "metadata": {
    "colab": {
      "name": "0808.ipynb",
      "provenance": [],
      "authorship_tag": "ABX9TyOLvqKK7VV1aQyzNQjnPMW6"
    },
    "kernelspec": {
      "name": "python3",
      "display_name": "Python 3"
    },
    "language_info": {
      "name": "python"
    }
  },
  "cells": [
    {
      "cell_type": "markdown",
      "source": [
        "#<a href=\"https://futureskill.io/content/66892f50-e71d-4ae9-a6c6-428955c728e4\">파이썬 50제 5부</a>"
      ],
      "metadata": {
        "id": "5FRzfGuyEZq1"
      }
    },
    {
      "cell_type": "code",
      "execution_count": 3,
      "metadata": {
        "colab": {
          "base_uri": "https://localhost:8080/"
        },
        "id": "SajNDN2gyBx3",
        "outputId": "45e97fe1-2970-4565-e422-f42e23cb5aec"
      },
      "outputs": [
        {
          "output_type": "execute_result",
          "data": {
            "text/plain": [
              "['Sentence1', 'Sentence2', 'Sentence3']"
            ]
          },
          "metadata": {},
          "execution_count": 3
        }
      ],
      "source": [
        "corpus = 'Sentence1\\nSentence2\\nSentence3'\n",
        "\n",
        "def split_lines(corpus):\n",
        "\treturn corpus.split('\\n')\n",
        "\n",
        "split_lines(corpus)"
      ]
    },
    {
      "cell_type": "code",
      "source": [
        "print(corpus,sep='\\n')"
      ],
      "metadata": {
        "colab": {
          "base_uri": "https://localhost:8080/"
        },
        "id": "Y5HmAFP_EsxC",
        "outputId": "aa4e1c3e-1463-482e-a577-27393aeb66a4"
      },
      "execution_count": 6,
      "outputs": [
        {
          "output_type": "stream",
          "name": "stdout",
          "text": [
            "Sentence1\n",
            "Sentence2\n",
            "Sentence3\n"
          ]
        }
      ]
    },
    {
      "cell_type": "code",
      "source": [
        "lst = [{'n':4},{'n':2},{'n':8},{'n':6}]\n",
        "fn = lambda v:v['n']\n",
        "\n",
        "def sum_by(lst, fn):\n",
        "\treturn sum(map(fn,lst))\n",
        "\n",
        "sum_by(lst, fn)\n"
      ],
      "metadata": {
        "colab": {
          "base_uri": "https://localhost:8080/"
        },
        "id": "G-Tm5fX9FAx7",
        "outputId": "7fa4c469-38c7-4dbe-cdc8-4442b3be4277"
      },
      "execution_count": 8,
      "outputs": [
        {
          "output_type": "execute_result",
          "data": {
            "text/plain": [
              "20"
            ]
          },
          "metadata": {},
          "execution_count": 8
        }
      ]
    },
    {
      "cell_type": "code",
      "source": [
        "lst = [1, 2, 3, 4, 5]\n",
        "\n",
        "def tail(lst):\n",
        "\treturn lst[1:] if len(lst) >1 else lst\n",
        "\n",
        "tail(lst)"
      ],
      "metadata": {
        "colab": {
          "base_uri": "https://localhost:8080/"
        },
        "id": "EGTFQW_pFZuq",
        "outputId": "d752d8f5-9dd1-45a3-9a4e-dd1730d59611"
      },
      "execution_count": 10,
      "outputs": [
        {
          "output_type": "execute_result",
          "data": {
            "text/plain": [
              "[2, 3, 4, 5]"
            ]
          },
          "metadata": {},
          "execution_count": 10
        }
      ]
    },
    {
      "cell_type": "code",
      "source": [
        "def take(itr, n=1):\n",
        "\treturn itr[:n]\n",
        "\n",
        "take([1,2,3,4,5],3)\n",
        "#take([1,2,3],5)\n",
        "#take([1,2,3],0)\n"
      ],
      "metadata": {
        "colab": {
          "base_uri": "https://localhost:8080/"
        },
        "id": "F423bqmXFqai",
        "outputId": "b7e40343-72a2-4a04-e40c-213a29791523"
      },
      "execution_count": 13,
      "outputs": [
        {
          "output_type": "execute_result",
          "data": {
            "text/plain": [
              "[1, 2, 3]"
            ]
          },
          "metadata": {},
          "execution_count": 13
        }
      ]
    },
    {
      "cell_type": "code",
      "source": [
        "def take_right(itr, n=1):\n",
        "\treturn itr[:-n-1:-1]\n",
        "take_right([1,2,3,4,5],3)\n",
        "take_right([1,2,3],5)\n",
        "take_right([1,2,3])"
      ],
      "metadata": {
        "colab": {
          "base_uri": "https://localhost:8080/"
        },
        "id": "TBQox_CgF_Jc",
        "outputId": "a0909873-cb1d-4bcb-cc2d-0091d8fc8d50"
      },
      "execution_count": 40,
      "outputs": [
        {
          "output_type": "execute_result",
          "data": {
            "text/plain": [
              "[3]"
            ]
          },
          "metadata": {},
          "execution_count": 40
        }
      ]
    },
    {
      "cell_type": "code",
      "source": [
        "a = [1,2,3,99]\n",
        "b = [2,3,4,52] \n",
        "\n",
        "def union(a,b):\n",
        "\treturn set(a).union(set(b))\n",
        "\n",
        "union(a,b)"
      ],
      "metadata": {
        "colab": {
          "base_uri": "https://localhost:8080/"
        },
        "id": "zWIccR1bGSEh",
        "outputId": "a18ed64a-b5c0-4f76-9f72-51198e9aed67"
      },
      "execution_count": 42,
      "outputs": [
        {
          "output_type": "execute_result",
          "data": {
            "text/plain": [
              "{1, 2, 3, 4, 52, 99}"
            ]
          },
          "metadata": {},
          "execution_count": 42
        }
      ]
    },
    {
      "cell_type": "code",
      "source": [
        "lst = [1,4,4,4,5,5,2,3,100,150,5220,100,500,300,84961231,65464646]\n",
        "\n",
        "def unique_elements(lst):\n",
        "\treturn sorted(set(lst))\n",
        "\n",
        "unique_elements(lst)"
      ],
      "metadata": {
        "colab": {
          "base_uri": "https://localhost:8080/"
        },
        "id": "TOuz3uhXHarg",
        "outputId": "d8fc493c-f787-4b25-fee4-b36b2681308e"
      },
      "execution_count": 45,
      "outputs": [
        {
          "output_type": "execute_result",
          "data": {
            "text/plain": [
              "[1, 2, 3, 4, 5, 100, 5220, 65464646, 300, 84961231, 500, 150]"
            ]
          },
          "metadata": {},
          "execution_count": 45
        }
      ]
    },
    {
      "cell_type": "code",
      "source": [
        "ages = {\n",
        "\t\"Peter\":10,\n",
        "\t\"Isabel\":11,\n",
        "\t\"Anna\":9,\n",
        "}\n",
        "\n",
        "def values_only(flat_dict):\n",
        "\treturn list(flat_dict.values())\n",
        "\n",
        "values_only(ages)"
      ],
      "metadata": {
        "colab": {
          "base_uri": "https://localhost:8080/"
        },
        "id": "UWPSNiHzJ496",
        "outputId": "c7057367-47f4-41c0-813a-f921dc896071"
      },
      "execution_count": 46,
      "outputs": [
        {
          "output_type": "execute_result",
          "data": {
            "text/plain": [
              "[10, 11, 9]"
            ]
          },
          "metadata": {},
          "execution_count": 46
        }
      ]
    },
    {
      "cell_type": "markdown",
      "source": [
        "#<a href=\"https://www.acmicpc.net/problem/2750\">수 정렬하기</a>"
      ],
      "metadata": {
        "id": "Nq82uO_ALlIP"
      }
    },
    {
      "cell_type": "code",
      "source": [
        "N=int(input())\n",
        "num=[]\n",
        "for i in range(N):\n",
        "    num.append(int(input()))\n",
        "for i in range(N):\n",
        "    num=sorted(num)\n",
        "    print(num[i])\n"
      ],
      "metadata": {
        "colab": {
          "base_uri": "https://localhost:8080/"
        },
        "id": "HAB-frcYLRlr",
        "outputId": "2662fb70-1a82-4083-c19d-d7f3aa7c2994"
      },
      "execution_count": 54,
      "outputs": [
        {
          "output_type": "stream",
          "name": "stdout",
          "text": [
            "5\n",
            "2\n",
            "3\n",
            "4\n",
            "1\n",
            "1\n",
            "2\n",
            "3\n",
            "4\n",
            "5\n"
          ]
        }
      ]
    },
    {
      "cell_type": "markdown",
      "source": [
        "#<a href=\"https://www.acmicpc.net/problem/10872\">팩토리얼</a>"
      ],
      "metadata": {
        "id": "menB0wI4NWUR"
      }
    },
    {
      "cell_type": "code",
      "source": [
        "N=int(input())\n",
        "result=1\n",
        "for i in  range(1,N+1):\n",
        "    result *=i\n",
        "print(result)\n",
        "\n"
      ],
      "metadata": {
        "colab": {
          "base_uri": "https://localhost:8080/"
        },
        "id": "KwhaNuEUMgsB",
        "outputId": "20a1d353-1cf2-4e64-a296-5a5eab31758b"
      },
      "execution_count": 57,
      "outputs": [
        {
          "output_type": "stream",
          "name": "stdout",
          "text": [
            "3628800\n"
          ]
        }
      ]
    },
    {
      "cell_type": "markdown",
      "source": [
        "#<a href=\"https://www.acmicpc.net/problem/1316\">그룹 단어 체커</a>"
      ],
      "metadata": {
        "id": "ngXlmHgIOIRd"
      }
    },
    {
      "cell_type": "code",
      "source": [
        "N = int(input())\n",
        "result=0\n",
        "for i in range(N):\n",
        "    checklist=input()\n",
        "    check=[]\n",
        "\n",
        "    for j in range(len(checklist)):\n",
        "        \n",
        "        if checklist[j] in check:\n",
        "            if check[j-1]==checklist[j]:\n",
        "                check.append(checklist[j])\n",
        "            else:\n",
        "                break\n",
        "        else:\n",
        "            check.append(checklist[j])\n",
        "            \n",
        "\n",
        "    if len(check)==len(checklist):\n",
        "        result+=1\n",
        "print(result)"
      ],
      "metadata": {
        "colab": {
          "base_uri": "https://localhost:8080/"
        },
        "id": "Yr1EA5UIN1nR",
        "outputId": "123699a2-4e43-4e3f-e2fb-5b24f3965365"
      },
      "execution_count": 83,
      "outputs": [
        {
          "output_type": "stream",
          "name": "stdout",
          "text": [
            "1\n",
            "z\n",
            "1\n"
          ]
        }
      ]
    },
    {
      "cell_type": "markdown",
      "source": [
        "#<a href=\"https://www.acmicpc.net/problem/2941\">크로아티아 알파벳</a>"
      ],
      "metadata": {
        "id": "pDZT0HovWY3r"
      }
    },
    {
      "cell_type": "code",
      "source": [
        "a='ljes=njak'\n",
        "a=a.replace('s=','')\n",
        "a"
      ],
      "metadata": {
        "colab": {
          "base_uri": "https://localhost:8080/",
          "height": 36
        },
        "id": "i0jA-KISOda8",
        "outputId": "231921e9-1999-462a-9737-124850b3398e"
      },
      "execution_count": 95,
      "outputs": [
        {
          "output_type": "execute_result",
          "data": {
            "text/plain": [
              "'ljenjak'"
            ],
            "application/vnd.google.colaboratory.intrinsic+json": {
              "type": "string"
            }
          },
          "metadata": {},
          "execution_count": 95
        }
      ]
    },
    {
      "cell_type": "code",
      "source": [
        "check=['c=','c-','dz=','d-','lj','nj','s=','z=']\n",
        "word=input()\n",
        "cnt=0\n",
        "\n",
        "for item in check:\n",
        "    if item in word:\n",
        "        word = word.replace(item,'',1)\n",
        "        cnt+=1\n",
        "        continue\n",
        "print(word)    \n",
        "print(len(word)+cnt)"
      ],
      "metadata": {
        "colab": {
          "base_uri": "https://localhost:8080/"
        },
        "id": "LGIymwAdRJKx",
        "outputId": "9285f5cf-869c-4ee7-f4f1-37b82f4d3261"
      },
      "execution_count": 113,
      "outputs": [
        {
          "output_type": "stream",
          "name": "stdout",
          "text": [
            "c=c=\n",
            "c=\n",
            "3\n"
          ]
        }
      ]
    },
    {
      "cell_type": "code",
      "source": [
        "check=['c=','c-','dz=','d-','lj','nj','s=','z=']\n",
        "word=input()\n",
        "cnt=0\n",
        "\n",
        "while True:\n",
        "    if check in word:\n",
        "        word = word.replace(item,'',1)\n",
        "        cnt+=1\n",
        "    else:\n",
        "        break\n",
        "print(len(word)+cnt)\n"
      ],
      "metadata": {
        "colab": {
          "base_uri": "https://localhost:8080/",
          "height": 265
        },
        "id": "GQzptEPxc-sL",
        "outputId": "1f45b2ea-cfcf-40d6-82ef-34673dc2b483"
      },
      "execution_count": 112,
      "outputs": [
        {
          "name": "stdout",
          "output_type": "stream",
          "text": [
            "c=c=\n"
          ]
        },
        {
          "output_type": "error",
          "ename": "KeyboardInterrupt",
          "evalue": "ignored",
          "traceback": [
            "\u001b[0;31m---------------------------------------------------------------------------\u001b[0m",
            "\u001b[0;31mKeyboardInterrupt\u001b[0m                         Traceback (most recent call last)",
            "\u001b[0;32m<ipython-input-112-f7121c12274f>\u001b[0m in \u001b[0;36m<module>\u001b[0;34m()\u001b[0m\n\u001b[1;32m      6\u001b[0m     \u001b[0;32mif\u001b[0m \u001b[0mcheck\u001b[0m\u001b[0;34m[\u001b[0m\u001b[0;36m0\u001b[0m\u001b[0;34m]\u001b[0m \u001b[0;32min\u001b[0m \u001b[0mword\u001b[0m\u001b[0;34m:\u001b[0m\u001b[0;34m\u001b[0m\u001b[0;34m\u001b[0m\u001b[0m\n\u001b[1;32m      7\u001b[0m         \u001b[0mword\u001b[0m \u001b[0;34m=\u001b[0m \u001b[0mword\u001b[0m\u001b[0;34m.\u001b[0m\u001b[0mreplace\u001b[0m\u001b[0;34m(\u001b[0m\u001b[0mitem\u001b[0m\u001b[0;34m,\u001b[0m\u001b[0;34m''\u001b[0m\u001b[0;34m,\u001b[0m\u001b[0;36m1\u001b[0m\u001b[0;34m)\u001b[0m\u001b[0;34m\u001b[0m\u001b[0;34m\u001b[0m\u001b[0m\n\u001b[0;32m----> 8\u001b[0;31m         \u001b[0mcnt\u001b[0m\u001b[0;34m+=\u001b[0m\u001b[0;36m1\u001b[0m\u001b[0;34m\u001b[0m\u001b[0;34m\u001b[0m\u001b[0m\n\u001b[0m\u001b[1;32m      9\u001b[0m     \u001b[0;32melse\u001b[0m\u001b[0;34m:\u001b[0m\u001b[0;34m\u001b[0m\u001b[0;34m\u001b[0m\u001b[0m\n\u001b[1;32m     10\u001b[0m         \u001b[0;32mbreak\u001b[0m\u001b[0;34m\u001b[0m\u001b[0;34m\u001b[0m\u001b[0m\n",
            "\u001b[0;31mKeyboardInterrupt\u001b[0m: "
          ]
        }
      ]
    },
    {
      "cell_type": "code",
      "source": [
        "n=17\n",
        "start=0\n",
        "end=1\n",
        "for i in range(1,n):\n",
        "    print(start+end)\n",
        "    start =end\n",
        "    end +=start\n",
        "\n"
      ],
      "metadata": {
        "colab": {
          "base_uri": "https://localhost:8080/"
        },
        "id": "TDWjhy7afoMM",
        "outputId": "b1ee8fa9-1f31-4db7-b963-9dd0252afa82"
      },
      "execution_count": 120,
      "outputs": [
        {
          "output_type": "stream",
          "name": "stdout",
          "text": [
            "1\n",
            "3\n",
            "6\n",
            "12\n",
            "24\n",
            "48\n",
            "96\n",
            "192\n",
            "384\n",
            "768\n",
            "1536\n",
            "3072\n",
            "6144\n",
            "12288\n",
            "24576\n",
            "49152\n"
          ]
        }
      ]
    },
    {
      "cell_type": "code",
      "source": [
        ""
      ],
      "metadata": {
        "id": "rmW33UWwhCUI"
      },
      "execution_count": null,
      "outputs": []
    }
  ]
}