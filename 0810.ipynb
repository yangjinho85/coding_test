{
  "nbformat": 4,
  "nbformat_minor": 0,
  "metadata": {
    "colab": {
      "name": "0810.ipynb",
      "provenance": [],
      "authorship_tag": "ABX9TyM+sQCqdnkWeShWhSE/2HtS"
    },
    "kernelspec": {
      "name": "python3",
      "display_name": "Python 3"
    },
    "language_info": {
      "name": "python"
    }
  },
  "cells": [
    {
      "cell_type": "markdown",
      "source": [
        "#<a href=\"https://www.acmicpc.net/problem/25304\">영수증</a>"
      ],
      "metadata": {
        "id": "RdI0x-zXVe3o"
      }
    },
    {
      "cell_type": "code",
      "source": [
        "X=int(input())\n",
        "N=int(input())\n",
        "result=[]\n",
        "for i in range(N):\n",
        "    a,b=map(int,input().split())\n",
        "    \n",
        "    result.append(a*b)\n",
        "if sum(result)==X:\n",
        "    print('Yes')\n",
        "else:\n",
        "    print('No')\n"
      ],
      "metadata": {
        "colab": {
          "base_uri": "https://localhost:8080/"
        },
        "id": "-dG7tgcXVeIg",
        "outputId": "eda82fca-7a23-4dfc-e144-31c24c510629"
      },
      "execution_count": 4,
      "outputs": [
        {
          "output_type": "stream",
          "name": "stdout",
          "text": [
            "260000\n",
            "4\n",
            "20000 5\n",
            "30000 2\n",
            "10000 6\n",
            "5000 8\n",
            "Yes\n"
          ]
        }
      ]
    },
    {
      "cell_type": "markdown",
      "source": [
        "#<a href=\"https://www.acmicpc.net/problem/1271\">엄청난 부자2</a>\n",
        "\n"
      ],
      "metadata": {
        "id": "NHFWZTepXoRD"
      }
    },
    {
      "cell_type": "code",
      "source": [
        "N,M =map(int,input().split())\n",
        "print(N//M)\n",
        "print(N%M)"
      ],
      "metadata": {
        "colab": {
          "base_uri": "https://localhost:8080/"
        },
        "id": "GXd6zGGYWRRZ",
        "outputId": "48224dbc-0080-462c-91c8-7032606fcc98"
      },
      "execution_count": 5,
      "outputs": [
        {
          "output_type": "stream",
          "name": "stdout",
          "text": [
            "1000 100\n",
            "10\n",
            "0\n"
          ]
        }
      ]
    },
    {
      "cell_type": "markdown",
      "source": [
        "#<a href=\"https://www.acmicpc.net/problem/2754\">학점계산</a>"
      ],
      "metadata": {
        "id": "CKh02O4OYHfO"
      }
    },
    {
      "cell_type": "code",
      "source": [
        "grades={'A+': 4.3, 'A0': 4.0, 'A-': 3.7,'B+': 3.3, 'B0': 3.0, 'B-': 2.7,'C+': 2.3, 'C0': 2.0, 'C-': 1.7,'D+': 1.3, 'D0': 1.0, 'D-': 0.7,'F': 0.0}\n",
        "print(grades[input()])"
      ],
      "metadata": {
        "colab": {
          "base_uri": "https://localhost:8080/"
        },
        "id": "s1Wb48rDYBqr",
        "outputId": "1cd27df6-dd67-4de3-a62a-1f9501a51705"
      },
      "execution_count": 6,
      "outputs": [
        {
          "output_type": "stream",
          "name": "stdout",
          "text": [
            "A0\n",
            "4.0\n"
          ]
        }
      ]
    },
    {
      "cell_type": "markdown",
      "source": [
        "#<a href=\"https://www.acmicpc.net/problem/15964\">이상한 기호</a>"
      ],
      "metadata": {
        "id": "Z3wX6QwOZG1F"
      }
    },
    {
      "cell_type": "code",
      "source": [
        "a,b=map(int,input().split())\n",
        "print((a+b)*(a-b))"
      ],
      "metadata": {
        "colab": {
          "base_uri": "https://localhost:8080/"
        },
        "id": "qI_oyNoHZM8d",
        "outputId": "107efa22-e2c1-49d2-cf39-2473c41e055e"
      },
      "execution_count": 11,
      "outputs": [
        {
          "output_type": "stream",
          "name": "stdout",
          "text": [
            "3 4\n",
            "-7\n"
          ]
        }
      ]
    },
    {
      "cell_type": "markdown",
      "source": [
        "#<a href=\"https://www.acmicpc.net/problem/2744\">대소문자 바꾸기</a>"
      ],
      "metadata": {
        "id": "S0-gPI9oaeAG"
      }
    },
    {
      "cell_type": "code",
      "source": [
        "word=input()\n",
        "print(word.swapcase())"
      ],
      "metadata": {
        "colab": {
          "base_uri": "https://localhost:8080/"
        },
        "id": "5FhEs39oaiXp",
        "outputId": "25647079-0241-4564-ea48-1b8eaa062d7c"
      },
      "execution_count": 13,
      "outputs": [
        {
          "output_type": "stream",
          "name": "stdout",
          "text": [
            "SFsdfsdfSFadfsd\n",
            "sfSDFSDFsfADFSD\n"
          ]
        }
      ]
    },
    {
      "cell_type": "markdown",
      "source": [
        "#<a href=\"https://www.acmicpc.net/problem/11382\">꼬마 정민</a>"
      ],
      "metadata": {
        "id": "mX9a2VTKbwN-"
      }
    },
    {
      "cell_type": "code",
      "source": [
        "a,b,c=map(int,input().split())\n",
        "print(a+b+c)"
      ],
      "metadata": {
        "colab": {
          "base_uri": "https://localhost:8080/"
        },
        "id": "COiDRHRdb4pt",
        "outputId": "252646f5-ed77-4400-d592-6217179085c8"
      },
      "execution_count": 14,
      "outputs": [
        {
          "output_type": "stream",
          "name": "stdout",
          "text": [
            "77 77 7777\n",
            "7931\n"
          ]
        }
      ]
    },
    {
      "cell_type": "markdown",
      "source": [
        "#<a href=\"https://www.acmicpc.net/problem/2738\">행렬 덧셈</a>"
      ],
      "metadata": {
        "id": "jP0ffzIZcHFl"
      }
    },
    {
      "cell_type": "code",
      "source": [
        "n,m=map(int,input().split())\n",
        "a=[]\n",
        "b=[]\n",
        "for i in a,b:\n",
        "    for j in range(n):\n",
        "        i.append(list(map(int,input().split())))\n",
        "for i in range(n):\n",
        "    for j in range(m):\n",
        "        print(a[i][j]+b[i][j],end=' ')\n",
        "    print()        "
      ],
      "metadata": {
        "colab": {
          "base_uri": "https://localhost:8080/"
        },
        "id": "UEFSW_-dcLhZ",
        "outputId": "8edb2c5e-07c5-434c-a222-3d39a68b55a4"
      },
      "execution_count": 57,
      "outputs": [
        {
          "output_type": "stream",
          "name": "stdout",
          "text": [
            "3 3\n",
            "1 1 1\n",
            "2 2 2\n",
            "0 1 0\n",
            "3 3 3\n",
            "4 4 4\n",
            "5 5 100\n",
            "4 4 4 \n",
            "6 6 6 \n",
            "5 6 100 \n"
          ]
        }
      ]
    },
    {
      "cell_type": "markdown",
      "source": [
        "#<a href=\"https://www.acmicpc.net/problem/10807\">개수 세기</a>"
      ],
      "metadata": {
        "id": "DiVH6N5nkBMa"
      }
    },
    {
      "cell_type": "code",
      "source": [
        "N=int(input())\n",
        "result=list(map(int,input().split()))\n",
        "print(result.count(int(input())))"
      ],
      "metadata": {
        "colab": {
          "base_uri": "https://localhost:8080/"
        },
        "id": "Y_Q2AJPQkPg6",
        "outputId": "2200a8bc-2d8a-47bc-9dc5-0a751c195a97"
      },
      "execution_count": 67,
      "outputs": [
        {
          "output_type": "stream",
          "name": "stdout",
          "text": [
            "11\n",
            "1 4 1 2 4 2 4 2 3 4 4\n",
            "5\n",
            "0\n"
          ]
        }
      ]
    },
    {
      "cell_type": "markdown",
      "source": [
        "#<a href=\"https://www.acmicpc.net/problem/9086\">문자열</a>"
      ],
      "metadata": {
        "id": "LBxMBgNfj7gw"
      }
    },
    {
      "cell_type": "code",
      "source": [
        "t=int(input())\n",
        "result=[]\n",
        "for i in range(t):\n",
        "    result.append(input())\n",
        "for word in result:\n",
        "    print(word[0]+word[-1])"
      ],
      "metadata": {
        "colab": {
          "base_uri": "https://localhost:8080/"
        },
        "id": "-f9YQO3rlzym",
        "outputId": "11a8cf87-3e6f-41bb-f09e-a1271a2ddb17"
      },
      "execution_count": 73,
      "outputs": [
        {
          "output_type": "stream",
          "name": "stdout",
          "text": [
            "3\n",
            "ACDKJFOWIEGHE\n",
            "O\n",
            "AB\n",
            "AE\n",
            "OO\n",
            "AB\n"
          ]
        }
      ]
    },
    {
      "cell_type": "markdown",
      "source": [
        "#<a href=\"https://www.acmicpc.net/problem/4999\">아!</a>"
      ],
      "metadata": {
        "id": "0ggXJ9CbkBNe"
      }
    },
    {
      "cell_type": "code",
      "source": [
        "a=input()\n",
        "b=input()\n",
        "\n",
        "if len(a)>=len(b):\n",
        "    print('go')\n",
        "else:\n",
        "    print('no')"
      ],
      "metadata": {
        "colab": {
          "base_uri": "https://localhost:8080/"
        },
        "id": "hHKK_RQom7ht",
        "outputId": "e09dbcb8-5eba-40f0-9282-805a5f099efb"
      },
      "execution_count": 75,
      "outputs": [
        {
          "output_type": "stream",
          "name": "stdout",
          "text": [
            "aaah\n",
            "ah\n",
            "go\n"
          ]
        }
      ]
    },
    {
      "cell_type": "markdown",
      "source": [
        "#<a href=\"https://www.acmicpc.net/problem/25372\">성택이의 은밀한 비밀번호</a>"
      ],
      "metadata": {
        "id": "pWI7lo_hkBaF"
      }
    },
    {
      "cell_type": "code",
      "source": [
        "n=int(input())\n",
        "for i in range(n):\n",
        "    result=input()\n",
        "    if 6 <= len(result) <= 9:\n",
        "        print('yes')\n",
        "    else:\n",
        "        print('no')"
      ],
      "metadata": {
        "colab": {
          "base_uri": "https://localhost:8080/"
        },
        "id": "HTDonJZgnovB",
        "outputId": "d31376ea-700d-4598-e9f9-f783dd72732e"
      },
      "execution_count": 77,
      "outputs": [
        {
          "output_type": "stream",
          "name": "stdout",
          "text": [
            "3\n",
            "1245125\n",
            "yes\n",
            "asdij\n",
            "no\n",
            "120318739721\n",
            "no\n"
          ]
        }
      ]
    },
    {
      "cell_type": "markdown",
      "source": [
        "#<a href=\"https://www.acmicpc.net/problem/25314\">코딩은 체육과목 입니다</a>"
      ],
      "metadata": {
        "id": "2fu2qDdIkBgx"
      }
    },
    {
      "cell_type": "code",
      "source": [
        "N=int(input())\n",
        "M = N-4\n",
        "if M !=0:\n",
        "    print('long '*(int(M/4)),end='')\n",
        "print('long int')"
      ],
      "metadata": {
        "colab": {
          "base_uri": "https://localhost:8080/"
        },
        "id": "58ZGZVIDowQR",
        "outputId": "430ae7bc-8fa0-4d41-ccf9-2817daf6aa41"
      },
      "execution_count": 87,
      "outputs": [
        {
          "output_type": "stream",
          "name": "stdout",
          "text": [
            "20\n",
            "long long long long long int\n"
          ]
        }
      ]
    },
    {
      "cell_type": "markdown",
      "source": [
        "#<a href=\"https://www.acmicpc.net/problem/2338\">긴자리 계산</a>"
      ],
      "metadata": {
        "id": "qpU9tVV8kBlg"
      }
    },
    {
      "cell_type": "code",
      "source": [
        "a=int(input())\n",
        "b=int(input())\n",
        "print(a+b)\n",
        "print(a-b)\n",
        "print(a*b)\n"
      ],
      "metadata": {
        "colab": {
          "base_uri": "https://localhost:8080/"
        },
        "id": "qvuBYfkbqCmU",
        "outputId": "a0d69e0a-ae69-494f-fcee-51798e698aa9"
      },
      "execution_count": 88,
      "outputs": [
        {
          "output_type": "stream",
          "name": "stdout",
          "text": [
            "1\n",
            "-1\n",
            "0\n",
            "2\n",
            "-1\n"
          ]
        }
      ]
    },
    {
      "cell_type": "markdown",
      "source": [
        "#<a href=\"https://www.acmicpc.net/problem/14645\">와이버스 부릉부릉</a>"
      ],
      "metadata": {
        "id": "XPj-mp2Lq5go"
      }
    },
    {
      "cell_type": "code",
      "source": [
        "N,k=map(int,input().split())\n",
        "for i in range(N):\n",
        "    a,b = map(int,input().split())\n",
        "print('비와이')"
      ],
      "metadata": {
        "colab": {
          "base_uri": "https://localhost:8080/"
        },
        "id": "imquJVdDrIb-",
        "outputId": "0d12fd56-e394-4762-d638-4db1ea60be8b"
      },
      "execution_count": 89,
      "outputs": [
        {
          "output_type": "stream",
          "name": "stdout",
          "text": [
            "3 2\n",
            "10 3\n",
            "21 8\n",
            "0 15\n",
            "비와이\n"
          ]
        }
      ]
    },
    {
      "cell_type": "markdown",
      "source": [
        "#<a href=\"https://www.acmicpc.net/problem/16394\">홍익대학교</a>"
      ],
      "metadata": {
        "id": "ggLZS7ZZrDah"
      }
    },
    {
      "cell_type": "code",
      "source": [
        "a=1946\n",
        "print(int(input())-a)"
      ],
      "metadata": {
        "colab": {
          "base_uri": "https://localhost:8080/"
        },
        "id": "yrwmFxhMryNw",
        "outputId": "24199445-1e00-4401-b750-296a729d4eee"
      },
      "execution_count": 91,
      "outputs": [
        {
          "output_type": "stream",
          "name": "stdout",
          "text": [
            "2018\n",
            "72\n"
          ]
        }
      ]
    },
    {
      "cell_type": "markdown",
      "source": [
        "#<a href=\"https://www.acmicpc.net/problem/15733\">나는 누구인가</a>"
      ],
      "metadata": {
        "id": "heqc7YWirDpZ"
      }
    },
    {
      "cell_type": "code",
      "source": [
        "print(\"I'm Sexy\")"
      ],
      "metadata": {
        "id": "YvIXd-MDsM8Q"
      },
      "execution_count": null,
      "outputs": []
    },
    {
      "cell_type": "markdown",
      "source": [
        "#<a href=\"https://www.acmicpc.net/problem/2480\">주사위 세개</a>"
      ],
      "metadata": {
        "id": "d-aejaa7rDux"
      }
    },
    {
      "cell_type": "code",
      "source": [
        "N=list(map(int,input().split()))\n",
        "if N.count(N[0]) ==3:\n",
        "    print(10000+(N[0]*1000))\n",
        "elif N.count(N[0])==2:\n",
        "    print(1000+(N[0]*100))\n",
        "elif N.count(N[1])==2:\n",
        "    print(1000+(N[1]*100))\n",
        "else:\n",
        "    print(max(N)*100)"
      ],
      "metadata": {
        "colab": {
          "base_uri": "https://localhost:8080/"
        },
        "id": "IrYPMymJsvOc",
        "outputId": "da9788b4-6ba9-4e21-f690-6044274677d5"
      },
      "execution_count": 113,
      "outputs": [
        {
          "output_type": "stream",
          "name": "stdout",
          "text": [
            "6 2 5\n",
            "600\n"
          ]
        }
      ]
    },
    {
      "cell_type": "markdown",
      "source": [
        "#<a href=\"https://www.acmicpc.net/problem/1264\">모음의 개수</a>"
      ],
      "metadata": {
        "id": "Bg0ZAd7yrDzR"
      }
    },
    {
      "cell_type": "code",
      "source": [
        "while True:\n",
        "    word=input().lower()\n",
        "    a=['a','e','i','o','u']\n",
        "    result=0\n",
        "    if word =='#':\n",
        "        break\n",
        "    \n",
        "    \n",
        "    for i in range(len(a)):\n",
        "        result += word.count(a[i])\n",
        "    print(result)\n",
        "\n"
      ],
      "metadata": {
        "colab": {
          "base_uri": "https://localhost:8080/"
        },
        "id": "-CERBhUWx3Os",
        "outputId": "c54d0246-75c0-4ad7-8cb4-b43ead1e0bf7"
      },
      "execution_count": 127,
      "outputs": [
        {
          "name": "stdout",
          "output_type": "stream",
          "text": [
            "I live at number twenty four.\n",
            "9\n",
            "#\n"
          ]
        }
      ]
    },
    {
      "cell_type": "code",
      "source": [
        ""
      ],
      "metadata": {
        "id": "lvKYghP72Mjw"
      },
      "execution_count": null,
      "outputs": []
    }
  ]
}