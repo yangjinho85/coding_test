{
  "nbformat": 4,
  "nbformat_minor": 0,
  "metadata": {
    "colab": {
      "name": "0804.ipynb",
      "provenance": [],
      "collapsed_sections": [],
      "authorship_tag": "ABX9TyOu7AVXnC7QgaIM9fGblm81"
    },
    "kernelspec": {
      "name": "python3",
      "display_name": "Python 3"
    },
    "language_info": {
      "name": "python"
    }
  },
  "cells": [
    {
      "cell_type": "markdown",
      "source": [
        "#<a href=\"https://codeup.kr/problem.php?id=1402\">거꾸로 출력하기 3</a>\n"
      ],
      "metadata": {
        "id": "brjefglvjxTt"
      }
    },
    {
      "cell_type": "code",
      "execution_count": 3,
      "metadata": {
        "colab": {
          "base_uri": "https://localhost:8080/"
        },
        "id": "0rNUJ3Q_g-B3",
        "outputId": "289681c5-5ef1-4093-c984-0d3bc6ed15c4"
      },
      "outputs": [
        {
          "output_type": "stream",
          "name": "stdout",
          "text": [
            "5\n",
            "1 3 5 6 8\n",
            "8 6 5 3 1 "
          ]
        }
      ],
      "source": [
        "n=int(input())   \n",
        "num =list(map(int,input().split()))\n",
        "\n",
        "for i in sorted(num,reverse=True):\n",
        "    print(i,end=\" \")\n"
      ]
    },
    {
      "cell_type": "markdown",
      "source": [
        "#<a href=\"https://codeup.kr/problem.php?id=1714&rid=0\">숫자 꺼꾸로 출력하기</a>\n"
      ],
      "metadata": {
        "id": "U87Y2LrSk8Tf"
      }
    },
    {
      "cell_type": "code",
      "source": [
        "num=input()\n",
        "num=str(num)\n",
        "print(num[::-1])"
      ],
      "metadata": {
        "colab": {
          "base_uri": "https://localhost:8080/"
        },
        "id": "2Vexum4Hi7bv",
        "outputId": "1f96c214-739f-4671-fb5a-f9fe5d306ba4"
      },
      "execution_count": 9,
      "outputs": [
        {
          "output_type": "stream",
          "name": "stdout",
          "text": [
            "321\n"
          ]
        }
      ]
    },
    {
      "cell_type": "markdown",
      "source": [
        "#<a href=\"https://codeup.kr/problem.php?id=2016&rid=0\">천단위 구분기호</a>"
      ],
      "metadata": {
        "id": "InbTXqG9lEPH"
      }
    },
    {
      "cell_type": "code",
      "source": [
        "n=int(input())\n",
        "num=input()\n",
        "num=num[::-1]\n",
        "output=[]\n",
        "for i in range(n):\n",
        "    if i %3 ==0:\n",
        "        output.append(',')   \n",
        "    output.append(num[i])\n",
        "print(''.join(output[::-1]).strip(','))\n"
      ],
      "metadata": {
        "colab": {
          "base_uri": "https://localhost:8080/"
        },
        "id": "AZf47Ebd343K",
        "outputId": "53d9cc15-be74-4dcc-8e80-068fe927294d"
      },
      "execution_count": 97,
      "outputs": [
        {
          "output_type": "stream",
          "name": "stdout",
          "text": [
            "12,421,421\n"
          ]
        }
      ]
    }
  ]
}