{
  "nbformat": 4,
  "nbformat_minor": 0,
  "metadata": {
    "colab": {
      "name": "0729.ipynb",
      "provenance": [],
      "collapsed_sections": [],
      "authorship_tag": "ABX9TyMDtNp9lK5vaD7APSE6UZCf"
    },
    "kernelspec": {
      "name": "python3",
      "display_name": "Python 3"
    },
    "language_info": {
      "name": "python"
    },
    "gpuClass": "standard"
  },
  "cells": [
    {
      "cell_type": "markdown",
      "source": [
        ""
      ],
      "metadata": {
        "id": "QvZAQm2rcsLe"
      }
    },
    {
      "cell_type": "markdown",
      "source": [
        "#그대로 출력하기\n",
        "https://www.acmicpc.net/problem/11718"
      ],
      "metadata": {
        "id": "qLddFoibc3KI"
      }
    },
    {
      "cell_type": "code",
      "source": [
        "while True:\n",
        "    try:        \n",
        "        print(input())\n",
        "    except:\n",
        "        break"
      ],
      "metadata": {
        "id": "p6BfQw5ic9l6"
      },
      "execution_count": null,
      "outputs": []
    },
    {
      "cell_type": "markdown",
      "source": [
        "#별 찍기 - 3\n",
        "https://www.acmicpc.net/problem/2440"
      ],
      "metadata": {
        "id": "iYKJuleddB1i"
      }
    },
    {
      "cell_type": "code",
      "source": [
        "n=int(input())\n",
        "for i in range(n,0,-1):\n",
        "    print(\"*\"*i)"
      ],
      "metadata": {
        "id": "uFMAxxvXdEAN"
      },
      "execution_count": null,
      "outputs": []
    },
    {
      "cell_type": "markdown",
      "source": [
        "#별 찍기 - 4\n",
        "https://www.acmicpc.net/problem/2441"
      ],
      "metadata": {
        "id": "6lZwcbE4dF0Y"
      }
    },
    {
      "cell_type": "code",
      "source": [
        "n=int(input())\n",
        "for i in range(n,0,-1):\n",
        "    print(\" \"*(n-i)+\"*\"*i)"
      ],
      "metadata": {
        "id": "HGBwelCcdHmR"
      },
      "execution_count": null,
      "outputs": []
    },
    {
      "cell_type": "markdown",
      "source": [
        "#단어 길이 재기\n",
        "https://www.acmicpc.net/problem/2743"
      ],
      "metadata": {
        "id": "PGvQEeHydJfD"
      }
    },
    {
      "cell_type": "code",
      "source": [
        "word=input()\n",
        "print(len(word))"
      ],
      "metadata": {
        "id": "Gv-RPLIFdLwd"
      },
      "execution_count": null,
      "outputs": []
    },
    {
      "cell_type": "markdown",
      "source": [
        "#등록\n",
        "https://www.acmicpc.net/problem/7287"
      ],
      "metadata": {
        "id": "CiJ4F5D7dNLt"
      }
    },
    {
      "cell_type": "code",
      "source": [
        "print(64)\n",
        "print(\"jinhoy\")"
      ],
      "metadata": {
        "id": "15sId-NddO2w"
      },
      "execution_count": null,
      "outputs": []
    },
    {
      "cell_type": "markdown",
      "source": [
        "#A+B -2\n",
        "https://www.acmicpc.net/problem/2558"
      ],
      "metadata": {
        "id": "oItELVbIdQQK"
      }
    },
    {
      "cell_type": "code",
      "source": [
        "a=int(input())\n",
        "b=int(input())\n",
        "print(a+b)"
      ],
      "metadata": {
        "id": "_9KHru7SdSGN"
      },
      "execution_count": null,
      "outputs": []
    },
    {
      "cell_type": "markdown",
      "source": [
        "#단어의 개수\n",
        "https://www.acmicpc.net/problem/1152"
      ],
      "metadata": {
        "id": "Qh0PFWArdTbm"
      }
    },
    {
      "cell_type": "code",
      "source": [
        "word=input().strip()\n",
        "print(len(word.split()))"
      ],
      "metadata": {
        "id": "NdDSzSRldU7O"
      },
      "execution_count": null,
      "outputs": []
    },
    {
      "cell_type": "markdown",
      "source": [
        "#세수\n",
        "https://www.acmicpc.net/problem/10817"
      ],
      "metadata": {
        "id": "x_apAnhbdWaE"
      }
    },
    {
      "cell_type": "code",
      "source": [
        "a=list(map(int,input().split()))\n",
        "a.sort(reverse=True)\n",
        "print(a[1])"
      ],
      "metadata": {
        "id": "fEOsz9y5dX_w"
      },
      "execution_count": null,
      "outputs": []
    },
    {
      "cell_type": "markdown",
      "source": [
        "#지능형 기차\n",
        "https://www.acmicpc.net/problem/2455"
      ],
      "metadata": {
        "id": "VdgHc5HsdZ8T"
      }
    },
    {
      "cell_type": "code",
      "source": [
        "sum=0\n",
        "people =[]\n",
        "for i in range(4):    \n",
        "    a,b = map(int,input().split())        \n",
        "    sum = (sum-a)+b\n",
        "    people.append(sum)\n",
        "print(max(people))"
      ],
      "metadata": {
        "id": "lhIPuv6ldak2"
      },
      "execution_count": null,
      "outputs": []
    },
    {
      "cell_type": "markdown",
      "source": [
        "#검증수\n",
        "https://www.acmicpc.net/problem/2475"
      ],
      "metadata": {
        "id": "7W23t53jdci5"
      }
    },
    {
      "cell_type": "code",
      "source": [
        "sr = list(map(int,input().split()))\n",
        "for i in range(len(sr)):\n",
        "    sr[i] = sr[i]**2\n",
        "    \n",
        "print(sum(sr)%10)"
      ],
      "metadata": {
        "id": "ZxrTezbkdcro"
      },
      "execution_count": null,
      "outputs": []
    },
    {
      "cell_type": "markdown",
      "source": [
        "#제로\n",
        "https://www.acmicpc.net/problem/10773"
      ],
      "metadata": {
        "id": "e_csbxzgdhaR"
      }
    },
    {
      "cell_type": "code",
      "source": [
        "k = int(input())\n",
        "numlist=[]\n",
        "for i in range(k):\n",
        "    zero = int(input())\n",
        "    if zero == 0:\n",
        "        numlist.pop()\n",
        "    else:\n",
        "        numlist.append(zero)\n",
        "print(sum(numlist))"
      ],
      "metadata": {
        "id": "EUfscvL-dilv"
      },
      "execution_count": null,
      "outputs": []
    },
    {
      "cell_type": "markdown",
      "source": [
        "#상수\n",
        "https://www.acmicpc.net/problem/2908"
      ],
      "metadata": {
        "id": "k81Zdda5dkQD"
      }
    },
    {
      "cell_type": "code",
      "source": [
        "a,b =input().split()\n",
        "if int(a[::-1]) > int(b[::-1]):\n",
        "    print(int(a[::-1]))\n",
        "else:\n",
        "    print(int(b[::-1]))"
      ],
      "metadata": {
        "id": "Omq9fMnCdlwT"
      },
      "execution_count": null,
      "outputs": []
    }
  ]
}