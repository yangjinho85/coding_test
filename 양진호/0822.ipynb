{
  "nbformat": 4,
  "nbformat_minor": 0,
  "metadata": {
    "colab": {
      "name": "0822.ipynb",
      "provenance": [],
      "authorship_tag": "ABX9TyPtn93gM3X7PuvXpIuZZhOf"
    },
    "kernelspec": {
      "name": "python3",
      "display_name": "Python 3"
    },
    "language_info": {
      "name": "python"
    }
  },
  "cells": [
    {
      "cell_type": "markdown",
      "source": [
        "#<a href=\"https://www.acmicpc.net/problem/25311\">UCPC에서 가장 쉬운 문제 번호는?</a>"
      ],
      "metadata": {
        "id": "jfpnoJDrRqea"
      }
    },
    {
      "cell_type": "code",
      "source": [
        "n=int(input())\n",
        "print('A')"
      ],
      "metadata": {
        "id": "CSwuOkRsO7qh"
      },
      "execution_count": null,
      "outputs": []
    },
    {
      "cell_type": "markdown",
      "source": [
        "#<a href=\"https://www.acmicpc.net/problem/5522\">카드 게임</a>"
      ],
      "metadata": {
        "id": "jKBmM6OeSWfw"
      }
    },
    {
      "cell_type": "code",
      "source": [
        "score=[]\n",
        "for i in range(5):\n",
        "    score.append(int(input()))\n",
        "print(sum(score))"
      ],
      "metadata": {
        "colab": {
          "base_uri": "https://localhost:8080/"
        },
        "id": "aea260H2R0--",
        "outputId": "59e17205-acee-4e7a-cde0-455269aa71d1"
      },
      "execution_count": 16,
      "outputs": [
        {
          "output_type": "stream",
          "name": "stdout",
          "text": [
            "1\n",
            "2\n",
            "3\n",
            "4\n",
            "5\n",
            "15\n"
          ]
        }
      ]
    },
    {
      "cell_type": "markdown",
      "source": [
        "#<a href=\"https://www.acmicpc.net/problem/15727\">조별과제를 하려는데 조장이 사라졌다</a>"
      ],
      "metadata": {
        "id": "yy1kDwI9UlTe"
      }
    },
    {
      "cell_type": "code",
      "source": [
        "import math\n",
        "a=int(input())\n",
        "print(math.ceil(a/5))"
      ],
      "metadata": {
        "colab": {
          "base_uri": "https://localhost:8080/"
        },
        "id": "BhGwI7yDSQw1",
        "outputId": "a74859f3-5dfb-472a-8395-e5c3e7daadc8"
      },
      "execution_count": 25,
      "outputs": [
        {
          "output_type": "stream",
          "name": "stdout",
          "text": [
            "12\n",
            "3\n"
          ]
        }
      ]
    },
    {
      "cell_type": "markdown",
      "source": [
        "#<a href=\"https://www.acmicpc.net/problem/2083\">럭비 클럽</a>"
      ],
      "metadata": {
        "id": "SK9FWYRnbFCp"
      }
    },
    {
      "cell_type": "code",
      "source": [
        "while True:\n",
        "    member=[]\n",
        "    member=list(map(str,input().split()))\n",
        "    if member ==['#', '0', '0']:\n",
        "        break\n",
        "    if int(member[1])>17 or int(member[2])>=80 :\n",
        "        print(member[0],'Senior')\n",
        "    else:\n",
        "        print(member[0],'Junior')       "
      ],
      "metadata": {
        "colab": {
          "base_uri": "https://localhost:8080/"
        },
        "id": "4NovWHhvWYKS",
        "outputId": "92fa3b7c-aec0-4642-fbd9-6ad154626cd8"
      },
      "execution_count": 37,
      "outputs": [
        {
          "name": "stdout",
          "output_type": "stream",
          "text": [
            "Joe 16 34\n",
            "Joe Junior\n",
            "Bill 18 65\n",
            "Bill Senior\n",
            "Billy 17 65\n",
            "Billy Junior\n",
            "Sam 17 85\n",
            "Sam Senior\n",
            "# 0 0\n"
          ]
        }
      ]
    },
    {
      "cell_type": "markdown",
      "source": [
        "#<a href=\"https://www.acmicpc.net/problem/10156\">과자</a>"
      ],
      "metadata": {
        "id": "lHNnsrJhbw7E"
      }
    },
    {
      "cell_type": "code",
      "source": [
        "K,N,M=map(int,input().split())\n",
        "if M-(K*N) >0:\n",
        "    print(0)\n",
        "else:\n",
        "    print(abs(M-(K*N)))"
      ],
      "metadata": {
        "colab": {
          "base_uri": "https://localhost:8080/"
        },
        "id": "iaGuGlElYZTh",
        "outputId": "e513a366-8933-42e6-a5a1-ed380ce3d1a9"
      },
      "execution_count": 44,
      "outputs": [
        {
          "output_type": "stream",
          "name": "stdout",
          "text": [
            "20 10 320\n",
            "0\n"
          ]
        }
      ]
    },
    {
      "cell_type": "markdown",
      "source": [
        "#<a href=\"https://www.acmicpc.net/problem/10797\">10부제</a>"
      ],
      "metadata": {
        "id": "SbmNo2eDdIYX"
      }
    },
    {
      "cell_type": "code",
      "source": [
        "a=int(input())\n",
        "b=list(map(int,input().split()))\n",
        "print(b.count(a))"
      ],
      "metadata": {
        "colab": {
          "base_uri": "https://localhost:8080/"
        },
        "id": "ccxfSdMoYaTR",
        "outputId": "b30b7124-ffb9-4713-a802-d9e04ad7bc93"
      },
      "execution_count": 45,
      "outputs": [
        {
          "name": "stdout",
          "output_type": "stream",
          "text": [
            "1\n",
            "1 2 3 4 5\n"
          ]
        }
      ]
    },
    {
      "cell_type": "markdown",
      "source": [
        "#<a href=\"https://www.acmicpc.net/problem/5543\">상근날드</a>"
      ],
      "metadata": {
        "id": "c1M3BK4Zeydz"
      }
    },
    {
      "cell_type": "code",
      "source": [
        "j=[]\n",
        "b=[]\n",
        "for i in range(3):\n",
        "    b.append(int(input()))\n",
        "for i in range(2):\n",
        "    j.append(int(input()))\n",
        "print((min(b)+min(j))-50)\n"
      ],
      "metadata": {
        "colab": {
          "base_uri": "https://localhost:8080/"
        },
        "id": "Mmi6OGNIYcf5",
        "outputId": "8140a3ac-36c9-42f7-8dc1-151f27765a2b"
      },
      "execution_count": 51,
      "outputs": [
        {
          "output_type": "stream",
          "name": "stdout",
          "text": [
            "800\n",
            "700\n",
            "900\n",
            "198\n",
            "330\n",
            "848\n"
          ]
        }
      ]
    },
    {
      "cell_type": "markdown",
      "source": [
        "#<a href=\"https://www.acmicpc.net/problem/23795\">사장님 도박은 재미로 하셔야 합니다</a>"
      ],
      "metadata": {
        "id": "Mbrnnl95ffdm"
      }
    },
    {
      "cell_type": "code",
      "source": [
        "money=[]\n",
        "while True:\n",
        "    s=int(input())\n",
        "    if s == -1:\n",
        "        break\n",
        "    money.append(s)\n",
        "print(sum(money))"
      ],
      "metadata": {
        "colab": {
          "base_uri": "https://localhost:8080/"
        },
        "id": "luOgYNaFemHt",
        "outputId": "3f83f8fc-4d41-46cf-e477-6a7ba99b9879"
      },
      "execution_count": 52,
      "outputs": [
        {
          "output_type": "stream",
          "name": "stdout",
          "text": [
            "1\n",
            "2\n",
            "3\n",
            "4\n",
            "5\n",
            "6\n",
            "7\n",
            "8\n",
            "9\n",
            "10\n",
            "-4\n",
            "-1\n",
            "51\n"
          ]
        }
      ]
    },
    {
      "cell_type": "markdown",
      "source": [
        "#<a href=\"https://www.acmicpc.net/problem/1085\">직사각형에서 탈출</a>"
      ],
      "metadata": {
        "id": "qx7VC1t9iWpV"
      }
    },
    {
      "cell_type": "code",
      "source": [
        "x,y,w,h=map(int,input().split())\n",
        "a=[w-x,h-y,x-0,y-0]\n",
        "print(min(a))"
      ],
      "metadata": {
        "colab": {
          "base_uri": "https://localhost:8080/"
        },
        "id": "epRiIfkafW7F",
        "outputId": "5dbf812d-df27-402d-94e9-0dad6ebc0d8b"
      },
      "execution_count": 58,
      "outputs": [
        {
          "output_type": "stream",
          "name": "stdout",
          "text": [
            "161 181 762 375\n",
            "161\n"
          ]
        }
      ]
    },
    {
      "cell_type": "markdown",
      "source": [
        "#<a href=\"https://www.acmicpc.net/problem/1267\">핸드폰요금</a>"
      ],
      "metadata": {
        "id": "j1yAWD23oVT2"
      }
    },
    {
      "cell_type": "code",
      "source": [
        "Y=[]\n",
        "M=[]\n",
        "n=int(input())\n",
        "N=list(map(int,input().split()))\n",
        "for i in range(len(N)):\n",
        "    Y.append(((N[i]//30)+1)*10)\n",
        "    M.append(((N[i]//60)+1)*15)\n",
        "print(Y)\n",
        "print(M)\n",
        "if sum(Y)>sum(M):\n",
        "    print('M',sum(M))\n",
        "elif sum(Y)<sum(M):\n",
        "    print('Y',sum(Y))\n",
        "else:\n",
        "    print('Y','M',sum(Y))"
      ],
      "metadata": {
        "colab": {
          "base_uri": "https://localhost:8080/"
        },
        "id": "3ZMZOd3wjosv",
        "outputId": "075610fd-6e4e-444b-f01f-a2fc7546c2ec"
      },
      "execution_count": 91,
      "outputs": [
        {
          "output_type": "stream",
          "name": "stdout",
          "text": [
            "3\n",
            "59 59 59\n",
            "[20, 20, 20]\n",
            "[15, 15, 15]\n",
            "M 45\n"
          ]
        }
      ]
    }
  ]
}