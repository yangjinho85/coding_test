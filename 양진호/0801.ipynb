{
  "nbformat": 4,
  "nbformat_minor": 0,
  "metadata": {
    "colab": {
      "name": "0801.ipynb",
      "provenance": [],
      "collapsed_sections": [],
      "authorship_tag": "ABX9TyM6uXl5qxBLfP2t3mAKEl1C"
    },
    "kernelspec": {
      "name": "python3",
      "display_name": "Python 3"
    },
    "language_info": {
      "name": "python"
    }
  },
  "cells": [
    {
      "cell_type": "markdown",
      "source": [
        "# 구간 합 구하기 4\n",
        "https://www.acmicpc.net/problem/11659"
      ],
      "metadata": {
        "id": "TbvsDME7kKam"
      }
    },
    {
      "cell_type": "code",
      "execution_count": null,
      "metadata": {
        "id": "waRoNUGwkHWk"
      },
      "outputs": [],
      "source": [
        "import sys\n",
        "input = sys.stdin.readline\n",
        "N,M = map(int,input().split())\n",
        "numlist = list(map(int,input().split()))\n",
        "sumlist=[0]\n",
        "sum=0\n",
        "for i in numlist:\n",
        "    sum+=i\n",
        "    sumlist.append(sum)\n",
        "for j in range(M):\n",
        "    a,b=map(int,input().split())\n",
        "    print(sumlist[b] - sumlist[a-1])"
      ]
    }
  ]
}