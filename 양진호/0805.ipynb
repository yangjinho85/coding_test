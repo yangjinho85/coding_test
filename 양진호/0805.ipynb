{
  "nbformat": 4,
  "nbformat_minor": 0,
  "metadata": {
    "colab": {
      "name": "0805.ipynb",
      "provenance": [],
      "collapsed_sections": [],
      "authorship_tag": "ABX9TyPIuhBQcmPFJA+m7p7pJKkG"
    },
    "kernelspec": {
      "name": "python3",
      "display_name": "Python 3"
    },
    "language_info": {
      "name": "python"
    },
    "gpuClass": "standard"
  },
  "cells": [
    {
      "cell_type": "markdown",
      "source": [
        "- 백준 9012 괄호 실패\n",
        "- 백준 10828 스택 실패\n",
        "- 코드업 3021 큰수덧셈 실패"
      ],
      "metadata": {
        "id": "V1b3LSesLDsg"
      }
    },
    {
      "cell_type": "code",
      "source": [
        "N=int(input())\n",
        "for i in range(N):\n",
        "    vps=input()\n",
        "    result=[]\n",
        "    for i,vps in enumerate(vps):\n",
        "        if not result:\n",
        "            if vps==\"(\":\n",
        "                result.append('(')\n",
        "            else:\n",
        "                result.pop()\n",
        "        \n",
        "        \n",
        "        if vps ==\"(\":\n",
        "            result.append(\"(\")\n",
        "        elif vps==\")\":\n",
        "            if not result:\n",
        "                \n",
        "            else:\n",
        "                result.pop()\n",
        "    if not(result):\n",
        "        print(\"YES\")\n",
        "    else:\n",
        "        print(\"NO\")\n",
        "\n",
        "\n",
        "        \n"
      ],
      "metadata": {
        "colab": {
          "base_uri": "https://localhost:8080/"
        },
        "id": "0XlvFIBuRWsx",
        "outputId": "4864a67a-b67b-4cf8-8f6c-27badf8cb89a"
      },
      "execution_count": 14,
      "outputs": [
        {
          "output_type": "stream",
          "name": "stdout",
          "text": [
            "1\n",
            "))\n",
            "NO\n"
          ]
        }
      ]
    },
    {
      "cell_type": "code",
      "execution_count": 25,
      "metadata": {
        "colab": {
          "base_uri": "https://localhost:8080/"
        },
        "id": "VBKE4xIxKUd2",
        "outputId": "060bd25d-f764-4e75-e999-e09ffb054388"
      },
      "outputs": [
        {
          "output_type": "stream",
          "name": "stdout",
          "text": [
            "12345678910111213 2839287\n",
            "12345678912950500\n"
          ]
        }
      ],
      "source": [
        "a,b = map(str,input().split())\n",
        "\n",
        "if len(a)<len(b):\n",
        "    temp = a\n",
        "    a = b\n",
        "    b = temp\n",
        "\n",
        "num_split = len(a)-len(b)\n",
        "temp_a = a[:num_split]\n",
        "a=a[num_split:]\n",
        "\n",
        "plus=str(int(a)+int(b))\n",
        "result=temp_a+plus\n",
        "print(int(result))\n"
      ]
    },
    {
      "cell_type": "code",
      "source": [
        "import sys\n",
        "input = sys.stdin.readline\n",
        "N=int(input().rstrip())\n",
        "result=[]\n",
        "for i in range(N):\n",
        "    command = input().rstrip()\n",
        "    if \"push\" in  command:\n",
        "        result.append(command.split()[1])\n",
        "    elif \"pop\" in command:\n",
        "        if not result:\n",
        "            print(-1)\n",
        "        else:\n",
        "            print(result.pop())\n",
        "    elif \"size\" in command:\n",
        "        print(len(result))\n",
        "    elif \"empty\" in command:\n",
        "        if not result:\n",
        "            print(1)\n",
        "        else:\n",
        "            print(0)\n",
        "    elif \"top\" in command:\n",
        "        print(result[-1]) \n"
      ],
      "metadata": {
        "colab": {
          "base_uri": "https://localhost:8080/",
          "height": 247
        },
        "id": "io5WOqf76qiI",
        "outputId": "01f4138b-016a-428d-bed8-71622a25375c"
      },
      "execution_count": 41,
      "outputs": [
        {
          "output_type": "error",
          "ename": "ValueError",
          "evalue": "ignored",
          "traceback": [
            "\u001b[0;31m---------------------------------------------------------------------------\u001b[0m",
            "\u001b[0;31mValueError\u001b[0m                                Traceback (most recent call last)",
            "\u001b[0;32m<ipython-input-41-7408236459ba>\u001b[0m in \u001b[0;36m<module>\u001b[0;34m()\u001b[0m\n\u001b[1;32m      1\u001b[0m \u001b[0;32mimport\u001b[0m \u001b[0msys\u001b[0m\u001b[0;34m\u001b[0m\u001b[0;34m\u001b[0m\u001b[0m\n\u001b[1;32m      2\u001b[0m \u001b[0minput\u001b[0m \u001b[0;34m=\u001b[0m \u001b[0msys\u001b[0m\u001b[0;34m.\u001b[0m\u001b[0mstdin\u001b[0m\u001b[0;34m.\u001b[0m\u001b[0mreadline\u001b[0m\u001b[0;34m\u001b[0m\u001b[0;34m\u001b[0m\u001b[0m\n\u001b[0;32m----> 3\u001b[0;31m \u001b[0mN\u001b[0m\u001b[0;34m=\u001b[0m\u001b[0mint\u001b[0m\u001b[0;34m(\u001b[0m\u001b[0minput\u001b[0m\u001b[0;34m(\u001b[0m\u001b[0;34m)\u001b[0m\u001b[0;34m.\u001b[0m\u001b[0mrstrip\u001b[0m\u001b[0;34m(\u001b[0m\u001b[0;34m)\u001b[0m\u001b[0;34m)\u001b[0m\u001b[0;34m\u001b[0m\u001b[0;34m\u001b[0m\u001b[0m\n\u001b[0m\u001b[1;32m      4\u001b[0m \u001b[0mresult\u001b[0m\u001b[0;34m=\u001b[0m\u001b[0;34m[\u001b[0m\u001b[0;34m]\u001b[0m\u001b[0;34m\u001b[0m\u001b[0;34m\u001b[0m\u001b[0m\n\u001b[1;32m      5\u001b[0m \u001b[0;32mfor\u001b[0m \u001b[0mi\u001b[0m \u001b[0;32min\u001b[0m \u001b[0mrange\u001b[0m\u001b[0;34m(\u001b[0m\u001b[0mN\u001b[0m\u001b[0;34m)\u001b[0m\u001b[0;34m:\u001b[0m\u001b[0;34m\u001b[0m\u001b[0;34m\u001b[0m\u001b[0m\n",
            "\u001b[0;31mValueError\u001b[0m: invalid literal for int() with base 10: ''"
          ]
        }
      ]
    },
    {
      "cell_type": "code",
      "source": [
        ""
      ],
      "metadata": {
        "id": "66ndk6_XAveb"
      },
      "execution_count": null,
      "outputs": []
    },
    {
      "cell_type": "code",
      "source": [
        ""
      ],
      "metadata": {
        "id": "vL7tQVUNAz3W"
      },
      "execution_count": null,
      "outputs": []
    }
  ]
}