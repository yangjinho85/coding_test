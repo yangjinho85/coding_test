{
  "nbformat": 4,
  "nbformat_minor": 0,
  "metadata": {
    "colab": {
      "name": "0807.ipynb",
      "provenance": [],
      "authorship_tag": "ABX9TyOExWAwgMbRCWpAlQyS1pPv"
    },
    "kernelspec": {
      "name": "python3",
      "display_name": "Python 3"
    },
    "language_info": {
      "name": "python"
    }
  },
  "cells": [
    {
      "cell_type": "markdown",
      "source": [
        "#<a href =\"https://futureskill.io/content/667cc0d4-f326-419b-b67b-d966eef5f16b\"> 파이썬 50제 1부</a>"
      ],
      "metadata": {
        "id": "j5GMUoAc0yDj"
      }
    },
    {
      "cell_type": "code",
      "execution_count": 5,
      "metadata": {
        "colab": {
          "base_uri": "https://localhost:8080/"
        },
        "id": "JdYrTtPq0msv",
        "outputId": "20733dc8-1a0d-4c6b-d0f3-1712f57d754d"
      },
      "outputs": [
        {
          "output_type": "execute_result",
          "data": {
            "text/plain": [
              "True"
            ]
          },
          "metadata": {},
          "execution_count": 5
        }
      ],
      "source": [
        "def all_unique(lst):\n",
        "    return len(lst)==len(set(lst))\n",
        "all_unique([1,2,3,4,5,6])"
      ]
    },
    {
      "cell_type": "code",
      "source": [
        "s = \"hello world\"\n",
        "\n",
        "def capitalize_every_word(s):\n",
        "\treturn s.title()\n",
        "\n",
        "print(capitalize_every_word(s))"
      ],
      "metadata": {
        "colab": {
          "base_uri": "https://localhost:8080/"
        },
        "id": "0zoq6F7s12U0",
        "outputId": "64123766-5182-41bc-9324-91fd5c15abb2"
      },
      "execution_count": 8,
      "outputs": [
        {
          "output_type": "stream",
          "name": "stdout",
          "text": [
            "Hello World\n"
          ]
        }
      ]
    },
    {
      "cell_type": "code",
      "source": [
        "celsius = 180\n",
        "\n",
        "def celsius_to_fahrenheit(celsius):\n",
        "\treturn (celsius*1.8)+32\n",
        "\n",
        "print(celsius_to_fahrenheit(celsius))"
      ],
      "metadata": {
        "colab": {
          "base_uri": "https://localhost:8080/"
        },
        "id": "AJ-FHdLU2f4r",
        "outputId": "7e4220b6-712e-49dd-b1f9-47f55e01720b"
      },
      "execution_count": 10,
      "outputs": [
        {
          "output_type": "stream",
          "name": "stdout",
          "text": [
            "356.0\n"
          ]
        }
      ]
    },
    {
      "cell_type": "code",
      "source": [
        "lst = [0, 1, False, 2, '', 3, 'a', 's', 34]\n",
        "\n",
        "def compact(lst):\n",
        "\treturn list(filter(None,lst))\n",
        "\n",
        "print(compact(lst))"
      ],
      "metadata": {
        "colab": {
          "base_uri": "https://localhost:8080/"
        },
        "id": "ugQEX3f52qAE",
        "outputId": "d9f8f8fb-7bef-4be8-b5d9-31d0769ed6ca"
      },
      "execution_count": 17,
      "outputs": [
        {
          "output_type": "stream",
          "name": "stdout",
          "text": [
            "[1, 2, 3, 'a', 's', 34]\n"
          ]
        }
      ]
    },
    {
      "cell_type": "code",
      "source": [
        "lst = [1,1,2,1,2,3]\n",
        "\n",
        "def count_occurences(lst, val):\n",
        "\treturn lst.count(val)\n",
        "\n",
        "print(count_occurences(lst,1))"
      ],
      "metadata": {
        "colab": {
          "base_uri": "https://localhost:8080/"
        },
        "id": "eASSJ2IH3KVc",
        "outputId": "94315ef8-bedb-4b52-fe32-675e68a76960"
      },
      "execution_count": 18,
      "outputs": [
        {
          "output_type": "stream",
          "name": "stdout",
          "text": [
            "3\n"
          ]
        }
      ]
    },
    {
      "cell_type": "code",
      "source": [
        "from math import pi \n",
        "degrees = 180\n",
        "\n",
        "def degrees_to_rads(degrees):\n",
        "\treturn (degrees*pi)/180\n",
        "\n",
        "print(degrees_to_rads(degrees))"
      ],
      "metadata": {
        "colab": {
          "base_uri": "https://localhost:8080/"
        },
        "id": "82M9BF4V3zZP",
        "outputId": "4d963c18-e6bb-4d4b-b734-8ca5364f6e15"
      },
      "execution_count": 21,
      "outputs": [
        {
          "output_type": "stream",
          "name": "stdout",
          "text": [
            "3.141592653589793\n"
          ]
        }
      ]
    },
    {
      "cell_type": "code",
      "source": [
        "lst1 = [1,2,3]\n",
        "lst2 = [1,2,4]\n",
        "\n",
        "def difference(a,b) : \n",
        "\treturn list(set(a).difference(b))\n",
        "\n",
        "print(difference(lst1, lst2))"
      ],
      "metadata": {
        "colab": {
          "base_uri": "https://localhost:8080/"
        },
        "id": "GNNmrr0c386u",
        "outputId": "8c4c3c91-fb32-4692-d3e5-51c6db9bb5a1"
      },
      "execution_count": 26,
      "outputs": [
        {
          "output_type": "stream",
          "name": "stdout",
          "text": [
            "[3]\n"
          ]
        }
      ]
    },
    {
      "cell_type": "code",
      "source": [
        "a = 123\n",
        "\n",
        "def digitize(n):\n",
        "\treturn list(map(int,str(a)))\n",
        "\n",
        "print(digitize(a))"
      ],
      "metadata": {
        "colab": {
          "base_uri": "https://localhost:8080/"
        },
        "id": "1UG16RwW4cAq",
        "outputId": "95f3c044-6857-45bf-82d4-8ea6b998daab"
      },
      "execution_count": 28,
      "outputs": [
        {
          "output_type": "stream",
          "name": "stdout",
          "text": [
            "[1, 2, 3]\n"
          ]
        }
      ]
    },
    {
      "cell_type": "code",
      "source": [
        "def drop(lst, n=1):\n",
        "\n",
        "\treturn lst[n:]\n",
        "\n",
        "drop([1,2,3])"
      ],
      "metadata": {
        "colab": {
          "base_uri": "https://localhost:8080/"
        },
        "id": "1_Tgl4Rd5vrE",
        "outputId": "d3afbc2b-4bfe-4bab-b05c-f63f06593025"
      },
      "execution_count": 34,
      "outputs": [
        {
          "output_type": "execute_result",
          "data": {
            "text/plain": [
              "[2, 3]"
            ]
          },
          "metadata": {},
          "execution_count": 34
        }
      ]
    },
    {
      "cell_type": "markdown",
      "source": [
        "#<a href=\"https://futureskill.io/content/fe594a6e-59fc-407e-b68c-9acbf712f624\">파이썬 50제 2부</a>"
      ],
      "metadata": {
        "id": "X6mv9GoDAeXq"
      }
    },
    {
      "cell_type": "code",
      "source": [
        "def drop_right(lst, n=1):\n",
        "\treturn lst[:-n]\n",
        "drop_right([1,2,3])"
      ],
      "metadata": {
        "colab": {
          "base_uri": "https://localhost:8080/"
        },
        "id": "eLaFBd946Imq",
        "outputId": "5ec4891c-3734-42b6-856e-80680e983761"
      },
      "execution_count": 35,
      "outputs": [
        {
          "output_type": "execute_result",
          "data": {
            "text/plain": [
              "[1, 2]"
            ]
          },
          "metadata": {},
          "execution_count": 35
        }
      ]
    },
    {
      "cell_type": "code",
      "source": [
        "lst = [1,2,3,4,5,6]\n",
        "\n",
        "def every_nth(lst, n):\n",
        "\treturn lst[n-1::n]\n",
        "\n",
        "print(every_nth(lst, 2))\n",
        "print(every_nth(lst, 3))"
      ],
      "metadata": {
        "colab": {
          "base_uri": "https://localhost:8080/"
        },
        "id": "qBpKYmPj6l5d",
        "outputId": "04f8b5d0-6561-47d3-f775-47bb1ecbe9bd"
      },
      "execution_count": 40,
      "outputs": [
        {
          "output_type": "stream",
          "name": "stdout",
          "text": [
            "[2, 4, 6]\n",
            "[3, 6]\n"
          ]
        }
      ]
    },
    {
      "cell_type": "code",
      "source": [
        "fahrenheit = 77\n",
        "\n",
        "def fahrenheit_to_celsius(fahrenheit):\n",
        "\treturn (fahrenheit-32)/1.8\n",
        "\n",
        "print(fahrenheit_to_celsius(fahrenheit))"
      ],
      "metadata": {
        "colab": {
          "base_uri": "https://localhost:8080/"
        },
        "id": "sP_M77_17URh",
        "outputId": "8f41073e-7067-4e08-917c-d55980c8cc6a"
      },
      "execution_count": 47,
      "outputs": [
        {
          "output_type": "stream",
          "name": "stdout",
          "text": [
            "25.0\n"
          ]
        }
      ]
    },
    {
      "cell_type": "code",
      "source": [
        "from collections import Counter\n",
        "lst = [1,2,2,3,4,4,5]\n",
        "\n",
        "def filter_non_unique(lst):\n",
        "\treturn [item for item,count in Counter(lst).items() if count==1 ]\n",
        "\n",
        "filter_non_unique(lst)"
      ],
      "metadata": {
        "colab": {
          "base_uri": "https://localhost:8080/"
        },
        "id": "xJW9_qkS8BKK",
        "outputId": "6a8a28d5-1e90-4445-b352-6c79ab376529"
      },
      "execution_count": 51,
      "outputs": [
        {
          "output_type": "execute_result",
          "data": {
            "text/plain": [
              "[1, 3, 5]"
            ]
          },
          "metadata": {},
          "execution_count": 51
        }
      ]
    },
    {
      "cell_type": "code",
      "source": [
        "from collections import Counter\n",
        "lst = [1,2,2,3,4,4,5]\n",
        "\n",
        "def filter_unique(lst):\n",
        "\treturn [item for item,count in Counter(lst).items() if count !=1]\n",
        "\n",
        "filter_unique(lst)"
      ],
      "metadata": {
        "colab": {
          "base_uri": "https://localhost:8080/"
        },
        "id": "BLTI1t4l8Ukl",
        "outputId": "e37a6c02-8090-49f5-e1b0-085cdada39d9"
      },
      "execution_count": 52,
      "outputs": [
        {
          "output_type": "execute_result",
          "data": {
            "text/plain": [
              "[2, 4]"
            ]
          },
          "metadata": {},
          "execution_count": 52
        }
      ]
    },
    {
      "cell_type": "code",
      "source": [
        "itr = [1,2,3]\n",
        "fn = print\n",
        "\n",
        "def for_each(itr, fn):\n",
        "    for i in itr:\n",
        "        fn(i)\n",
        "\n",
        "for_each(itr, fn)"
      ],
      "metadata": {
        "colab": {
          "base_uri": "https://localhost:8080/"
        },
        "id": "LWKxzzB49Yjy",
        "outputId": "e76acec7-8072-4840-83e9-7aff94a6c780"
      },
      "execution_count": 53,
      "outputs": [
        {
          "output_type": "stream",
          "name": "stdout",
          "text": [
            "1\n",
            "2\n",
            "3\n"
          ]
        }
      ]
    },
    {
      "cell_type": "code",
      "source": [
        "itr = [1,2,3]\n",
        "\n",
        "def for_each_right(itr, fn):\n",
        "\tfor i in reversed(itr):\n",
        "         fn(i)\n",
        "\n",
        "for_each_right(itr, print)"
      ],
      "metadata": {
        "colab": {
          "base_uri": "https://localhost:8080/"
        },
        "id": "Varl8_lDBTz9",
        "outputId": "7f81a04c-03e2-435d-9f9a-4e83f40c8401"
      },
      "execution_count": 55,
      "outputs": [
        {
          "output_type": "stream",
          "name": "stdout",
          "text": [
            "3\n",
            "2\n",
            "1\n"
          ]
        }
      ]
    },
    {
      "cell_type": "code",
      "source": [
        "lst = [1,2,3]\n",
        "\n",
        "def has_duplicates(lst):\n",
        "\treturn len(set(lst)) != len(lst)\n",
        "\n",
        "has_duplicates(lst)"
      ],
      "metadata": {
        "colab": {
          "base_uri": "https://localhost:8080/"
        },
        "id": "WyimEw8CDJRJ",
        "outputId": "d84db568-9662-4428-b103-088a246b7c89"
      },
      "execution_count": 57,
      "outputs": [
        {
          "output_type": "execute_result",
          "data": {
            "text/plain": [
              "False"
            ]
          },
          "metadata": {},
          "execution_count": 57
        }
      ]
    },
    {
      "cell_type": "code",
      "source": [
        "lst = [1,2,3]\n",
        "\n",
        "def head(lst):\n",
        "\treturn lst[0]\n",
        "\n",
        "head(lst)"
      ],
      "metadata": {
        "colab": {
          "base_uri": "https://localhost:8080/"
        },
        "id": "BPzJ8BV7DfcU",
        "outputId": "f3305f2c-8715-4d92-9ca0-00278bb68e95"
      },
      "execution_count": 59,
      "outputs": [
        {
          "output_type": "execute_result",
          "data": {
            "text/plain": [
              "1"
            ]
          },
          "metadata": {},
          "execution_count": 59
        }
      ]
    },
    {
      "cell_type": "code",
      "source": [
        "def in_range(n, start, end=0):\n",
        "\treturn start <= n <= end if start<=end else  end <= n <=start \n",
        "in_range(3,4)"
      ],
      "metadata": {
        "colab": {
          "base_uri": "https://localhost:8080/"
        },
        "id": "SPSXM-wyEDEM",
        "outputId": "50a78478-bc5f-4380-9f7e-0df6d62d2788"
      },
      "execution_count": 67,
      "outputs": [
        {
          "output_type": "execute_result",
          "data": {
            "text/plain": [
              "True"
            ]
          },
          "metadata": {},
          "execution_count": 67
        }
      ]
    },
    {
      "cell_type": "markdown",
      "source": [
        "#<a href=\"https://futureskill.io/content/f86d513a-1004-479e-86d7-6c99510a3202\">파이썬 50제 3부</a>"
      ],
      "metadata": {
        "id": "Ahb8iiCFF0OM"
      }
    },
    {
      "cell_type": "code",
      "source": [
        "lst = [1,2,3,4,5]\n",
        "\n",
        "def initial(lst):\n",
        "\treturn lst[:-1]\n",
        "\n",
        "initial(lst)"
      ],
      "metadata": {
        "colab": {
          "base_uri": "https://localhost:8080/"
        },
        "id": "N_pTwHSCEjbt",
        "outputId": "ee66c604-1f1e-4e78-d628-c12757b15fcc"
      },
      "execution_count": 68,
      "outputs": [
        {
          "output_type": "execute_result",
          "data": {
            "text/plain": [
              "[1, 2, 3, 4]"
            ]
          },
          "metadata": {},
          "execution_count": 68
        }
      ]
    },
    {
      "cell_type": "code",
      "source": [
        "def initialize_list_with_range(end, start=0, step=1):\n",
        "\treturn [item for item in range(start,end+1,step)] \n",
        "\n",
        "initialize_list_with_range(5)"
      ],
      "metadata": {
        "colab": {
          "base_uri": "https://localhost:8080/"
        },
        "id": "y59ySPJeGJe8",
        "outputId": "f1260ca4-39f2-4f3c-8caa-6017c1cf6f32"
      },
      "execution_count": 74,
      "outputs": [
        {
          "output_type": "execute_result",
          "data": {
            "text/plain": [
              "[0, 1, 2, 3, 4, 5]"
            ]
          },
          "metadata": {},
          "execution_count": 74
        }
      ]
    },
    {
      "cell_type": "code",
      "source": [
        "def initialize_list_with_values(n, val=0):\n",
        "\treturn [val]*n\n",
        "initialize_list_with_values(5,2)"
      ],
      "metadata": {
        "colab": {
          "base_uri": "https://localhost:8080/"
        },
        "id": "2SJdN46nGxMC",
        "outputId": "cb723115-fc33-4dd5-db02-dbe8cc16c50c"
      },
      "execution_count": 79,
      "outputs": [
        {
          "output_type": "execute_result",
          "data": {
            "text/plain": [
              "[2, 2, 2, 2, 2]"
            ]
          },
          "metadata": {},
          "execution_count": 79
        }
      ]
    },
    {
      "cell_type": "code",
      "source": [
        "lst1 = [1,2,3]\n",
        "lst2 = [2,3,4] \n",
        "\n",
        "def intersection(a,b):\n",
        "\treturn [item for item in b if item in set(a)]\n",
        "\n",
        "intersection(lst1,lst2)"
      ],
      "metadata": {
        "colab": {
          "base_uri": "https://localhost:8080/"
        },
        "id": "jt56pg_ZHnXz",
        "outputId": "f461c5df-af21-4291-d0ee-486ac2db3299"
      },
      "execution_count": 80,
      "outputs": [
        {
          "output_type": "execute_result",
          "data": {
            "text/plain": [
              "[2, 3]"
            ]
          },
          "metadata": {},
          "execution_count": 80
        }
      ]
    },
    {
      "cell_type": "code",
      "source": [
        "a = 9\n",
        "b = 3\n",
        "\n",
        "def is_divisible(dividend, divisor):\n",
        "\treturn dividend % divisor==0\n",
        "\n",
        "is_divisible(a, b)"
      ],
      "metadata": {
        "colab": {
          "base_uri": "https://localhost:8080/"
        },
        "id": "gHJqfqwnJWL2",
        "outputId": "9679818d-7030-49da-d484-a9c9b31c5183"
      },
      "execution_count": 81,
      "outputs": [
        {
          "output_type": "execute_result",
          "data": {
            "text/plain": [
              "True"
            ]
          },
          "metadata": {},
          "execution_count": 81
        }
      ]
    },
    {
      "cell_type": "code",
      "source": [
        "a = 9\n",
        "\n",
        "def is_even(num):\n",
        "\treturn num % 2 ==0\n",
        "\n",
        "is_even(a)"
      ],
      "metadata": {
        "colab": {
          "base_uri": "https://localhost:8080/"
        },
        "id": "fy46bK3_J6vU",
        "outputId": "94cd0d10-2eeb-4328-a557-88132513ff8c"
      },
      "execution_count": 82,
      "outputs": [
        {
          "output_type": "execute_result",
          "data": {
            "text/plain": [
              "False"
            ]
          },
          "metadata": {},
          "execution_count": 82
        }
      ]
    },
    {
      "cell_type": "code",
      "source": [
        "a = 4\n",
        "\n",
        "def is_odd(num):\n",
        "\treturn num % 2 != 0\n",
        "\n",
        "is_odd(a)"
      ],
      "metadata": {
        "colab": {
          "base_uri": "https://localhost:8080/"
        },
        "id": "bWCfu8QeKGGM",
        "outputId": "901bd844-428f-4d6a-cf0f-f08eb62d0d3b"
      },
      "execution_count": 83,
      "outputs": [
        {
          "output_type": "execute_result",
          "data": {
            "text/plain": [
              "False"
            ]
          },
          "metadata": {},
          "execution_count": 83
        }
      ]
    },
    {
      "cell_type": "code",
      "source": [
        "ages = {\n",
        "\t\"Peter\":10,\n",
        "\t\"Isabel\":11,\n",
        "\t\"Anna\":9,\n",
        "}\n",
        "\n",
        "def keys_only(flat_dict):\n",
        "\treturn list(flat_dict)\n",
        "\n",
        "keys_only(ages)"
      ],
      "metadata": {
        "colab": {
          "base_uri": "https://localhost:8080/"
        },
        "id": "UAk__2dZKVyk",
        "outputId": "7075a265-8f5f-4445-f7af-5e80075831b6"
      },
      "execution_count": 89,
      "outputs": [
        {
          "output_type": "execute_result",
          "data": {
            "text/plain": [
              "[10, 11, 9]"
            ]
          },
          "metadata": {},
          "execution_count": 89
        }
      ]
    },
    {
      "cell_type": "code",
      "source": [
        "lst = [1,2,3]\n",
        "\n",
        "def last(lst):\n",
        "\treturn lst[-1]\n",
        "\n",
        "last(lst)"
      ],
      "metadata": {
        "colab": {
          "base_uri": "https://localhost:8080/"
        },
        "id": "1BZPYkxgK7DD",
        "outputId": "9c8004dd-fa51-468c-fd39-09e925d0324e"
      },
      "execution_count": 90,
      "outputs": [
        {
          "output_type": "execute_result",
          "data": {
            "text/plain": [
              "3"
            ]
          },
          "metadata": {},
          "execution_count": 90
        }
      ]
    },
    {
      "cell_type": "code",
      "source": [
        "lst = [{'n':4},{'n':2},{'n':8},{'n':6}]\n",
        "fn = lambda v:v['n']\n",
        "\n",
        "def max_by(lst, fn):\n",
        "\treturn max(map(fn,lst))\n",
        "\n",
        "max_by(lst, fn)"
      ],
      "metadata": {
        "colab": {
          "base_uri": "https://localhost:8080/"
        },
        "id": "ANO4v8mILgXi",
        "outputId": "393688df-0d08-4e90-e161-79534441ae83"
      },
      "execution_count": 94,
      "outputs": [
        {
          "output_type": "execute_result",
          "data": {
            "text/plain": [
              "8"
            ]
          },
          "metadata": {},
          "execution_count": 94
        }
      ]
    },
    {
      "cell_type": "markdown",
      "source": [
        "#<a href=\"https://futureskill.io/content/ca6d0d6d-3acb-4448-84ac-98dfb8504b68\">파이썬 50제 4부</a>"
      ],
      "metadata": {
        "id": "5exsLGeCMa9k"
      }
    },
    {
      "cell_type": "code",
      "source": [
        "lst = [5,8,9,7,10,3,0]\n",
        "\n",
        "def max_element_index(lst):\n",
        "\treturn lst.index(max(lst))\n",
        "\n",
        "max_element_index(lst)"
      ],
      "metadata": {
        "colab": {
          "base_uri": "https://localhost:8080/"
        },
        "id": "mtUyfDkyMDt8",
        "outputId": "6d295512-753a-4d22-9773-fc98204c87b3"
      },
      "execution_count": 96,
      "outputs": [
        {
          "output_type": "execute_result",
          "data": {
            "text/plain": [
              "4"
            ]
          },
          "metadata": {},
          "execution_count": 96
        }
      ]
    },
    {
      "cell_type": "code",
      "source": [
        "def max_n(lst, n=1):\n",
        "\treturn lst[:-n-1:-1]\n",
        "max_n([1,2,3])"
      ],
      "metadata": {
        "colab": {
          "base_uri": "https://localhost:8080/"
        },
        "id": "PQQv4rF-M5Ha",
        "outputId": "82a145b8-1c54-4d4d-da0b-b558a226dfea"
      },
      "execution_count": 102,
      "outputs": [
        {
          "output_type": "execute_result",
          "data": {
            "text/plain": [
              "[3]"
            ]
          },
          "metadata": {},
          "execution_count": 102
        }
      ]
    },
    {
      "cell_type": "code",
      "source": [
        "def median(lst):\n",
        "  lst.sort()\n",
        "  lst_length = len(lst)\n",
        "  if lst_length % 2 == 0:\n",
        "      return (lst[int(lst_length/2)-1]+lst[int(lst_length/2)])/2  \n",
        "  return (lst[int(lst_length/2)])\n",
        "\n",
        "median([1,2,3])\n",
        "median([1,2,3,4])"
      ],
      "metadata": {
        "id": "uKWlPE1HNaAK"
      },
      "execution_count": 130,
      "outputs": []
    },
    {
      "cell_type": "code",
      "source": [
        "lst = [{'n':4},{'n':2},{'n':8},{'n':6}]\n",
        "fn = lambda v:v['n']\n",
        "\n",
        "def min_by(lst, fn):\n",
        "\treturn min(map(fn,lst))\n",
        "\n",
        "min_by(lst, fn)"
      ],
      "metadata": {
        "colab": {
          "base_uri": "https://localhost:8080/"
        },
        "id": "JaHfPckEPhVY",
        "outputId": "c2db4bfe-0f05-4f37-b95a-28d7406d943b"
      },
      "execution_count": 133,
      "outputs": [
        {
          "output_type": "execute_result",
          "data": {
            "text/plain": [
              "2"
            ]
          },
          "metadata": {},
          "execution_count": 133
        }
      ]
    },
    {
      "cell_type": "code",
      "source": [
        "def min_n(lst, n=1):\n",
        "\treturn sorted(lst,reverse=False)[:n]\n",
        "\n",
        "min_n([1,2,3])\n",
        "min_n([1,2,3], 2)"
      ],
      "metadata": {
        "colab": {
          "base_uri": "https://localhost:8080/"
        },
        "id": "Y8maF0wbPhWA",
        "outputId": "1e47da78-42a5-4f95-b404-4cbc68ff5211"
      },
      "execution_count": 142,
      "outputs": [
        {
          "output_type": "execute_result",
          "data": {
            "text/plain": [
              "[1, 2]"
            ]
          },
          "metadata": {},
          "execution_count": 142
        }
      ]
    },
    {
      "cell_type": "code",
      "source": [
        "def most_frequent(lst):\n",
        "\treturn max(set(lst),key=lst.count)\n",
        "\n",
        "most_frequent([1,2,3,4,4])\n",
        "most_frequent([1,2,1,2,3,2,1,4,2])"
      ],
      "metadata": {
        "colab": {
          "base_uri": "https://localhost:8080/"
        },
        "id": "12OQ5yqcPk6k",
        "outputId": "1d7bd31a-aa33-477b-e92c-5e44ddac6034"
      },
      "execution_count": 144,
      "outputs": [
        {
          "output_type": "execute_result",
          "data": {
            "text/plain": [
              "4"
            ]
          },
          "metadata": {},
          "execution_count": 144
        }
      ]
    },
    {
      "cell_type": "code",
      "source": [
        "def n_time_string(s,n):\n",
        "\treturn s*n\n",
        "\n",
        "n_time_string('py',4)"
      ],
      "metadata": {
        "colab": {
          "base_uri": "https://localhost:8080/",
          "height": 36
        },
        "id": "aSh-2V9BUGXE",
        "outputId": "d379ae24-74a2-4e09-fa34-1f29773a7c5e"
      },
      "execution_count": 145,
      "outputs": [
        {
          "output_type": "execute_result",
          "data": {
            "text/plain": [
              "'pypypypy'"
            ],
            "application/vnd.google.colaboratory.intrinsic+json": {
              "type": "string"
            }
          },
          "metadata": {},
          "execution_count": 145
        }
      ]
    },
    {
      "cell_type": "code",
      "source": [
        "def offset(lst,n):\n",
        "\treturn lst[n:] +lst[:n]\n",
        "offset([1,2,3],1)\n",
        "offset([3,4,5,6,7],2)"
      ],
      "metadata": {
        "colab": {
          "base_uri": "https://localhost:8080/"
        },
        "id": "TNBbksGvVVia",
        "outputId": "149942ae-e51d-4d30-8856-09c04776b21e"
      },
      "execution_count": 148,
      "outputs": [
        {
          "output_type": "execute_result",
          "data": {
            "text/plain": [
              "[2, 3, 1]"
            ]
          },
          "metadata": {},
          "execution_count": 148
        }
      ]
    },
    {
      "cell_type": "code",
      "source": [
        "from math import pi \n",
        "\n",
        "def rads_to_degrees(rads):\n",
        "    return (rads*180.0) / pi\n",
        "    \n",
        "\n",
        "rads_to_degrees(pi/2)"
      ],
      "metadata": {
        "colab": {
          "base_uri": "https://localhost:8080/"
        },
        "id": "JzudioB5V-VD",
        "outputId": "49db8670-7f39-4c4b-e3ad-f22b639a4885"
      },
      "execution_count": 154,
      "outputs": [
        {
          "output_type": "execute_result",
          "data": {
            "text/plain": [
              "90.0"
            ]
          },
          "metadata": {},
          "execution_count": 154
        }
      ]
    },
    {
      "cell_type": "code",
      "source": [
        "s=\"snippet\"\n",
        "\n",
        "def reverse_string(s):\n",
        "\treturn s[::-1]\n",
        "\n",
        "reverse_string(s)"
      ],
      "metadata": {
        "colab": {
          "base_uri": "https://localhost:8080/",
          "height": 36
        },
        "id": "C6EM1GWqWb6l",
        "outputId": "c251f9bd-ceed-4b12-9478-c611f9ce75a1"
      },
      "execution_count": 155,
      "outputs": [
        {
          "output_type": "execute_result",
          "data": {
            "text/plain": [
              "'teppins'"
            ],
            "application/vnd.google.colaboratory.intrinsic+json": {
              "type": "string"
            }
          },
          "metadata": {},
          "execution_count": 155
        }
      ]
    },
    {
      "cell_type": "markdown",
      "source": [
        "#<a href=\"https://futureskill.io/content/66892f50-e71d-4ae9-a6c6-428955c728e4\">파이썬 50제 5부</a>"
      ],
      "metadata": {
        "id": "QmJqixdeXL6B"
      }
    },
    {
      "cell_type": "code",
      "source": [
        "from random import randint\n",
        "ages=[12,12,13,14,15]\n",
        "\n",
        "def sample(lst):\n",
        "\treturn lst[randint(0,len(lst)-1)]\n",
        "\n",
        "sample(ages)"
      ],
      "metadata": {
        "colab": {
          "base_uri": "https://localhost:8080/"
        },
        "id": "_NVygESTXFsP",
        "outputId": "097e4ff5-6c3d-4ce2-857a-4d5eff6d279b"
      },
      "execution_count": 160,
      "outputs": [
        {
          "output_type": "execute_result",
          "data": {
            "text/plain": [
              "14"
            ]
          },
          "metadata": {},
          "execution_count": 160
        }
      ]
    },
    {
      "cell_type": "code",
      "source": [
        "lst1 = [1, 2, 3]\n",
        "lst2 = [1, 2, 4]\n",
        "\n",
        "def similarity(a, b):\n",
        "\treturn list(set(a).intersection(set(b)))\n",
        "\n",
        "similarity(lst1, lst2)"
      ],
      "metadata": {
        "colab": {
          "base_uri": "https://localhost:8080/"
        },
        "id": "qLHCSt8LXghi",
        "outputId": "2cf8b868-f725-433d-9b0e-b8b0b86e0b26"
      },
      "execution_count": 161,
      "outputs": [
        {
          "output_type": "execute_result",
          "data": {
            "text/plain": [
              "[1, 2]"
            ]
          },
          "metadata": {},
          "execution_count": 161
        }
      ]
    },
    {
      "cell_type": "code",
      "source": [
        ""
      ],
      "metadata": {
        "id": "j_CXrt_LZKkc"
      },
      "execution_count": null,
      "outputs": []
    }
  ]
}