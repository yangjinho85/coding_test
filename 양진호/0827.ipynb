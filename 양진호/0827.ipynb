{
  "nbformat": 4,
  "nbformat_minor": 0,
  "metadata": {
    "colab": {
      "name": "0827.ipynb",
      "provenance": [],
      "authorship_tag": "ABX9TyPCdZgDyHhpdD8DAanlUIG8"
    },
    "kernelspec": {
      "name": "python3",
      "display_name": "Python 3"
    },
    "language_info": {
      "name": "python"
    }
  },
  "cells": [
    {
      "cell_type": "markdown",
      "source": [
        "#<a href=\"https://www.acmicpc.net/problem/2476\">주사위 게임</a>"
      ],
      "metadata": {
        "id": "XKZSeikdXJDG"
      }
    },
    {
      "cell_type": "code",
      "source": [
        "n=int(input())\n",
        "count=[]\n",
        "for i in range(n):\n",
        "    num=list(map(int,input().split()))\n",
        "    if len(set(num))==3:\n",
        "        count.append(max(num)*100)\n",
        "    elif len(set(num))==2:\n",
        "        if num[0] == num[1]:\n",
        "            count.append((num[0]*100)+1000)\n",
        "        else:\n",
        "            count.append((num[2]*100)+1000)       \n",
        "    else:\n",
        "        count.append((num[0]*1000)+10000)\n",
        "print(max(count))"
      ],
      "metadata": {
        "colab": {
          "base_uri": "https://localhost:8080/"
        },
        "id": "rRzp7na5SdEw",
        "outputId": "db9da5ac-e324-4a0f-da57-8e65f35c4d36"
      },
      "execution_count": 43,
      "outputs": [
        {
          "output_type": "stream",
          "name": "stdout",
          "text": [
            "3\n",
            "3 3 6\n",
            "2 2 2\n",
            "6 2 5\n",
            "12000\n"
          ]
        }
      ]
    },
    {
      "cell_type": "markdown",
      "source": [
        "#<a href=\"https://www.acmicpc.net/problem/2506\">점수계산</a>"
      ],
      "metadata": {
        "id": "Fpz47NY0XJIe"
      }
    },
    {
      "cell_type": "code",
      "source": [
        "n=int(input())\n",
        "num=list(map(int,input().split()))\n",
        "result=[]\n",
        "count=0\n",
        "for num in num:\n",
        "    if num==1:\n",
        "        count+=1        \n",
        "    else:\n",
        "        count=0\n",
        "    result.append(count)\n",
        "print(sum(result))"
      ],
      "metadata": {
        "colab": {
          "base_uri": "https://localhost:8080/"
        },
        "id": "vKy_DNQ0Ucae",
        "outputId": "ff3e0a0e-8324-4056-9a70-d6b6114b28e2"
      },
      "execution_count": 45,
      "outputs": [
        {
          "output_type": "stream",
          "name": "stdout",
          "text": [
            "10\n",
            "1 1 1 1 1 1 1 1 1 1\n",
            "55\n"
          ]
        }
      ]
    },
    {
      "cell_type": "code",
      "source": [],
      "metadata": {
        "id": "dyc1V-ZzYgWM"
      },
      "execution_count": null,
      "outputs": []
    }
  ]
}