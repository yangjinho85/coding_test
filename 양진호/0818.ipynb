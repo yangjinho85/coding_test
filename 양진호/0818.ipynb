{
  "nbformat": 4,
  "nbformat_minor": 0,
  "metadata": {
    "colab": {
      "name": "0818.ipynb",
      "provenance": [],
      "authorship_tag": "ABX9TyPPpIQaIpfgjNellkObWwRd"
    },
    "kernelspec": {
      "name": "python3",
      "display_name": "Python 3"
    },
    "language_info": {
      "name": "python"
    }
  },
  "cells": [
    {
      "cell_type": "markdown",
      "source": [
        "#<a href=\"https://www.acmicpc.net/problem/10870\">피보나치 수5</a>(실패)"
      ],
      "metadata": {
        "id": "ENAye189Csj4"
      }
    },
    {
      "cell_type": "code",
      "execution_count": 7,
      "metadata": {
        "colab": {
          "base_uri": "https://localhost:8080/"
        },
        "id": "E4XeDGJPnwoP",
        "outputId": "d761ce1b-8217-495d-9709-aef2da8e06c0"
      },
      "outputs": [
        {
          "output_type": "stream",
          "name": "stdout",
          "text": [
            "10\n",
            "55\n"
          ]
        }
      ],
      "source": [
        "a=0\n",
        "b=1\n",
        "c=0\n",
        "d=int(input())\n",
        "for i in range(d-1):\n",
        "    c=a+b\n",
        "    a=b\n",
        "    b=c\n",
        "print(c)"
      ]
    },
    {
      "cell_type": "code",
      "source": [
        ""
      ],
      "metadata": {
        "id": "nAnRhM5ouWUy"
      },
      "execution_count": null,
      "outputs": []
    },
    {
      "cell_type": "code",
      "source": [
        ""
      ],
      "metadata": {
        "id": "RONTmJC-xOkD"
      },
      "execution_count": null,
      "outputs": []
    },
    {
      "cell_type": "code",
      "source": [
        ""
      ],
      "metadata": {
        "id": "SRB9MztW1ZZU"
      },
      "execution_count": null,
      "outputs": []
    }
  ]
}