{
  "nbformat": 4,
  "nbformat_minor": 0,
  "metadata": {
    "colab": {
      "name": "0803.ipynb",
      "provenance": [],
      "authorship_tag": "ABX9TyOKt3BoxOFgbQVLe9kTNktL"
    },
    "kernelspec": {
      "name": "python3",
      "display_name": "Python 3"
    },
    "language_info": {
      "name": "python"
    }
  },
  "cells": [
    {
      "cell_type": "markdown",
      "source": [
        "#블랙잭\n",
        "https://www.acmicpc.net/problem/2798"
      ],
      "metadata": {
        "id": "1sdiAkLLtvjE"
      }
    },
    {
      "cell_type": "code",
      "source": [
        "from itertools import combinations"
      ],
      "metadata": {
        "id": "cTqxTkv8lPXq"
      },
      "execution_count": 1,
      "outputs": []
    },
    {
      "cell_type": "code",
      "source": [
        "from itertools import combinations #조합과 순열을 쉽게 구할수 있는 라이브러리\n",
        "N,M = map(int,input().split())     #N 카드의 갯수 M 구해야되는 값\n",
        "cardlist = list(map(int,input().split())) # N개의 카드 갯수 만큼의 카드\n",
        "maxnum=0                                  # 리스트의 합들을 비교하여 M과 같거나 가까운수를 비교하기 위한 변수\n",
        "for i in combinations(cardlist,3):        #combinations(cardlist,3) 리스트의 원소를 3개의 조합으로 반환해준다\n",
        "    if maxnum < sum(i) <= M:              #combinations로 조합되어 반환된 합의 크기가 타겟인 M보다 작거나같으면\n",
        "        maxnum  = sum(i)                  #maxnum에 타겟값을 넘지않는 최대값을 저장하여\n",
        "print(maxnum)                             #출력한다\n"
      ],
      "metadata": {
        "colab": {
          "base_uri": "https://localhost:8080/"
        },
        "id": "UFTMUAeQmJML",
        "outputId": "129e430d-f4d8-4250-8fee-b636fe34378b"
      },
      "execution_count": 22,
      "outputs": [
        {
          "output_type": "stream",
          "name": "stdout",
          "text": [
            "5 21\n",
            "1 5 8 9 13\n",
            "19\n"
          ]
        }
      ]
    }
  ]
}