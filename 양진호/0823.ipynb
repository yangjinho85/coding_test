{
  "nbformat": 4,
  "nbformat_minor": 0,
  "metadata": {
    "colab": {
      "name": "0823.ipynb",
      "provenance": [],
      "authorship_tag": "ABX9TyNtQ7IlcvupqyYFE3YYCDCx"
    },
    "kernelspec": {
      "name": "python3",
      "display_name": "Python 3"
    },
    "language_info": {
      "name": "python"
    }
  },
  "cells": [
    {
      "cell_type": "markdown",
      "source": [
        "#<a href=\"https://www.acmicpc.net/problem/20361\">일우는 야바위꾼</a>"
      ],
      "metadata": {
        "id": "7ICzJqElwXSm"
      }
    },
    {
      "cell_type": "code",
      "execution_count": 14,
      "metadata": {
        "colab": {
          "base_uri": "https://localhost:8080/"
        },
        "id": "mcmZyib8lU4h",
        "outputId": "e3c03f1d-1bf9-4723-b3c1-2254a0ecfdaf"
      },
      "outputs": [
        {
          "output_type": "stream",
          "name": "stdout",
          "text": [
            "4 3 3\n",
            "3 1\n",
            "2 4\n",
            "1 4\n",
            "4\n"
          ]
        }
      ],
      "source": [
        "n,x,k=map(int,input().split())\n",
        "a=[i for i in range(1,n+1)]\n",
        "for i in range(k):\n",
        "    j,y=map(int,input().split())\n",
        "    a[j-1],a[y-1] = a[y-1],a[j-1]\n",
        "print(a.index(x)+1)"
      ]
    },
    {
      "cell_type": "markdown",
      "source": [
        "#<a href=\"https://www.acmicpc.net/problem/25495\">에어팟</a>"
      ],
      "metadata": {
        "id": "06cBgdvcwiWj"
      }
    },
    {
      "cell_type": "code",
      "source": [
        "n=int(input())\n",
        "a=list(map(int,input().split()))\n",
        "b=0\n",
        "result=[1]\n",
        "for i in range(len(a)):\n",
        "    if b==a[i]:\n",
        "        result.append(result[-1]*2)\n",
        "    else:\n",
        "        result.append(2)\n",
        "    if sum(result) >=100:\n",
        "        result=[1]\n",
        "    b=a[i]\n",
        "print(sum(result)-1)\n"
      ],
      "metadata": {
        "colab": {
          "base_uri": "https://localhost:8080/"
        },
        "id": "IWP7HQs-qu-o",
        "outputId": "394a7e22-0ac6-4cd1-b451-39ed9d42757a"
      },
      "execution_count": 44,
      "outputs": [
        {
          "output_type": "stream",
          "name": "stdout",
          "text": [
            "8\n"
          ]
        }
      ]
    },
    {
      "cell_type": "markdown",
      "source": [
        "#<a href=\"https://www.acmicpc.net/problem/2576\">홀수</a>"
      ],
      "metadata": {
        "id": "GlYF7Z6M5xCE"
      }
    },
    {
      "cell_type": "code",
      "source": [
        "odd=[]\n",
        "result=[]\n",
        "for i in range(7):\n",
        "    odd.append(int(input()))\n",
        "\n",
        "for i in odd:\n",
        "    if i%2!=0:\n",
        "        result.append(i)\n",
        "    \n",
        "if not result:\n",
        "    print(-1)\n",
        "else:\n",
        "    print(sum(result))\n",
        "    print(min(result))"
      ],
      "metadata": {
        "colab": {
          "base_uri": "https://localhost:8080/"
        },
        "id": "nMyjTfhl0Haq",
        "outputId": "7e91819a-3dfe-43e5-e7db-604f2e485b9f"
      },
      "execution_count": 49,
      "outputs": [
        {
          "output_type": "stream",
          "name": "stdout",
          "text": [
            "12\n",
            "77\n",
            "38\n",
            "41\n",
            "53\n",
            "92\n",
            "85\n",
            "256\n",
            "41\n"
          ]
        }
      ]
    },
    {
      "cell_type": "code",
      "source": [
        ""
      ],
      "metadata": {
        "id": "n6LQenAE64TF"
      },
      "execution_count": null,
      "outputs": []
    }
  ]
}