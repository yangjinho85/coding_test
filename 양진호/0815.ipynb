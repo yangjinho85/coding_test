{
  "nbformat": 4,
  "nbformat_minor": 0,
  "metadata": {
    "colab": {
      "name": "0815.ipynb",
      "provenance": [],
      "authorship_tag": "ABX9TyPRxkiFKAymWDeUhzICUgQd"
    },
    "kernelspec": {
      "name": "python3",
      "display_name": "Python 3"
    },
    "language_info": {
      "name": "python"
    }
  },
  "cells": [
    {
      "cell_type": "markdown",
      "source": [
        "#<a href=\"https://www.acmicpc.net/problem/25238\">가희와 방어율 무시</a>"
      ],
      "metadata": {
        "id": "AKb8M6KxgNlx"
      }
    },
    {
      "cell_type": "code",
      "source": [
        "a,b=map(int,input().split())\n",
        "if int(a-(a*(b/100))) >=100:\n",
        "    print(0)\n",
        "else:\n",
        "    print(1)\n",
        "\n",
        "\n"
      ],
      "metadata": {
        "colab": {
          "base_uri": "https://localhost:8080/"
        },
        "id": "8Zc_9p6FfADV",
        "outputId": "2d8c4774-de00-457e-b6f5-f64c410e6f87"
      },
      "execution_count": 48,
      "outputs": [
        {
          "output_type": "stream",
          "name": "stdout",
          "text": [
            "336 71\n",
            "1\n"
          ]
        }
      ]
    },
    {
      "cell_type": "markdown",
      "source": [
        "#<a href=\"https://www.acmicpc.net/problem/20492\">세금</a>"
      ],
      "metadata": {
        "id": "2QEp6N4FinKo"
      }
    },
    {
      "cell_type": "code",
      "source": [
        "n=int(input())\n",
        "m=n-(n*0.80)\n",
        "print(int(n-(n*0.22)),int(n-(m*0.22)))"
      ],
      "metadata": {
        "colab": {
          "base_uri": "https://localhost:8080/"
        },
        "id": "U9JmVoMmfAD7",
        "outputId": "40f8a8ac-3df7-49f2-f04b-82bac1ee0469"
      },
      "execution_count": 58,
      "outputs": [
        {
          "output_type": "stream",
          "name": "stdout",
          "text": [
            "1000\n",
            "780 956\n"
          ]
        }
      ]
    },
    {
      "cell_type": "markdown",
      "source": [
        "#<a href=\"https://www.acmicpc.net/problem/13277\">큰 수 곱셈</a>"
      ],
      "metadata": {
        "id": "xN77objBkS2C"
      }
    },
    {
      "cell_type": "code",
      "source": [
        "a,b=map(int,input().split())\n",
        "print(int(a)*int(b))"
      ],
      "metadata": {
        "colab": {
          "base_uri": "https://localhost:8080/"
        },
        "id": "fA9fWMWehNhM",
        "outputId": "54870bc7-97a7-4ea6-c759-767f0aa9769b"
      },
      "execution_count": 53,
      "outputs": [
        {
          "output_type": "execute_result",
          "data": {
            "text/plain": [
              "7800000.0"
            ]
          },
          "metadata": {},
          "execution_count": 53
        }
      ]
    }
  ]
}