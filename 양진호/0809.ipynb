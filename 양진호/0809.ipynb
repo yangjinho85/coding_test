{
  "nbformat": 4,
  "nbformat_minor": 0,
  "metadata": {
    "colab": {
      "name": "0809.ipynb",
      "provenance": [],
      "authorship_tag": "ABX9TyO6ydnITdhCX42xl4QIeqdz"
    },
    "kernelspec": {
      "name": "python3",
      "display_name": "Python 3"
    },
    "language_info": {
      "name": "python"
    }
  },
  "cells": [
    {
      "cell_type": "markdown",
      "source": [
        "#<a href=\"https://www.acmicpc.net/status?user_id=jinhoy&problem_id=10757&from_mine=1\">큰 수 A+B</a>"
      ],
      "metadata": {
        "id": "gg9_XMi3pbuZ"
      }
    },
    {
      "cell_type": "code",
      "execution_count": null,
      "metadata": {
        "id": "LpiAnBV6paHZ"
      },
      "outputs": [],
      "source": [
        "a,b=map(int,(input().split()))\n",
        "print(a+b)"
      ]
    },
    {
      "cell_type": "markdown",
      "source": [
        "#<a hef=\"https://www.acmicpc.net/problem/10699\">오늘 날짜</a>"
      ],
      "metadata": {
        "id": "DdsC2Cdup59q"
      }
    },
    {
      "cell_type": "code",
      "source": [
        "from datetime import datetime\n",
        "now = datetime.now()\n",
        "print(now.date())"
      ],
      "metadata": {
        "colab": {
          "base_uri": "https://localhost:8080/"
        },
        "id": "p6cQx_2GqE5V",
        "outputId": "285223c7-a440-4647-9ddd-99f976fb62e3"
      },
      "execution_count": 6,
      "outputs": [
        {
          "output_type": "stream",
          "name": "stdout",
          "text": [
            "2022-08-09\n"
          ]
        }
      ]
    },
    {
      "cell_type": "markdown",
      "source": [
        "#<a href=\"https://www.acmicpc.net/problem/5338\">마이크로소프트 로고</a>"
      ],
      "metadata": {
        "id": "b-t-pbtuv38U"
      }
    },
    {
      "cell_type": "code",
      "source": [
        "print('       _.-;;-._')\n",
        "print(\"'-..-'|   ||   |\")\n",
        "print(\"'-..-'|_.-;;-._|\")\n",
        "print(\"'-..-'|   ||   |\")\n",
        "print(\"'-..-'\"\"|_.-''-._|\")"
      ],
      "metadata": {
        "id": "48_zZLu7uR7h",
        "colab": {
          "base_uri": "https://localhost:8080/"
        },
        "outputId": "14739b45-65c1-42c0-947c-039156a65bd4"
      },
      "execution_count": 8,
      "outputs": [
        {
          "output_type": "stream",
          "name": "stdout",
          "text": [
            "       _.-;;-._\n",
            "'-..-'|   ||   |\n",
            "'-..-'|_.-;;-._|\n",
            "'-..-'|   ||   |\n",
            "'-..-'|_.-''-._|\n"
          ]
        }
      ]
    },
    {
      "cell_type": "markdown",
      "source": [
        "#<a href=\"https://www.acmicpc.net/problem/11942\">고려대는 사랑입니다</a>"
      ],
      "metadata": {
        "id": "ABxdv2krwbcp"
      }
    },
    {
      "cell_type": "code",
      "source": [
        "print(\"고려대학교\")"
      ],
      "metadata": {
        "id": "7ggHoTbSwQzQ"
      },
      "execution_count": null,
      "outputs": []
    },
    {
      "cell_type": "markdown",
      "source": [
        "#<a href=\"https://www.acmicpc.net/problem/2420\">사파리월드</a>\n"
      ],
      "metadata": {
        "id": "MTyaPenXw0BC"
      }
    },
    {
      "cell_type": "code",
      "source": [
        ""
      ],
      "metadata": {
        "id": "nvxMpDj0I-Zo"
      },
      "execution_count": null,
      "outputs": []
    },
    {
      "cell_type": "code",
      "source": [
        "a,b=map(int,input().split())\n",
        "\n",
        "abs(a-b)"
      ],
      "metadata": {
        "colab": {
          "base_uri": "https://localhost:8080/"
        },
        "id": "8ry1Dq6zxBu9",
        "outputId": "3387de39-4608-4852-a452-06a187cb3cf7"
      },
      "execution_count": 22,
      "outputs": [
        {
          "name": "stdout",
          "output_type": "stream",
          "text": [
            "-2 5\n"
          ]
        },
        {
          "output_type": "execute_result",
          "data": {
            "text/plain": [
              "7"
            ]
          },
          "metadata": {},
          "execution_count": 22
        }
      ]
    },
    {
      "cell_type": "markdown",
      "source": [
        "#<a href=\"https://www.acmicpc.net/problem/3003\">킹,퀸,룩,비숍,나이트,폰</a>"
      ],
      "metadata": {
        "id": "nKU18yEfT5TG"
      }
    },
    {
      "cell_type": "code",
      "source": [
        "sets = [1,1,2,2,2,8]\n",
        "input_set = list(map(int,(input().split())))\n",
        "\n",
        "for i in range(len(sets)):\n",
        "    print( sets[i]-input_set[i],end=' ')\n"
      ],
      "metadata": {
        "colab": {
          "base_uri": "https://localhost:8080/"
        },
        "id": "bxOVt0Xo9v4n",
        "outputId": "51291a16-a2b7-4bb2-a85d-34d58f848f93"
      },
      "execution_count": 36,
      "outputs": [
        {
          "output_type": "stream",
          "name": "stdout",
          "text": [
            "0 1 2 2 2 7\n",
            "1 0 0 0 0 1 "
          ]
        }
      ]
    },
    {
      "cell_type": "markdown",
      "source": [
        "#<a href=\"https://www.acmicpc.net/problem/5337\">웰컴</a>"
      ],
      "metadata": {
        "id": "rETr8GnBWUnT"
      }
    },
    {
      "cell_type": "code",
      "source": [
        "print('.  .   .')\n",
        "print('|  | _ | _. _ ._ _  _')\n",
        "print('|/\\\\|(/.|(_.(_)[ | )(/.')"
      ],
      "metadata": {
        "colab": {
          "base_uri": "https://localhost:8080/"
        },
        "id": "Q1mao3QlJtIp",
        "outputId": "bd52dde7-d1ed-422b-bb02-33b1f5f674f4"
      },
      "execution_count": 38,
      "outputs": [
        {
          "output_type": "stream",
          "name": "stdout",
          "text": [
            ".  .   .\n",
            "|  | _ | _. _ ._ _  _\n",
            "|/\\|(/.|(_.(_)[ | )(/.\n"
          ]
        }
      ]
    },
    {
      "cell_type": "markdown",
      "source": [
        "#<a href=\"https://www.acmicpc.net/problem/9653\">스타워즈 로고</a>"
      ],
      "metadata": {
        "id": "Y7fAEAqiWzkA"
      }
    },
    {
      "cell_type": "code",
      "source": [
        "print('    8888888888  888    88888')\n",
        "print('   88     88   88 88   88  88')\n",
        "print('    8888  88  88   88  88888')\n",
        "print('       88 88 888888888 88   88')\n",
        "print('88888888  88 88     88 88    888888')\n",
        "print('')\n",
        "print('88  88  88   888    88888    888888')\n",
        "print('88  88  88  88 88   88  88  88')\n",
        "print('88 8888 88 88   88  88888    8888')\n",
        "print(' 888  888 888888888 88  88      88')\n",
        "print('  88  88  88     88 88   88888888')"
      ],
      "metadata": {
        "colab": {
          "base_uri": "https://localhost:8080/"
        },
        "id": "agDnMsWkUW8B",
        "outputId": "35471dde-35bf-48fa-cb48-72a83f7455c6"
      },
      "execution_count": 39,
      "outputs": [
        {
          "output_type": "stream",
          "name": "stdout",
          "text": [
            "    8888888888  888    88888\n",
            "   88     88   88 88   88  88\n",
            "    8888  88  88   88  88888\n",
            "       88 88 888888888 88   88\n",
            "88888888  88 88     88 88    888888\n",
            "\n",
            "88  88  88   888    88888    888888\n",
            "88  88  88  88 88   88  88  88\n",
            "88 8888 88 88   88  88888    8888\n",
            " 888  888 888888888 88  88      88\n",
            "  88  88  88     88 88   88888888\n"
          ]
        }
      ]
    },
    {
      "cell_type": "markdown",
      "source": [
        "#<a href=\"https://www.acmicpc.net/problem/5339\">콜센터</a>"
      ],
      "metadata": {
        "id": "t9a7xA4PXYmV"
      }
    },
    {
      "cell_type": "code",
      "source": [
        "print('     /~\\\\')\n",
        "print('    ( oo|')\n",
        "print('    _\\\\=/_')\n",
        "print('   /  _  \\\\')\n",
        "print('  //|/.\\\\|\\\\\\\\')\n",
        "print(' ||  \\\\ /  ||')\n",
        "print('============')\n",
        "print('|          |')\n",
        "print('|          |')\n",
        "print('|          |')"
      ],
      "metadata": {
        "colab": {
          "base_uri": "https://localhost:8080/"
        },
        "id": "Nl3WXSttXS_Z",
        "outputId": "1f6cfdde-e47d-40e3-eec1-b0c9264b6e2c"
      },
      "execution_count": 40,
      "outputs": [
        {
          "output_type": "stream",
          "name": "stdout",
          "text": [
            "     /~\\\n",
            "    ( oo|\n",
            "    _\\=/_\n",
            "   /  _  \\\n",
            "  //|/.\\|\\\\\n",
            " ||  \\ /  ||\n",
            "============\n",
            "|          |\n",
            "|          |\n",
            "|          |\n"
          ]
        }
      ]
    },
    {
      "cell_type": "markdown",
      "source": [
        "#<a href=\"https://www.acmicpc.net/problem/4101\">크냐?</a>"
      ],
      "metadata": {
        "id": "Vk8KJkxqYB8F"
      }
    },
    {
      "cell_type": "code",
      "source": [
        "while True:\n",
        "    a,b = map(int,input().split())\n",
        "    if a==0 and b==0:\n",
        "        break\n",
        "    if a>b:\n",
        "        print('Yes')\n",
        "    else:\n",
        "        print('No')\n"
      ],
      "metadata": {
        "colab": {
          "base_uri": "https://localhost:8080/"
        },
        "id": "WmK1_pl2X6_B",
        "outputId": "462ef1a3-77ed-4fcf-a211-3076b3b6831c"
      },
      "execution_count": 58,
      "outputs": [
        {
          "name": "stdout",
          "output_type": "stream",
          "text": [
            "1 19\n",
            "No\n",
            "4 4\n",
            "No\n",
            "23 14\n",
            "Yes\n",
            "0 0\n"
          ]
        }
      ]
    },
    {
      "cell_type": "markdown",
      "source": [
        ""
      ],
      "metadata": {
        "id": "5mP0x3jtbCvI"
      }
    },
    {
      "cell_type": "markdown",
      "source": [
        "#<a href=\"https://www.acmicpc.net/problem/9654\">나부 함대 데이터</a>"
      ],
      "metadata": {
        "id": "om3EHkE4bCwA"
      }
    },
    {
      "cell_type": "code",
      "source": [
        "print('''SHIP NAME      CLASS          DEPLOYMENT IN SERVICE\n",
        "N2 Bomber      Heavy Fighter  Limited    21        \n",
        "J-Type 327     Light Combat   Unlimited  1         \n",
        "NX Cruiser     Medium Fighter Limited    18        \n",
        "N1 Starfighter Medium Fighter Unlimited  25        \n",
        "Royal Cruiser  Light Combat   Limited    4      ''')"
      ],
      "metadata": {
        "colab": {
          "base_uri": "https://localhost:8080/"
        },
        "id": "o_AnPeYJYSUw",
        "outputId": "e16ef1a1-38f4-4709-fce1-f24b93045a6f"
      },
      "execution_count": 59,
      "outputs": [
        {
          "output_type": "stream",
          "name": "stdout",
          "text": [
            "SHIP NAME      CLASS          DEPLOYMENT IN SERVICE\n",
            "N2 Bomber      Heavy Fighter  Limited    21        \n",
            "J-Type 327     Light Combat   Unlimited  1         \n",
            "NX Cruiser     Medium Fighter Limited    18        \n",
            "N1 Starfighter Medium Fighter Unlimited  25        \n",
            "Royal Cruiser  Light Combat   Limited    4      \n"
          ]
        }
      ]
    },
    {
      "cell_type": "markdown",
      "source": [
        "#<a href=\"https://www.acmicpc.net/problem/5597\">과제 안 내신 분..?</a>"
      ],
      "metadata": {
        "id": "c00zMiMvcAEs"
      }
    },
    {
      "cell_type": "code",
      "source": [
        "students=[i for i in range(1,31)]\n",
        "for _ in range(1,29):\n",
        "    students.remove(int(input()))\n",
        "print(*students,sep='\\n')"
      ],
      "metadata": {
        "colab": {
          "base_uri": "https://localhost:8080/"
        },
        "id": "keSHWk0-b6qQ",
        "outputId": "8156bdf2-dfb9-46cf-b705-8d17634d1a78"
      },
      "execution_count": 70,
      "outputs": [
        {
          "output_type": "stream",
          "name": "stdout",
          "text": [
            "3\n",
            "1\n",
            "4\n",
            "5\n",
            "7\n",
            "9\n",
            "6\n",
            "10\n",
            "11\n",
            "12\n",
            "13\n",
            "14\n",
            "15\n",
            "16\n",
            "17\n",
            "18\n",
            "19\n",
            "20\n",
            "21\n",
            "22\n",
            "23\n",
            "24\n",
            "25\n",
            "26\n",
            "27\n",
            "28\n",
            "29\n",
            "30\n",
            "2\n",
            "8\n"
          ]
        }
      ]
    }
  ]
}