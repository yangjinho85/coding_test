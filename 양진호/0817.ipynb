{
  "nbformat": 4,
  "nbformat_minor": 0,
  "metadata": {
    "colab": {
      "name": "0817.ipynb",
      "provenance": [],
      "authorship_tag": "ABX9TyOq5Ophu5QnfFlaICq6x1d9"
    },
    "kernelspec": {
      "name": "python3",
      "display_name": "Python 3"
    },
    "language_info": {
      "name": "python"
    }
  },
  "cells": [
    {
      "cell_type": "markdown",
      "source": [
        "#<a herf=\"https://www.acmicpc.net/problem/1157\">단어 공부</a>"
      ],
      "metadata": {
        "id": "VJuINaF4h9hj"
      }
    },
    {
      "cell_type": "code",
      "execution_count": 10,
      "metadata": {
        "colab": {
          "base_uri": "https://localhost:8080/"
        },
        "id": "c-6KxhQadsY-",
        "outputId": "7b8fd30b-6ed4-4a1e-ee4b-92a3821872fa"
      },
      "outputs": [
        {
          "output_type": "stream",
          "name": "stdout",
          "text": [
            "Z\n"
          ]
        }
      ],
      "source": [
        "word=input()\n",
        "up = word.upper()\n",
        "wordset = list(set(up))\n",
        "wordcount=[]\n",
        "for i in range(len(wordset)):\n",
        "    wordcount.append(up.count(wordset[i]))\n",
        "if wordcount.count(max(wordcount)) == 1:\n",
        "    print(wordset[wordcount.index(max(wordcount))])\n",
        "else:\n",
        "    print('?')"
      ]
    },
    {
      "cell_type": "markdown",
      "source": [
        "#<a hrf=\"https://www.acmicpc.net/problem/2941\">크로아티아 알파벳</a>"
      ],
      "metadata": {
        "id": "-9wnsozvpkUr"
      }
    },
    {
      "cell_type": "code",
      "source": [
        "a=input()\n",
        "b=[\"c=\",\"c-\",\"dz=\",\"d-\",\"lj\",\"nj\",\"s=\",\"z=\"]\n",
        "count=0\n",
        "i=0\n",
        "while True:\n",
        "    if b[i] in a:\n",
        "        a=a.replace(b[i],',',1)\n",
        "        count+=1\n",
        "        i=0 \n",
        "    else:\n",
        "        i+=1\n",
        "    if i ==8:\n",
        "        break\n",
        "print(count+len(a.replace(',','')))"
      ],
      "metadata": {
        "colab": {
          "base_uri": "https://localhost:8080/"
        },
        "id": "Y3GgGKMgeUfd",
        "outputId": "c3aa8104-ee64-489d-dbe9-b61fc1677f32"
      },
      "execution_count": 46,
      "outputs": [
        {
          "output_type": "stream",
          "name": "stdout",
          "text": [
            "c=c=\n",
            "2\n"
          ]
        }
      ]
    },
    {
      "cell_type": "markdown",
      "source": [
        "#<a href=\"https://www.acmicpc.net/problem/2775\">부녀회장이 될테야</a>"
      ],
      "metadata": {
        "id": "XfnaMPNL0VvV"
      }
    },
    {
      "cell_type": "code",
      "source": [
        "t=int(input())\n",
        "for k in range(t):\n",
        "    k=int(input())\n",
        "    n=int(input()) \n",
        "    floor =[1,2,3,4,5,6,7,8,9,10,11,12,13,14]      \n",
        "    for j in range(k):\n",
        "        f=0 \n",
        "        case=[]        \n",
        "        for i in range(n):\n",
        "            case.append(f+floor[i])\n",
        "            f+=floor[i]\n",
        "        floor = case\n",
        "\n",
        "    print(case[n-1])    "
      ],
      "metadata": {
        "colab": {
          "base_uri": "https://localhost:8080/"
        },
        "id": "sw6y9Zc6kPe6",
        "outputId": "9aa9a081-3fdb-4fd6-fc46-38ae85459f02"
      },
      "execution_count": 65,
      "outputs": [
        {
          "output_type": "stream",
          "name": "stdout",
          "text": [
            "2\n",
            "1\n",
            "3\n",
            "6\n",
            "2\n",
            "3\n",
            "10\n"
          ]
        }
      ]
    }
  ]
}