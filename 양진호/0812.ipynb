{
  "nbformat": 4,
  "nbformat_minor": 0,
  "metadata": {
    "colab": {
      "name": "0812.ipynb",
      "provenance": [],
      "authorship_tag": "ABX9TyMv2kUM4k6NNnoHSd6nTmDL"
    },
    "kernelspec": {
      "name": "python3",
      "display_name": "Python 3"
    },
    "language_info": {
      "name": "python"
    }
  },
  "cells": [
    {
      "cell_type": "markdown",
      "source": [
        "#<a href=\"https://www.acmicpc.net/problem/5585\">거스름돈</a>"
      ],
      "metadata": {
        "id": "C_GzdyL_tn02"
      }
    },
    {
      "cell_type": "code",
      "execution_count": 7,
      "metadata": {
        "colab": {
          "base_uri": "https://localhost:8080/"
        },
        "id": "hO4nDD2TtXyc",
        "outputId": "9e22fc6a-0f10-4d9e-d10e-dd91c39cce9a"
      },
      "outputs": [
        {
          "output_type": "stream",
          "name": "stdout",
          "text": [
            "1\n",
            "15\n"
          ]
        }
      ],
      "source": [
        "money= 1000 - int(input())\n",
        "change=[500,100,50,10,5,1]\n",
        "result=[]\n",
        "\n",
        "for i in range(len(change)):\n",
        "    result.append(money//change[i])\n",
        "    money %= change[i]\n",
        "print(sum(result))"
      ]
    },
    {
      "cell_type": "markdown",
      "source": [
        "#<a href=\"https://www.acmicpc.net/problem/4796\">캠핑</a>"
      ],
      "metadata": {
        "id": "grLAcz_KwO9G"
      }
    },
    {
      "cell_type": "code",
      "source": [
        "i=0\n",
        "while True:\n",
        "    a,b,c =map(int,input().split())\n",
        "    test=0\n",
        "    result=0\n",
        "    i+=1\n",
        "    if a==b==c==0:\n",
        "        break\n",
        "     \n",
        "    if c-(b*(c//b)) < a:\n",
        "        test = c-(b*(c//b))\n",
        "    else:\n",
        "        test = a\n",
        "    result = (a*(c//b)) + test\n",
        "    print(f\"Case {i}: {result}\")"
      ],
      "metadata": {
        "colab": {
          "base_uri": "https://localhost:8080/"
        },
        "id": "iwhPWEq2wYdj",
        "outputId": "d79cd276-afba-4083-f2c4-392283adb1e8"
      },
      "execution_count": 12,
      "outputs": [
        {
          "name": "stdout",
          "output_type": "stream",
          "text": [
            "5 8 20\n",
            "Case 1: 14\n",
            "5 8 17\n",
            "Case 2: 11\n",
            "0 0 0\n"
          ]
        }
      ]
    },
    {
      "cell_type": "markdown",
      "source": [
        "#<a href=\"https://www.acmicpc.net/problem/2864\">5와 6의 차이</a>"
      ],
      "metadata": {
        "id": "fleYxbY72Bw4"
      }
    },
    {
      "cell_type": "code",
      "source": [
        "result=[]\n",
        "A,B=map(str,input().split())\n",
        "result.append(int(A)+int(B))\n",
        "A=A.replace('5','6')\n",
        "B=B.replace('5','6')\n",
        "result.append(int(A)+int(B))\n",
        "A=A.replace('6','5')\n",
        "B=B.replace('6','5')\n",
        "result.append(int(A)+int(B))\n",
        "\n",
        "print(min(result),max(result))"
      ],
      "metadata": {
        "colab": {
          "base_uri": "https://localhost:8080/"
        },
        "id": "9_jcKu0RvGN7",
        "outputId": "d20c1721-188d-4e75-9dcf-da5f8a08241d"
      },
      "execution_count": 28,
      "outputs": [
        {
          "output_type": "stream",
          "name": "stdout",
          "text": [
            "16796 58786\n",
            "74580 85582\n"
          ]
        }
      ]
    },
    {
      "cell_type": "markdown",
      "source": [
        "#<a href=\"https://www.acmicpc.net/problem/2720\">세탁소 사장 동혁</a>"
      ],
      "metadata": {
        "id": "LdOSEkIv5Kby"
      }
    },
    {
      "cell_type": "code",
      "source": [
        "coin=[25,10,5,1]\n",
        "T=int(input())\n",
        "C=0\n",
        "result=[]\n",
        "for i in range(T):\n",
        "    C=int(input())\n",
        "    result=[]\n",
        "    for j in range(len(coin)):        \n",
        "        result.append(C//coin[j])\n",
        "        C %=coin[j]\n",
        "    print(' '.join(map(str,result)))"
      ],
      "metadata": {
        "colab": {
          "base_uri": "https://localhost:8080/"
        },
        "id": "o33Wcmhavd0s",
        "outputId": "1a3cfe24-6a2e-4c2f-981b-d755665a0f02"
      },
      "execution_count": 37,
      "outputs": [
        {
          "output_type": "stream",
          "name": "stdout",
          "text": [
            "3\n",
            "124\n",
            "4 2 0 4\n",
            "25\n",
            "1 0 0 0\n",
            "194\n",
            "7 1 1 4\n"
          ]
        }
      ]
    },
    {
      "cell_type": "markdown",
      "source": [
        "#<a href=\"https://www.acmicpc.net/problem/2810\">컵홀더</a>"
      ],
      "metadata": {
        "id": "6T2cSrMk76wf"
      }
    },
    {
      "cell_type": "code",
      "source": [
        "N=int(input())\n",
        "a=input()\n",
        "if 'LL' in a:\n",
        "    a=a.replace('LL','*LL')\n",
        "if 'S' in a:\n",
        "    a= a.replace('S','*S')\n",
        "if N < a.count('*')+1:\n",
        "     print(N)\n",
        "else:\n",
        "    print(a.count('*')+1)"
      ],
      "metadata": {
        "colab": {
          "base_uri": "https://localhost:8080/"
        },
        "id": "CQEbk_Y_vfJc",
        "outputId": "2989225a-7caa-4932-fc81-48815b4dbabb"
      },
      "execution_count": 64,
      "outputs": [
        {
          "output_type": "stream",
          "name": "stdout",
          "text": [
            "9\n",
            "SLLLLSSLL\n",
            "7\n"
          ]
        }
      ]
    },
    {
      "cell_type": "markdown",
      "source": [
        "#<a href=\"https://www.acmicpc.net/problem/14659\">한조서열정리하고옴ㅋㅋ</a>"
      ],
      "metadata": {
        "id": "_sA8xUafCroS"
      }
    },
    {
      "cell_type": "code",
      "source": [
        "N=int(input())\n",
        "hanjo=list(map(int,(input().split())))\n",
        "killer=0\n",
        "count=0\n",
        "result=[]\n",
        "for i in range(len(hanjo)):\n",
        "    if killer < hanjo[i]:\n",
        "        result.append(count)\n",
        "        count=0\n",
        "        killer = hanjo[i]\n",
        "    else:        \n",
        "        count+=1\n",
        "        result.append(count)\n",
        "print(max(result))"
      ],
      "metadata": {
        "colab": {
          "base_uri": "https://localhost:8080/"
        },
        "id": "08G6L2_H8z2r",
        "outputId": "3fbe4623-359a-4beb-8480-e23dc77c603d"
      },
      "execution_count": 74,
      "outputs": [
        {
          "output_type": "stream",
          "name": "stdout",
          "text": [
            "7\n",
            "6 4 10 2 5 7 11\n",
            "3\n"
          ]
        }
      ]
    }
  ]
}