{
  "nbformat": 4,
  "nbformat_minor": 0,
  "metadata": {
    "colab": {
      "name": "0811.ipynb",
      "provenance": [],
      "authorship_tag": "ABX9TyOkXwrbg09DfdN9QjvqBktO"
    },
    "kernelspec": {
      "name": "python3",
      "display_name": "Python 3"
    },
    "language_info": {
      "name": "python"
    }
  },
  "cells": [
    {
      "cell_type": "markdown",
      "source": [
        "#<a href=\"https://www.acmicpc.net/problem/10101\">삼각형 외우기</a>"
      ],
      "metadata": {
        "id": "pU9wQOCghYQo"
      }
    },
    {
      "cell_type": "code",
      "execution_count": 4,
      "metadata": {
        "colab": {
          "base_uri": "https://localhost:8080/"
        },
        "id": "MtMq6eLCg_i8",
        "outputId": "a7551302-a5cc-437d-e7a8-81fea53485e7"
      },
      "outputs": [
        {
          "output_type": "stream",
          "name": "stdout",
          "text": [
            "60\n",
            "70\n",
            "50\n",
            "Scalene\n"
          ]
        }
      ],
      "source": [
        "result=[]\n",
        "for i in range(3):\n",
        "    result.append(int(input()))\n",
        "\n",
        "if sum(result) == 180 :\n",
        "    if len(set(result)) ==1:\n",
        "        print(\"Equilateral\")\n",
        "    elif len(set(result)) ==2:\n",
        "        print(\"Isosceles\")\n",
        "    else:\n",
        "        print(\"Scalene\")    \n",
        "else:\n",
        "    print('Error')"
      ]
    },
    {
      "cell_type": "markdown",
      "source": [
        "#<a href=\"https://www.acmicpc.net/problem/10162\">전자레인지</a>"
      ],
      "metadata": {
        "id": "GnObpXnBma9W"
      }
    },
    {
      "cell_type": "code",
      "source": [
        "a=b=c=0\n",
        "T = int(input())\n",
        "\n",
        "if T%10 !=0:\n",
        "    print(-1)\n",
        "else:\n",
        "    a = T//300\n",
        "    b = (T%300)//60\n",
        "    c = ((T%300)%60)//10\n",
        "    print(a,b,c)"
      ],
      "metadata": {
        "colab": {
          "base_uri": "https://localhost:8080/"
        },
        "id": "cNafRfMimgpL",
        "outputId": "5e972054-7437-4b46-8365-367db6725f57"
      },
      "execution_count": 29,
      "outputs": [
        {
          "output_type": "stream",
          "name": "stdout",
          "text": [
            "189\n",
            "-1\n"
          ]
        }
      ]
    },
    {
      "cell_type": "markdown",
      "source": [
        "#<a href =\"https://www.acmicpc.net/problem/2530\">인공지능 시계</a>"
      ],
      "metadata": {
        "id": "etcB0LPJi55P"
      }
    },
    {
      "cell_type": "code",
      "source": [
        "a,b,c=map(int,input().split())\n",
        "d=int(input())\n",
        "\n",
        "c +=d\n",
        "b +=c//60\n",
        "a +=b//60\n",
        "\n",
        "c = c%60\n",
        "b = b%60\n",
        "a = a%24\n",
        "\n",
        "print(a,b,c)"
      ],
      "metadata": {
        "colab": {
          "base_uri": "https://localhost:8080/"
        },
        "id": "thqdGbHtjBIv",
        "outputId": "0d78a09c-72d6-4559-9aa4-3e1818c9c90a"
      },
      "execution_count": 17,
      "outputs": [
        {
          "output_type": "stream",
          "name": "stdout",
          "text": [
            "23 48 59\n",
            "2515\n",
            "0 30 54\n"
          ]
        }
      ]
    },
    {
      "cell_type": "markdown",
      "source": [
        "#<a href=\"https://www.acmicpc.net/problem/10039\">평균 점수</a>"
      ],
      "metadata": {
        "id": "G0IqyFkKv3a3"
      }
    },
    {
      "cell_type": "code",
      "source": [
        "avg=[]\n",
        "for i in range(5):\n",
        "    score = int(input())\n",
        "    if score < 40:\n",
        "        score=40\n",
        "    avg.append(score)\n",
        "\n",
        "print(sum(avg)//5)\n"
      ],
      "metadata": {
        "colab": {
          "base_uri": "https://localhost:8080/"
        },
        "id": "zPv1VNZ7v-PT",
        "outputId": "88321383-212f-4d01-8908-4227527ec662"
      },
      "execution_count": 30,
      "outputs": [
        {
          "output_type": "stream",
          "name": "stdout",
          "text": [
            "10\n",
            "65\n",
            "100\n",
            "30\n",
            "95\n",
            "68\n"
          ]
        }
      ]
    },
    {
      "cell_type": "markdown",
      "source": [
        "#<a href=\"https://www.acmicpc.net/problem/2752\">세수정렬</a>"
      ],
      "metadata": {
        "id": "PfVxN0j-xWCN"
      }
    },
    {
      "cell_type": "code",
      "source": [
        "result=list(map(int,input().split()))\n",
        "\n",
        "print(' '.join(map(str,sorted(result))))"
      ],
      "metadata": {
        "colab": {
          "base_uri": "https://localhost:8080/"
        },
        "id": "e-JrdJ4uxb0j",
        "outputId": "dfc2155f-838c-4619-8d57-ff9c661ea01b"
      },
      "execution_count": 36,
      "outputs": [
        {
          "output_type": "stream",
          "name": "stdout",
          "text": [
            "3 1 2\n",
            "1 2 3\n"
          ]
        }
      ]
    },
    {
      "cell_type": "markdown",
      "source": [
        "#<a href=\"https://www.acmicpc.net/problem/5532\">방학 숙제</a>"
      ],
      "metadata": {
        "id": "MzlM_7zxykWg"
      }
    },
    {
      "cell_type": "code",
      "source": [
        "from math import ceil\n",
        "L =int(input())\n",
        "A =int(input())\n",
        "B =int(input())\n",
        "C =int(input())\n",
        "D =int(input())\n",
        "\n",
        "A=ceil(A/C)\n",
        "B=ceil(B/D)\n",
        "if A < B:\n",
        "    T = A\n",
        "    A = B \n",
        "    B = A\n",
        "print (L-A)"
      ],
      "metadata": {
        "colab": {
          "base_uri": "https://localhost:8080/"
        },
        "id": "8Neievowxb1V",
        "outputId": "53bb81b9-c771-49d1-c894-d34c9a0d7226"
      },
      "execution_count": 63,
      "outputs": [
        {
          "output_type": "stream",
          "name": "stdout",
          "text": [
            "20\n",
            "25\n",
            "30\n",
            "6\n",
            "8\n",
            "15\n"
          ]
        }
      ]
    }
  ]
}