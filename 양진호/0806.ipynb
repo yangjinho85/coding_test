{
  "nbformat": 4,
  "nbformat_minor": 0,
  "metadata": {
    "colab": {
      "name": "0806.ipynb",
      "provenance": [],
      "authorship_tag": "ABX9TyM/2oh9ES/J6faM22Qhey+A"
    },
    "kernelspec": {
      "name": "python3",
      "display_name": "Python 3"
    },
    "language_info": {
      "name": "python"
    }
  },
  "cells": [
    {
      "cell_type": "markdown",
      "source": [
        "#<a href=\"https://www.acmicpc.net/problem/3046\">R2</a>"
      ],
      "metadata": {
        "id": "vtw21LSKxRGD"
      }
    },
    {
      "cell_type": "code",
      "execution_count": 6,
      "metadata": {
        "colab": {
          "base_uri": "https://localhost:8080/"
        },
        "id": "qZ7tB5gqdY8g",
        "outputId": "e448e9a2-e455-45f0-fc81-647c022b95af"
      },
      "outputs": [
        {
          "output_type": "stream",
          "name": "stdout",
          "text": [
            "4 3\n",
            "2\n"
          ]
        }
      ],
      "source": [
        "R1,S= map(int,input().split())\n",
        "print(S*2-R1)"
      ]
    },
    {
      "cell_type": "markdown",
      "source": [
        "#<a href=\"https://www.acmicpc.net/problem/1475\">방 번호</a>\n"
      ],
      "metadata": {
        "id": "fmBbNnQd-Rnu"
      }
    },
    {
      "cell_type": "code",
      "source": [
        "import math\n",
        "\n",
        "roomnum=input()\n",
        "num=['0','1','2','3','4','5','6','7','8','9']\n",
        "check=[0]*10\n",
        "for i in range(len(roomnum)):\n",
        "    for j in range(len(num)):\n",
        "        if roomnum[i] == num[j]:\n",
        "            if roomnum[i]=='6' or roomnum[i]=='9':\n",
        "                check[6]+=0.5\n",
        "            else:\n",
        "                check[j] +=1\n",
        "print(math.ceil(max(check)))"
      ],
      "metadata": {
        "colab": {
          "base_uri": "https://localhost:8080/"
        },
        "id": "o55PAmMzyTQ9",
        "outputId": "91d3f26b-1ce6-4634-f87b-1469c7486ec0"
      },
      "execution_count": 55,
      "outputs": [
        {
          "output_type": "stream",
          "name": "stdout",
          "text": [
            "666999\n",
            "3\n"
          ]
        }
      ]
    },
    {
      "cell_type": "markdown",
      "source": [
        "#<a hef=\"https://www.acmicpc.net/problem/2490\">윷놀이</a>"
      ],
      "metadata": {
        "id": "EwPjn9DXCYuK"
      }
    },
    {
      "cell_type": "code",
      "source": [
        "for _ in range(3):\n",
        "    play=list(input().split())\n",
        "    if play.count('0') ==1:\n",
        "        print(\"A\")\n",
        "    elif play.count('0') ==2:\n",
        "        print(\"B\")\n",
        "    elif play.count('0') ==3:\n",
        "        print(\"C\")\n",
        "    elif play.count('0') ==4:\n",
        "        print(\"D\")\n",
        "    else:\n",
        "        print(\"E\")\n"
      ],
      "metadata": {
        "colab": {
          "base_uri": "https://localhost:8080/"
        },
        "id": "tgRYzjOV4M65",
        "outputId": "133c0924-317d-4958-826a-5bc42ace5df3"
      },
      "execution_count": 59,
      "outputs": [
        {
          "output_type": "stream",
          "name": "stdout",
          "text": [
            "0 1 0 1\n",
            "B\n",
            "1 1 1 0\n",
            "A\n",
            "0 0 1 1\n",
            "B\n"
          ]
        }
      ]
    },
    {
      "cell_type": "markdown",
      "source": [
        "#<a href=\"https://www.acmicpc.net/problem/2442\">별 찍기 -5</a>\n"
      ],
      "metadata": {
        "id": "CsKenXvACw57"
      }
    },
    {
      "cell_type": "code",
      "source": [
        "n=int(input())\n",
        "for i in range(n):\n",
        "    print(' '*(n-i-1),end='')\n",
        "    print('*'*(i+(i+1)))\n",
        "    "
      ],
      "metadata": {
        "colab": {
          "base_uri": "https://localhost:8080/"
        },
        "id": "9qk9ceKbAcNC",
        "outputId": "364fb8c2-9153-40db-f264-8ca4d4b4dcdc"
      },
      "execution_count": 80,
      "outputs": [
        {
          "output_type": "stream",
          "name": "stdout",
          "text": [
            "    *\n",
            "   ***\n",
            "  *****\n",
            " *******\n",
            "*********\n"
          ]
        }
      ]
    },
    {
      "cell_type": "markdown",
      "source": [
        "#<a href=\"https://www.acmicpc.net/problem/2443\">별 찍기 -6</a>"
      ],
      "metadata": {
        "id": "9Gb1QANOORTL"
      }
    },
    {
      "cell_type": "code",
      "source": [
        "n=int(input())\n",
        "for i in range(n,0,-1):\n",
        "    \n",
        "    print(' '*(n-i),end='')\n",
        "    print('*'*(i+i-1))"
      ],
      "metadata": {
        "colab": {
          "base_uri": "https://localhost:8080/"
        },
        "id": "hDS41YoqGqds",
        "outputId": "ec0e445e-91a2-46d8-899f-9d64cf3ce1ec"
      },
      "execution_count": 93,
      "outputs": [
        {
          "output_type": "stream",
          "name": "stdout",
          "text": [
            "5\n",
            "*********\n",
            " *******\n",
            "  *****\n",
            "   ***\n",
            "    *\n"
          ]
        }
      ]
    },
    {
      "cell_type": "markdown",
      "source": [
        "#<a href=\"https://www.acmicpc.net/problem/2444\">별 찍기 -7</a>"
      ],
      "metadata": {
        "id": "kxjSsRjMOk4I"
      }
    },
    {
      "cell_type": "code",
      "source": [
        "n=int(input())\n",
        "for i in range(n):\n",
        "    print(' '*(n-i-1),end='')\n",
        "    print('*'*(i+(i+1)))\n",
        "    \n",
        "for i in range(n-1,0,-1):    \n",
        "    print(' '*(n-i),end='')\n",
        "    print('*'*(i+i-1))"
      ],
      "metadata": {
        "colab": {
          "base_uri": "https://localhost:8080/"
        },
        "id": "jLydOxfQGv59",
        "outputId": "0d0d3227-4336-4a78-c4c2-19471a68a9d5"
      },
      "execution_count": 95,
      "outputs": [
        {
          "output_type": "stream",
          "name": "stdout",
          "text": [
            "5\n",
            "    *\n",
            "   ***\n",
            "  *****\n",
            " *******\n",
            "*********\n",
            " *******\n",
            "  *****\n",
            "   ***\n",
            "    *\n"
          ]
        }
      ]
    },
    {
      "cell_type": "markdown",
      "source": [
        "#<a href=\"https://www.acmicpc.net/problem/2445\">별 찍기 -8</a>"
      ],
      "metadata": {
        "id": "7qfBDvkVOyLe"
      }
    },
    {
      "cell_type": "code",
      "source": [
        "N=int(input())\n",
        "for i in range(1,N+1):\n",
        "    print('*'*i,end='')\n",
        "    print(' '*(N-i),end='')\n",
        "    print(' '*(N-i),end='')\n",
        "    print('*'*i)\n",
        "for i in reversed(range(1,N)):\n",
        "    print('*'*i,end='')\n",
        "    print(' '*(N-i),end='')\n",
        "    print(' '*(N-i),end='')\n",
        "    print('*'*i)\n",
        "    "
      ],
      "metadata": {
        "colab": {
          "base_uri": "https://localhost:8080/"
        },
        "id": "lD2XcQ9TIIjr",
        "outputId": "9b947c48-f3cb-44ce-d4df-570e18dc4571"
      },
      "execution_count": 103,
      "outputs": [
        {
          "output_type": "stream",
          "name": "stdout",
          "text": [
            "5\n",
            "*        *\n",
            "**      **\n",
            "***    ***\n",
            "****  ****\n",
            "**********\n",
            "****  ****\n",
            "***    ***\n",
            "**      **\n",
            "*        *\n"
          ]
        }
      ]
    },
    {
      "cell_type": "markdown",
      "source": [
        "#<a href=\"https://www.acmicpc.net/problem/2446\">별 찍기 -9</a>"
      ],
      "metadata": {
        "id": "VOxHLckuO4J1"
      }
    },
    {
      "cell_type": "code",
      "source": [
        "n=int(input())\n",
        "for i in range(n,0,-1):    \n",
        "    print(' '*(n-i),end='')\n",
        "    print('*'*(i+i-1))\n",
        "for i in reversed(range(n,1,-1)):    \n",
        "    print(' '*(n-i),end='')\n",
        "    print('*'*(i+i-1))"
      ],
      "metadata": {
        "colab": {
          "base_uri": "https://localhost:8080/"
        },
        "id": "CSnrCGOzJVLp",
        "outputId": "62359d6f-330a-47ee-fa4e-54040831e906"
      },
      "execution_count": 105,
      "outputs": [
        {
          "output_type": "stream",
          "name": "stdout",
          "text": [
            "5\n",
            "*********\n",
            " *******\n",
            "  *****\n",
            "   ***\n",
            "    *\n",
            "   ***\n",
            "  *****\n",
            " *******\n",
            "*********\n"
          ]
        }
      ]
    },
    {
      "cell_type": "markdown",
      "source": [
        "#<a href=\"https://www.acmicpc.net/problem/2522\">별 찍기 -12</a>"
      ],
      "metadata": {
        "id": "jSuJsEuiO9ps"
      }
    },
    {
      "cell_type": "code",
      "source": [
        "N=int(input())\n",
        "for i in range(1,N+1):\n",
        "    print(' '*(N-i),end='')\n",
        "    print('*'*i)\n",
        "for i in reversed(range(1,N)):\n",
        "    print(' '*(N-i),end='')\n",
        "    print('*'*i)"
      ],
      "metadata": {
        "colab": {
          "base_uri": "https://localhost:8080/"
        },
        "id": "qrZOSzlYLbEE",
        "outputId": "9685ed79-c29f-40be-ff74-15a670780acd"
      },
      "execution_count": 108,
      "outputs": [
        {
          "output_type": "stream",
          "name": "stdout",
          "text": [
            "  *\n",
            " **\n",
            "***\n",
            " **\n",
            "  *\n"
          ]
        }
      ]
    },
    {
      "cell_type": "markdown",
      "source": [
        "#<a href=\"https://www.acmicpc.net/problem/2523\">별 찍기 -13</a>"
      ],
      "metadata": {
        "id": "Z6AzsGmzPGdh"
      }
    },
    {
      "cell_type": "code",
      "source": [
        "N=int(input())\n",
        "for i in range(1,N+1):\n",
        "    print('*'*i)\n",
        "    \n",
        "for i in reversed(range(1,N)):\n",
        "    print('*'*i)"
      ],
      "metadata": {
        "colab": {
          "base_uri": "https://localhost:8080/"
        },
        "id": "wALEMprHMABp",
        "outputId": "5bb2579c-055f-4952-f573-646f0515a74c"
      },
      "execution_count": 109,
      "outputs": [
        {
          "output_type": "stream",
          "name": "stdout",
          "text": [
            "3\n",
            "*\n",
            "**\n",
            "***\n",
            "**\n",
            "*\n"
          ]
        }
      ]
    },
    {
      "cell_type": "markdown",
      "source": [
        "#<a href=\"https://www.acmicpc.net/problem/2556\">별 찍기 -14</a>"
      ],
      "metadata": {
        "id": "_T3lQ9g2PJWb"
      }
    },
    {
      "cell_type": "code",
      "source": [
        "N=int(input())\n",
        "for i in range(1,N+1):\n",
        "    print(\"*\"*N)\n",
        "  "
      ],
      "metadata": {
        "colab": {
          "base_uri": "https://localhost:8080/"
        },
        "id": "EcGKC9pXMkJq",
        "outputId": "1eca89e5-0374-4171-c72c-981b6e3a8ac6"
      },
      "execution_count": 120,
      "outputs": [
        {
          "output_type": "stream",
          "name": "stdout",
          "text": [
            "3\n",
            "***\n",
            "***\n",
            "***\n"
          ]
        }
      ]
    }
  ]
}