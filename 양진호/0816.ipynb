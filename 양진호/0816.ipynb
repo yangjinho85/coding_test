{
  "nbformat": 4,
  "nbformat_minor": 0,
  "metadata": {
    "colab": {
      "name": "0816.ipynb",
      "provenance": [],
      "authorship_tag": "ABX9TyO58VSe/ygvNJJl9VbFwjLE"
    },
    "kernelspec": {
      "name": "python3",
      "display_name": "Python 3"
    },
    "language_info": {
      "name": "python"
    },
    "accelerator": "GPU",
    "gpuClass": "standard"
  },
  "cells": [
    {
      "cell_type": "markdown",
      "source": [
        "#<a href=\"https://www.acmicpc.net/problem/25305\">커트라인</a>"
      ],
      "metadata": {
        "id": "0uhU5PjbX0hP"
      }
    },
    {
      "cell_type": "code",
      "execution_count": 2,
      "metadata": {
        "colab": {
          "base_uri": "https://localhost:8080/"
        },
        "id": "FSF1HoVyWjjN",
        "outputId": "01814526-307b-4390-f2c1-a516d630801c"
      },
      "outputs": [
        {
          "output_type": "stream",
          "name": "stdout",
          "text": [
            "5 2\n",
            "100 76 85 93 98\n",
            "98\n"
          ]
        }
      ],
      "source": [
        "N,K = map(int,input().split())\n",
        "test=list(map(int,input().split()))\n",
        "\n",
        "test = sorted(test,reverse=False)\n",
        "print(test[-K])"
      ]
    }
  ]
}