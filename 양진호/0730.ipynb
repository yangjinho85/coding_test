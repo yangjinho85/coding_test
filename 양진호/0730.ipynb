{
  "nbformat": 4,
  "nbformat_minor": 0,
  "metadata": {
    "colab": {
      "name": "0730.ipynb",
      "provenance": [],
      "collapsed_sections": [],
      "authorship_tag": "ABX9TyOQqlkwZSJkGRy3YafyFOCE"
    },
    "kernelspec": {
      "name": "python3",
      "display_name": "Python 3"
    },
    "language_info": {
      "name": "python"
    }
  },
  "cells": [
    {
      "cell_type": "markdown",
      "source": [
        "# 네 번째 점\n",
        "https://www.acmicpc.net/problem/3009"
      ],
      "metadata": {
        "id": "S3lcMjhVi-DS"
      }
    },
    {
      "cell_type": "code",
      "execution_count": null,
      "metadata": {
        "id": "_Sgv5vKue-l7"
      },
      "outputs": [],
      "source": [
        "#case1\n",
        "\n",
        "xlist=[]\n",
        "ylist=[]\n",
        "for i in range(3):\n",
        "    x,y=map(int,input().split())\n",
        "    if x in xlist:\n",
        "        xlist.remove(x)\n",
        "    else:\n",
        "        xlist.append(x)\n",
        "\n",
        "    if y in ylist:\n",
        "        ylist.remove(y)\n",
        "    else:\n",
        "        ylist.append(y)\n",
        "print(xlist[0],ylist[0])\n",
        "\n",
        "#case2\n",
        "\n",
        "xlist=[0]*3\n",
        "ylist=[0]*3\n",
        "for i in range(3):\n",
        "    xlist[i],ylist[i] = map(int,input().split())   \n",
        "\n",
        "x = xlist[0]^xlist[1]^xlist[2]\n",
        "y = ylist[0]^ylist[1]^ylist[2]\n",
        "\n",
        "print(x,y)"
      ]
    },
    {
      "cell_type": "markdown",
      "source": [
        "#알파벳 개수\n",
        "https://www.acmicpc.net/problem/10808"
      ],
      "metadata": {
        "id": "yU2NkIpvjCNR"
      }
    },
    {
      "cell_type": "code",
      "source": [
        "S = input()\n",
        "alpha=[0]\n",
        "alpha=alpha*26\n",
        "for i in range(len(S)):\n",
        "    alpha[int(ord(S[i])-97)]+=1\n",
        "for i in alpha:\n",
        "    print(i,end=' ')"
      ],
      "metadata": {
        "id": "WfnBtsz1jEUn"
      },
      "execution_count": null,
      "outputs": []
    },
    {
      "cell_type": "markdown",
      "source": [
        "#N번째 큰 수\n",
        "https://www.acmicpc.net/problem/2693"
      ],
      "metadata": {
        "id": "dpsn99o9jF7x"
      }
    },
    {
      "cell_type": "code",
      "source": [
        "T = int(input())\n",
        "A=[]\n",
        "for i in range(T):\n",
        "    A = map(int,input().split())\n",
        "    print(sorted(A,reverse=True)[2])"
      ],
      "metadata": {
        "id": "HDBTnlDajHV5"
      },
      "execution_count": null,
      "outputs": []
    }
  ]
}