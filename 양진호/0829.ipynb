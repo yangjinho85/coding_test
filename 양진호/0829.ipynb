{
  "nbformat": 4,
  "nbformat_minor": 0,
  "metadata": {
    "colab": {
      "name": "0829.ipynb",
      "provenance": [],
      "authorship_tag": "ABX9TyNGc1NZ+p1B1cThPvunuCBr"
    },
    "kernelspec": {
      "name": "python3",
      "display_name": "Python 3"
    },
    "language_info": {
      "name": "python"
    }
  },
  "cells": [
    {
      "cell_type": "markdown",
      "source": [
        "#<a href=\"https://www.acmicpc.net/problem/10988\">팰린드롬인지 확인하기</a>"
      ],
      "metadata": {
        "id": "t6--VSKYWdQl"
      }
    },
    {
      "cell_type": "code",
      "execution_count": 43,
      "metadata": {
        "colab": {
          "base_uri": "https://localhost:8080/"
        },
        "id": "xL5HSpa7OjIA",
        "outputId": "33843cad-4437-4e34-cb39-185930be2b8a"
      },
      "outputs": [
        {
          "output_type": "stream",
          "name": "stdout",
          "text": [
            "level\n",
            "1\n"
          ]
        }
      ],
      "source": [
        "word=input()\n",
        "\n",
        "if word == (\"\".join(reversed(word))):\n",
        "    print(1)\n",
        "else:\n",
        "    print(0)"
      ]
    },
    {
      "cell_type": "markdown",
      "source": [
        "#<a href=\"https://www.acmicpc.net/problem/2605\">줄 세우기</a>"
      ],
      "metadata": {
        "id": "fVSIvAZYfNy7"
      }
    },
    {
      "cell_type": "code",
      "source": [
        "n=int(input())\n",
        "std=list(map(int,input().split()))\n",
        "order=[]\n",
        "for i in range(n):\n",
        "    order.insert(std[i],i+1)\n",
        "    print(order)\n",
        "print(*order[::-1])"
      ],
      "metadata": {
        "colab": {
          "base_uri": "https://localhost:8080/"
        },
        "id": "l8cuSfsBWLiS",
        "outputId": "18d42fac-313c-4306-89e7-43f57479af43"
      },
      "execution_count": 106,
      "outputs": [
        {
          "output_type": "stream",
          "name": "stdout",
          "text": [
            "5\n",
            "0 1 1 3 2\n",
            "[1]\n",
            "[1, 2]\n",
            "[1, 3, 2]\n",
            "[1, 3, 2, 4]\n",
            "[1, 3, 5, 2, 4]\n",
            "4 2 5 3 1\n"
          ]
        }
      ]
    },
    {
      "cell_type": "markdown",
      "source": [
        "#<a href=\"https://www.acmicpc.net/problem/1977\">완전제곱수</a>"
      ],
      "metadata": {
        "id": "BscTtgzCfS1L"
      }
    },
    {
      "cell_type": "code",
      "source": [
        "m=int(input())\n",
        "n=int(input())\n",
        "num=0\n",
        "result=[]\n",
        "x=0\n",
        "while x<= n:\n",
        "    num+=1\n",
        "    if m <= num**2 <=n:\n",
        "        result.append(num**2)\n",
        "    x = num**2\n",
        "\n",
        "if not result:\n",
        "    print(-1)\n",
        "else:\n",
        "    print(sum(result))\n",
        "    print(result[0])"
      ],
      "metadata": {
        "colab": {
          "base_uri": "https://localhost:8080/"
        },
        "id": "PiDkjQ0wcXyx",
        "outputId": "fd86cf61-b682-46af-bbb2-950e0680fc82"
      },
      "execution_count": 124,
      "outputs": [
        {
          "output_type": "stream",
          "name": "stdout",
          "text": [
            "60\n",
            "100\n",
            "245\n",
            "64\n"
          ]
        }
      ]
    },
    {
      "cell_type": "markdown",
      "source": [
        "#<a href=\"https://www.acmicpc.net/problem/1357\">뒤집힌 덧셈</a>"
      ],
      "metadata": {
        "id": "obGWu4Vbkrop"
      }
    },
    {
      "cell_type": "code",
      "source": [
        "x,y=map(int,input().split())\n",
        "print(int(\"\".join(reversed(str(int((\"\".join(reversed(str(x))))) + int((\"\".join(reversed(str(y))))))))))"
      ],
      "metadata": {
        "colab": {
          "base_uri": "https://localhost:8080/"
        },
        "id": "rjfH8DmRh3bt",
        "outputId": "6b968518-123d-430f-8445-ab8496666630"
      },
      "execution_count": 136,
      "outputs": [
        {
          "output_type": "stream",
          "name": "stdout",
          "text": [
            "123 100\n",
            "223\n"
          ]
        }
      ]
    },
    {
      "cell_type": "markdown",
      "source": [
        "#<a href=\"https://www.acmicpc.net/problem/10093\">숫자</a>"
      ],
      "metadata": {
        "id": "JNfObVLArl9r"
      }
    },
    {
      "cell_type": "code",
      "source": [
        "a,b=map(int,input().split())\n",
        "count=0\n",
        "side=[]\n",
        "if a>b:\n",
        "    temp=a\n",
        "    a=b\n",
        "    b=temp\n",
        "for i in range(a+1,b):\n",
        "    count+=1\n",
        "    side.append(i)\n",
        "print(count)\n",
        "print(*side)"
      ],
      "metadata": {
        "colab": {
          "base_uri": "https://localhost:8080/"
        },
        "id": "7o3_ADRylA-r",
        "outputId": "372641ca-7aa6-4c58-d01b-9fbd49049d5a"
      },
      "execution_count": 149,
      "outputs": [
        {
          "output_type": "stream",
          "name": "stdout",
          "text": [
            "14 8\n",
            "5\n",
            "9 10 11 12 13\n"
          ]
        }
      ]
    },
    {
      "cell_type": "code",
      "source": [],
      "metadata": {
        "id": "2yhMzR3alOO7"
      },
      "execution_count": 137,
      "outputs": []
    },
    {
      "cell_type": "code",
      "source": [],
      "metadata": {
        "id": "HnpeE1Lpox-o"
      },
      "execution_count": null,
      "outputs": []
    },
    {
      "cell_type": "code",
      "source": [],
      "metadata": {
        "id": "AxLr61STozdA"
      },
      "execution_count": null,
      "outputs": []
    }
  ]
}