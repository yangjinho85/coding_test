{
  "nbformat": 4,
  "nbformat_minor": 0,
  "metadata": {
    "colab": {
      "name": "0824.ipynb",
      "provenance": [],
      "authorship_tag": "ABX9TyPquPG6/jKCjznsvx8A96yw"
    },
    "kernelspec": {
      "name": "python3",
      "display_name": "Python 3"
    },
    "language_info": {
      "name": "python"
    }
  },
  "cells": [
    {
      "cell_type": "markdown",
      "source": [
        "#<a href=\"https://www.acmicpc.net/problem/10886\">0 = not cute / 1 = cute</a>"
      ],
      "metadata": {
        "id": "EaJFmLc_jYtw"
      }
    },
    {
      "cell_type": "code",
      "execution_count": 1,
      "metadata": {
        "colab": {
          "base_uri": "https://localhost:8080/"
        },
        "id": "skKQJnJYiK0i",
        "outputId": "a5225a7f-c201-41d7-c566-e2fac8066555"
      },
      "outputs": [
        {
          "output_type": "stream",
          "name": "stdout",
          "text": [
            "1\n",
            "0\n",
            "0\n",
            "Junhee is not cute!\n"
          ]
        }
      ],
      "source": [
        "n=int(input())\n",
        "cute=[]\n",
        "for i in range(n):\n",
        "    a=int(input())\n",
        "    cute.append(a)\n",
        "if cute.count(0)>cute.count(1):\n",
        "    print(\"Junhee is not cute!\")\n",
        "else:\n",
        "    print(\"Junhee is cute!\")"
      ]
    },
    {
      "cell_type": "markdown",
      "source": [
        "#<a href=\"https://www.acmicpc.net/problem/2935\">소음</a>"
      ],
      "metadata": {
        "id": "HQSVLkFurW28"
      }
    },
    {
      "cell_type": "code",
      "source": [
        "num=[]\n",
        "for i in range(3):\n",
        "    num.append(input())\n",
        "if num[1]=='*':\n",
        "    print(int(num[0])*int(num[2]))\n",
        "else:\n",
        "    print(int(num[0])+int(num[2]))"
      ],
      "metadata": {
        "colab": {
          "base_uri": "https://localhost:8080/"
        },
        "id": "tw50ovn2kPxF",
        "outputId": "bb64c7f4-52d2-478d-9453-e71baff1372a"
      },
      "execution_count": 9,
      "outputs": [
        {
          "output_type": "stream",
          "name": "stdout",
          "text": [
            "10000\n",
            "*\n",
            "10\n",
            "100000\n"
          ]
        }
      ]
    },
    {
      "cell_type": "code",
      "source": [
        ""
      ],
      "metadata": {
        "id": "_o2AEELcpkeR"
      },
      "execution_count": null,
      "outputs": []
    }
  ]
}