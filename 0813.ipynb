{
  "nbformat": 4,
  "nbformat_minor": 0,
  "metadata": {
    "colab": {
      "name": "0813.ipynb",
      "provenance": [],
      "authorship_tag": "ABX9TyPabifeoGpNohTsZ4YxizUg"
    },
    "kernelspec": {
      "name": "python3",
      "display_name": "Python 3"
    },
    "language_info": {
      "name": "python"
    }
  },
  "cells": [
    {
      "cell_type": "markdown",
      "source": [
        "#<a href=\"https://www.acmicpc.net/problem/2839\">설탕 배달</a>"
      ],
      "metadata": {
        "id": "14mb0UlY2oxQ"
      }
    },
    {
      "cell_type": "code",
      "execution_count": 48,
      "metadata": {
        "colab": {
          "base_uri": "https://localhost:8080/"
        },
        "id": "qRyQEj312Ggl",
        "outputId": "9daca807-9800-4bcd-c05b-f137a4b87e93"
      },
      "outputs": [
        {
          "output_type": "stream",
          "name": "stdout",
          "text": [
            "4\n",
            "-1\n"
          ]
        }
      ],
      "source": [
        "N=int(input())\n",
        "count=0\n",
        "\n",
        "while N>=0:\n",
        "    if N % 5 ==0:\n",
        "        count += (N//5)\n",
        "        N = N%5\n",
        "        break\n",
        "    \n",
        "    N -=3\n",
        "    count +=1\n",
        "if N==0:\n",
        "    print(count)\n",
        "else:\n",
        "    print(-1)"
      ]
    },
    {
      "cell_type": "markdown",
      "source": [
        "#<a href=\"https://www.acmicpc.net/problem/14720\">우유 축제</a>"
      ],
      "metadata": {
        "id": "wgTuOdmrBSEi"
      }
    },
    {
      "cell_type": "code",
      "source": [
        "N=int(input())\n",
        "milk = list(map(int,input().split()))\n",
        "count=0\n",
        "\n",
        "for i in range(len(milk)):\n",
        "    if milk[i]== count%3:\n",
        "        count+=1\n",
        "print(count)"
      ],
      "metadata": {
        "colab": {
          "base_uri": "https://localhost:8080/"
        },
        "id": "DA5X6uZM3M3K",
        "outputId": "22acab27-ea98-4c5b-de33-4485a5d245ee"
      },
      "execution_count": 59,
      "outputs": [
        {
          "output_type": "stream",
          "name": "stdout",
          "text": [
            "7\n",
            "0 1 2 0 1 2 0\n",
            "7\n"
          ]
        }
      ]
    },
    {
      "cell_type": "markdown",
      "source": [
        "#<a href=\"https://www.acmicpc.net/problem/22864\">피로도</a>"
      ],
      "metadata": {
        "id": "XyZ0MH22BXox"
      }
    },
    {
      "cell_type": "code",
      "source": [
        "A,B,C,M = map(int,input().split())\n",
        "count=0\n",
        "p=0\n",
        "for i in range(24):\n",
        "    if p+A >M:\n",
        "        if C>p:\n",
        "            p=0\n",
        "        else:\n",
        "            p-=C\n",
        "    elif A>M:\n",
        "        count=0\n",
        "    else:\n",
        "        p +=A\n",
        "        count+=1\n",
        "\n",
        "print(count*B)"
      ],
      "metadata": {
        "colab": {
          "base_uri": "https://localhost:8080/"
        },
        "id": "P1OuWpVl4GuH",
        "outputId": "456d0ad9-e66d-44f0-d7fc-082ff2e6d576"
      },
      "execution_count": 72,
      "outputs": [
        {
          "output_type": "stream",
          "name": "stdout",
          "text": [
            "10 5 100 10\n",
            "60\n"
          ]
        }
      ]
    },
    {
      "cell_type": "markdown",
      "source": [
        "#<a href=\"https://www.acmicpc.net/problem/11034\">캥거루 세마리2</a>"
      ],
      "metadata": {
        "id": "pEdzp5BCEoRO"
      }
    },
    {
      "cell_type": "code",
      "source": [
        "while True:\n",
        "    try:\n",
        "        a,b,c = map(int,input().split())\n",
        "        d=abs(b-a)\n",
        "        f=abs(b-c)\n",
        "        if d>f:\n",
        "            print(d-1)\n",
        "        else:\n",
        "            print(f-1)\n",
        "    except:\n",
        "        exit()"
      ],
      "metadata": {
        "id": "NMRGUi-UBtsg"
      },
      "execution_count": null,
      "outputs": []
    },
    {
      "cell_type": "code",
      "source": [
        ""
      ],
      "metadata": {
        "id": "mjlTIyiFOsll"
      },
      "execution_count": null,
      "outputs": []
    }
  ]
}